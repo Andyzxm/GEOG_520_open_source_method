{
  "nbformat": 4,
  "nbformat_minor": 0,
  "metadata": {
    "colab": {
      "provenance": [],
      "authorship_tag": "ABX9TyMAb2UCAvwijRwdzamhQadr",
      "include_colab_link": true
    },
    "kernelspec": {
      "name": "python3",
      "display_name": "Python 3"
    },
    "language_info": {
      "name": "python"
    }
  },
  "cells": [
    {
      "cell_type": "markdown",
      "metadata": {
        "id": "view-in-github",
        "colab_type": "text"
      },
      "source": [
        "<a href=\"https://colab.research.google.com/github/Andyzxm/GEOG_520_open_source_method/blob/main/A3_Xinming_Zhang.ipynb\" target=\"_parent\"><img src=\"https://colab.research.google.com/assets/colab-badge.svg\" alt=\"Open In Colab\"/></a>"
      ]
    },
    {
      "cell_type": "code",
      "execution_count": null,
      "metadata": {
        "colab": {
          "base_uri": "https://localhost:8080/"
        },
        "id": "uIlG-KUrJ6GI",
        "outputId": "785fa122-55b4-4e88-a1ac-6707b6fbaf89"
      },
      "outputs": [
        {
          "output_type": "stream",
          "name": "stdout",
          "text": [
            "andy zhang\n"
          ]
        }
      ],
      "source": [
        "#Task 1: Create a function that will accept two words and concatenate them to a single string with a space between the two words.\n",
        "#Test the function on two string variables. \n",
        "def function(a,b):\n",
        "    return a + \" \" + b \n",
        "x= function(\"andy\",\"zhang\")\n",
        "print(x)"
      ]
    },
    {
      "cell_type": "code",
      "source": [
        "#Task 2: Edit your function so that it will accept two or more words, concatenate them withspaces, and return the new, single string.\n",
        "def function2(*args):\n",
        "    x1 = args[0]\n",
        "    x2 = args[1:]\n",
        "    for a in x2:\n",
        "       x1 = x1 + \" \" + a \n",
        "    return x1\n",
        "\n",
        "x = function2(\"Andy\", \"Zhang\", \"is\", \"not\", \"good\", \"at\", \"python\")\n",
        "print(x) "
      ],
      "metadata": {
        "colab": {
          "base_uri": "https://localhost:8080/"
        },
        "id": "7I1CqwsStynD",
        "outputId": "60c0a1b9-d507-48bf-f1d1-6d64b0fd0ef2"
      },
      "execution_count": null,
      "outputs": [
        {
          "output_type": "stream",
          "name": "stdout",
          "text": [
            "Andy Zhang is not good at python\n"
          ]
        }
      ]
    },
    {
      "cell_type": "code",
      "source": [
        "#Task 3 Create a function that will calculate the length of the hypotenuse of a triangle if given the length of the other two sides\n",
        "\n",
        "import math as m \n",
        "def tri(a,b):\n",
        "  c= m.sqrt(a**2 + b**2)\n",
        "  return c\n",
        "\n",
        "x1 = tri(3,4)\n",
        "print(x1)"
      ],
      "metadata": {
        "id": "xuYn4IqU3kKy",
        "colab": {
          "base_uri": "https://localhost:8080/"
        },
        "outputId": "be5e2381-ce33-4453-e964-d5570e800aad"
      },
      "execution_count": null,
      "outputs": [
        {
          "output_type": "stream",
          "name": "stdout",
          "text": [
            "5.0\n"
          ]
        }
      ]
    },
    {
      "cell_type": "code",
      "source": [
        "\n",
        "#Task 4 Write a function that will convert a Celsius temperature measurement to Fahrenheit or a Fahrenheit measurement to Celsius\n",
        "def tempConvert(value,units):\n",
        "  if units == \"F\":\n",
        "    temp = (5/9)*(value-32)\n",
        "  else:\n",
        "    temp = ((9/5)*value) + 32\n",
        "  return temp\n",
        "\n",
        "print(tempConvert(0,\"C\"))\n",
        "print(tempConvert(31, \"F\"))\n"
      ],
      "metadata": {
        "colab": {
          "base_uri": "https://localhost:8080/"
        },
        "id": "RmfsbZWnJM7L",
        "outputId": "2df9b7ac-4692-481c-f4e2-0660606de466"
      },
      "execution_count": null,
      "outputs": [
        {
          "output_type": "stream",
          "name": "stdout",
          "text": [
            "32.0\n",
            "-0.5555555555555556\n"
          ]
        }
      ]
    },
    {
      "cell_type": "code",
      "source": [
        "#Task 5 Expand your function above so that you can convert Fahrenheit, Celsius, or Kelvin toany of the two other scales. \n",
        "#It should accept the temperature, the current units, and the desired 2 units and return the new temperature\n",
        "\n",
        "def tempcon(value, uin, uout):\n",
        "  if (uin==\"F\") & (uout == \"C\"):\n",
        "    temp = (5/9)*(value-32)\n",
        "  elif ( uin== \"C\") & (uout == \"F\"):\n",
        "    temp = ((9/5)*value) + 32\n",
        "  elif (uin == \"C\") & (uout== \"k\"):\n",
        "    temp = value + 273.15\n",
        "  elif ( uin == \"k\") & (uout== \"F\"):\n",
        "    temp = ((9/5)* (273.15 - value)) + 32\n",
        "  elif (uin == \"F\") &(uout== \"K\"):\n",
        "    temp= ((5/9)*(value-32)) +273.15\n",
        "  elif(uin ==\"K\")& (uout == \"C\"):\n",
        "    temp= value - 273.15\n",
        "  return temp\n",
        "print(tempcon(0, \"C\", \"F\"))\n",
        "print(tempcon(31, \"F\", \"C\"))\n",
        "print(tempcon(273.15, \"K\", \"C\"))"
      ],
      "metadata": {
        "colab": {
          "base_uri": "https://localhost:8080/"
        },
        "id": "G5Q-H8joPPRf",
        "outputId": "8722a486-2283-4054-a11a-3f69ed1dcdb6"
      },
      "execution_count": null,
      "outputs": [
        {
          "output_type": "stream",
          "name": "stdout",
          "text": [
            "32.0\n",
            "-0.5555555555555556\n",
            "0.0\n"
          ]
        }
      ]
    }
  ]
}
