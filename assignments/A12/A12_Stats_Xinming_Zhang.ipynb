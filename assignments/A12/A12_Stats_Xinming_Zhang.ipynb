{
  "nbformat": 4,
  "nbformat_minor": 0,
  "metadata": {
    "colab": {
      "provenance": [],
      "mount_file_id": "1k6itGm5ZSw5krVCQ8XMXj9gHAtjkxrYx",
      "authorship_tag": "ABX9TyNfgDL2PDPr5m5gkVmzBsbZ",
      "include_colab_link": true
    },
    "kernelspec": {
      "name": "python3",
      "display_name": "Python 3"
    },
    "language_info": {
      "name": "python"
    }
  },
  "cells": [
    {
      "cell_type": "markdown",
      "metadata": {
        "id": "view-in-github",
        "colab_type": "text"
      },
      "source": [
        "<a href=\"https://colab.research.google.com/github/Andyzxm/GEOG_520_open_source_method/blob/main/A12_Stats_Xinming_Zhang.ipynb\" target=\"_parent\"><img src=\"https://colab.research.google.com/assets/colab-badge.svg\" alt=\"Open In Colab\"/></a>"
      ]
    },
    {
      "cell_type": "markdown",
      "source": [
        "Question 1. Explain the difference between a linear correlation and a monotonic\n",
        "correlation.\n",
        "A: Linear correlation is one of the basic correlation relationships, and a linear relationship is a trend in the data that can be modeled by a straight line. Monotonic correlation is similar in terms of the variables that tend to move in the same relative direction, but not necessarily at a constant rate. Therefore the visual representation of monotonic correlation is not linear. \n"
      ],
      "metadata": {
        "id": "fWvpRXTlMWHH"
      }
    },
    {
      "cell_type": "markdown",
      "source": [
        "Question 2. Explain the difference between the Pearson and Spearman correlation\n",
        "coefficients?\n",
        "A: Pearson correlation is the measure of linear correlation between two variables. It is strictly for linear correlation and normally represented as a normal distribution. Spearman correlation is the measure of monotonic correlation based on ranks. It does not look at the values but the ranks of the values. Assumes It represents a tread that goes in one direction. "
      ],
      "metadata": {
        "id": "0aUsUCwzMWMe"
      }
    },
    {
      "cell_type": "markdown",
      "source": [
        "Question 3. Relating to the Periodic Table, explain the following terms: Period, Group,\n",
        "Atomic Number, Atomic Mass, and Atomic Radius\n",
        "\n",
        "A: \n",
        "-Periods are the horizontal rows of the periodic table; each period corresponds to the successive occupation of orbitals in an atom's valence shell, while long periods correspond to orbitals in a subshell of the atom.\n",
        "\n",
        "-A group is a column in the periodic table that has atoms with identical valence electron counts and identical valence vacancies.\n",
        "\n",
        "-The atomic number is the number of a chemical element in the periodic system.\n",
        "\n",
        "-The atomic mass is the quantity of matter contained in an atom of an element.\n",
        "\n",
        "-The atomic radius of a chemical element is a measure of the size of its atom. \n",
        "\n",
        "---\n",
        "\n"
      ],
      "metadata": {
        "id": "9WWj9M1pNYz6"
      }
    },
    {
      "cell_type": "markdown",
      "source": [
        "Question 4. Relating to the Periodic Table, explain the following terms: Proton,\n",
        "Neutron, Electron, Valence Electron, Electron Shell, and Isotope\n",
        "\n",
        "Proton: It is a positively charged particle located in the nucleus of an atom. Protons can affect the structure of a molecule and bonding between atoms, based on its positive attraction forces.\n",
        "\n",
        "Neutron: It is a non-ionized particle (no charge) located in the nucleus of an atom. Neutrons are the primary particle that influences the mass of an atom.\n",
        "\n",
        "Electron: It is a negatively charged particle that circles the nucleus of an atom. Electrons are also the particles that atoms share when they form bonds with each other.\n",
        "\n",
        "Valence Electron: It is  an electron in the outer shell associated with an atom, and that can participate in the formation of a chemical bond if the outer shell is not closed. \n",
        "\n",
        "Electron Shell: It is regions surrounding the atomic nucleus containing a specific number of electrons\n",
        "\n",
        "Isotope: They are atoms of a chemical element with the same atomic number and position in the periodic table and nearly identical chemical behaviour but with different atomic masses and physical properties\n",
        "\n"
      ],
      "metadata": {
        "id": "FI_hKVq3NkRn"
      }
    },
    {
      "cell_type": "markdown",
      "source": [
        "Question 5. Relating to the Periodic Table, explain the following terms: First Ionization Energy and Electronegativity\n",
        "First Inoization Energy: Energy required to strip first electron from netrual atom. \n",
        "Electronegativity: How well electrons are attached to the atom."
      ],
      "metadata": {
        "id": "lizOTVTANmo3"
      }
    },
    {
      "cell_type": "code",
      "source": [
        "import numpy as np\n",
        "import pandas as pd\n",
        "import matplotlib.pyplot as plt\n",
        "%matplotlib inline\n",
        "import seaborn as sns\n",
        "from scipy import stats as st\n",
        "from statsmodels.stats.multicomp import pairwise_tukeyhsd\n",
        "from sklearn.linear_model import LinearRegression\n",
        "from sklearn.model_selection import train_test_split\n",
        "from sklearn.metrics import mean_squared_error\n",
        "#Task 1 Create a scatterplot to compare the Period in which an element occurs\n",
        "#(“Period”) to its Number of Electron Shells (NmberofShells”). Calculate the Pearson\n",
        "#correlation coefficient for these two variables. Explain the relationship between Period\n",
        "#and Number of Electron Shells\n",
        "PT=pd.read_csv(\"/content/drive/MyDrive/GEOG520_python_data/datasets/datasets/periodic_table.csv\")\n",
        "\n",
        "fig1= sns.scatterplot(x= \"Period\", y= \"NumberofShells\", data= PT)\n",
        "plt.show(fig1)"
      ],
      "metadata": {
        "colab": {
          "base_uri": "https://localhost:8080/",
          "height": 279
        },
        "id": "bQ2qkM9tNq69",
        "outputId": "ff5e4dd7-30f6-45f3-b98c-f53723780d2b"
      },
      "execution_count": null,
      "outputs": [
        {
          "output_type": "display_data",
          "data": {
            "text/plain": [
              "<Figure size 432x288 with 1 Axes>"
            ],
            "image/png": "[encoded data removed]"
          },
          "metadata": {
            "needs_background": "light"
          }
        }
      ]
    },
    {
      "cell_type": "markdown",
      "source": [
        "Each period is the defination of the number of the shells, therefore their relationship is a perfect liner straight line."
      ],
      "metadata": {
        "id": "n9X5xBgGg-0X"
      }
    },
    {
      "cell_type": "code",
      "source": [
        "#Pearson correlation coefficient for these two variables\n",
        "\n",
        "st.pearsonr(x=PT[\"Period\"], y = PT[\"NumberofShells\"])"
      ],
      "metadata": {
        "colab": {
          "base_uri": "https://localhost:8080/"
        },
        "id": "KkCyj7zUYIWG",
        "outputId": "5277907d-a032-4833-9afb-173807895ee8"
      },
      "execution_count": null,
      "outputs": [
        {
          "output_type": "execute_result",
          "data": {
            "text/plain": [
              "(1.0, 0.0)"
            ]
          },
          "metadata": {},
          "execution_count": 3
        }
      ]
    },
    {
      "cell_type": "code",
      "source": [
        "#Task 2 Create a scatterplot to compare how the Number of Valence Electrons\n",
        "#(“NumberofValence”) varies by group (“Group”). Explain the observed pattern\n",
        "fig2= sns.scatterplot(x= \"Group\", y= \"NumberofValence\", data= PT)\n",
        "plt.show(fig2)"
      ],
      "metadata": {
        "colab": {
          "base_uri": "https://localhost:8080/",
          "height": 279
        },
        "id": "MSgdKmcaNw3O",
        "outputId": "6adf38cd-090e-4c27-fa6b-32fff1b435f1"
      },
      "execution_count": null,
      "outputs": [
        {
          "output_type": "display_data",
          "data": {
            "text/plain": [
              "<Figure size 432x288 with 1 Axes>"
            ],
            "image/png": "[encoded data removed]"
          },
          "metadata": {
            "needs_background": "light"
          }
        }
      ]
    },
    {
      "cell_type": "code",
      "source": [
        "PT2= PT.dropna(axis=0 , subset=[\"NumberofValence\"])\n",
        "st.pearsonr(x=PT2[\"Group\"], y = PT2[\"NumberofValence\"])"
      ],
      "metadata": {
        "colab": {
          "base_uri": "https://localhost:8080/"
        },
        "id": "AfgNFy-4hogG",
        "outputId": "6167e0dd-6b30-4425-850c-8f8fdbb58421"
      },
      "execution_count": null,
      "outputs": [
        {
          "output_type": "execute_result",
          "data": {
            "text/plain": [
              "(0.8962641434406856, 3.2655153137332095e-18)"
            ]
          },
          "metadata": {},
          "execution_count": 34
        }
      ]
    },
    {
      "cell_type": "markdown",
      "source": [
        "The relationship between number of valence and group seems like a liner regression but has a very drastic jumps when it goes from group 2 to group 12. The overall trend of the relationship is still quite stable beside the gap from group 2 and group 12.The Pearson correlation coefficient of 0.89 also indicates a positive correlation"
      ],
      "metadata": {
        "id": "hCAXsQ5OZt4W"
      }
    },
    {
      "cell_type": "code",
      "source": [
        "#Task 3 Create a scatterplot to compare the Number of Protons (“NumberofProtons”) \n",
        "# and the Number of Neutrons (“NumberofNeutrons”) in the nucleus of the atom. \n",
        "# Calculate the Pearson and Spearman correlation coefficients for these variables.\n",
        "# Explain the relationship between the Number of Protons and Number of Neutrons in the\n",
        "# nucleus of an atom. Why is this relationship not perfectly linear?\n",
        "fig3 = sns.scatterplot(x= \"NumberofProtons\", y= \"NumberofNeutrons\", data= PT)"
      ],
      "metadata": {
        "colab": {
          "base_uri": "https://localhost:8080/",
          "height": 279
        },
        "id": "EOkSAMNMaE9-",
        "outputId": "1c58d198-3e72-41b2-8a6d-ca25d6483419"
      },
      "execution_count": null,
      "outputs": [
        {
          "output_type": "display_data",
          "data": {
            "text/plain": [
              "<Figure size 432x288 with 1 Axes>"
            ],
            "image/png": "[encoded data removed]"
          },
          "metadata": {
            "needs_background": "light"
          }
        }
      ]
    },
    {
      "cell_type": "code",
      "source": [
        "st.pearsonr(PT[\"NumberofProtons\"],  PT[\"NumberofNeutrons\"])\n",
        "st.spearmanr(PT[\"NumberofProtons\"], PT[\"NumberofNeutrons\"])\n",
        "print(st.pearsonr(x=PT[\"NumberofProtons\"], y = PT[\"NumberofNeutrons\"]))\n",
        "print(st.spearmanr(PT[\"NumberofProtons\"], PT[\"NumberofNeutrons\"]))"
      ],
      "metadata": {
        "colab": {
          "base_uri": "https://localhost:8080/"
        },
        "id": "QwhJf9aBgrlf",
        "outputId": "45ad9d26-7b5b-4715-db00-d444c0aeccf5"
      },
      "execution_count": null,
      "outputs": [
        {
          "output_type": "stream",
          "name": "stdout",
          "text": [
            "(0.9977386943897312, 7.142038839617957e-138)\n",
            "SpearmanrResult(correlation=0.9995708405204009, pvalue=1.0355656621038503e-179)\n"
          ]
        }
      ]
    },
    {
      "cell_type": "markdown",
      "source": [
        "The rank order are simular to the correlation results. The number of protons is the atomic number, and the number of protons plus neutrons is the atomic mass. As we move acorss the table, number of protons will not equal exactly to the same number of neutrons, therefore their relationship is not a perfect linear graphy. "
      ],
      "metadata": {
        "id": "7wA-iD64jriR"
      }
    },
    {
      "cell_type": "code",
      "source": [
        "#Task 4 Create a scatterplot to compare the Atomic Number of an element\n",
        "#(“AtomicNumber”) with its Atomic Mass (“AtomicMass”). Calculate the Pearson and\n",
        "#Spearman correlation coefficients for these variables. Explain the relationship between\n",
        "# Atomic Number and Atomic Mass? Why is the relationship not perfectly linear?\n",
        "fig4= sns.scatterplot(x= \"AtomicNumber\", y= \"AtomicMass\", data= PT)"
      ],
      "metadata": {
        "colab": {
          "base_uri": "https://localhost:8080/",
          "height": 279
        },
        "id": "ifKMxLFRgsPE",
        "outputId": "5970dd6b-ff02-4047-e420-d2ee0acbed8c"
      },
      "execution_count": null,
      "outputs": [
        {
          "output_type": "display_data",
          "data": {
            "text/plain": [
              "<Figure size 432x288 with 1 Axes>"
            ],
            "image/png": "[encoded data removed]"
          },
          "metadata": {
            "needs_background": "light"
          }
        }
      ]
    },
    {
      "cell_type": "code",
      "source": [
        "st.pearsonr(PT[\"AtomicNumber\"],  PT[\"AtomicMass\"])\n",
        "st.spearmanr(PT[\"AtomicNumber\"], PT[\"AtomicMass\"])\n",
        "print(st.pearsonr(x=PT[\"AtomicNumber\"], y = PT[\"AtomicMass\"]))\n",
        "print(st.spearmanr(PT[\"AtomicNumber\"], PT[\"AtomicMass\"]))"
      ],
      "metadata": {
        "colab": {
          "base_uri": "https://localhost:8080/"
        },
        "id": "veHWOYTJkPGt",
        "outputId": "8a5c2149-6f50-4af5-d42e-e29beeecf4a4"
      },
      "execution_count": null,
      "outputs": [
        {
          "output_type": "stream",
          "name": "stdout",
          "text": [
            "(0.9991407827147742, 3.133519241070552e-162)\n",
            "SpearmanrResult(correlation=0.9999105243605987, pvalue=3.3597358485810023e-219)\n"
          ]
        }
      ]
    },
    {
      "cell_type": "markdown",
      "source": [
        "Very linear relationship based on the correlation results.\n",
        "The atomic number is one part of the atomic mass, as the atomic number refers to the number of protons in the nucleus of an atom while the atomic mass is the sum of the number of protons and the number of neutrons within the nucleus. Therefore with the increase in atomic number, the atomic mass also increases. It's not a perfect linear line due to the atomic masses are all slightly different and are not perfect rounded numbers. But the pearson correlation coefficient of 0.99 further emphasizes the strong positive relationship"
      ],
      "metadata": {
        "id": "ZUqYPngHkaW9"
      }
    },
    {
      "cell_type": "code",
      "source": [
        "#Task 5 Create a scatterplot to compare the Atomic Number (“AtomicNumber”) and\n",
        "#Atomic Radius (“AtomicRadius”) for just elements in Period 5 (“Period”). Explain the\n",
        "#observed relationship. \n",
        "p5=PT.query('Period== 5 ')\n",
        "fig5= sns.scatterplot(x= \"AtomicNumber\", y= \"AtomicRadius\", data= p5)\n"
      ],
      "metadata": {
        "colab": {
          "base_uri": "https://localhost:8080/",
          "height": 279
        },
        "id": "PK_PMFlLke9-",
        "outputId": "39b7e566-6197-4f41-c3a1-44d3b1a6b809"
      },
      "execution_count": null,
      "outputs": [
        {
          "output_type": "display_data",
          "data": {
            "text/plain": [
              "<Figure size 432x288 with 1 Axes>"
            ],
            "image/png": "[encoded data removed]"
          },
          "metadata": {
            "needs_background": "light"
          }
        }
      ]
    },
    {
      "cell_type": "code",
      "source": [
        "\n",
        "p5=p5.dropna(axis=0 , subset=[\"AtomicRadius\",\"AtomicNumber\"])\n",
        "st.pearsonr(p5[\"AtomicNumber\"],  p5[\"AtomicRadius\"])\n",
        "st.spearmanr(p5[\"AtomicNumber\"], p5[\"AtomicRadius\"])\n",
        "print(st.pearsonr(p5[\"AtomicNumber\"], p5[\"AtomicRadius\"]))\n",
        "print(st.spearmanr(p5[\"AtomicNumber\"], p5[\"AtomicRadius\"]))\n"
      ],
      "metadata": {
        "colab": {
          "base_uri": "https://localhost:8080/"
        },
        "id": "nqPNZrIllfdM",
        "outputId": "cc2e4b3f-b14e-4394-88a9-b564927689da"
      },
      "execution_count": null,
      "outputs": [
        {
          "output_type": "stream",
          "name": "stdout",
          "text": [
            "(-0.9234435953110139, 4.656874865931659e-08)\n",
            "SpearmanrResult(correlation=-0.9528356688503561, pvalue=1.0614453824275443e-09)\n"
          ]
        }
      ]
    },
    {
      "cell_type": "markdown",
      "source": [
        "Atomic radius decreases across a period because valance electrons are being added to the same energy level at the same time the nucleus is increasing in protons. The increase in nuclear charge attracts the electrons more strongly, pulling them closer to the nucleus. therefore atomic radius gets smaller going through a period. "
      ],
      "metadata": {
        "id": "UwXFGmiSriO1"
      }
    },
    {
      "cell_type": "code",
      "source": [
        "#Task 6 Create a scatterplot to compare the Atomic Number (“AtomicNumber”) and\n",
        "#Atomic Radius (“AtomicRadius”) for just elements in Group 1 (“Group”).\n",
        "pt1=PT.query('Group== 1 ')\n",
        "fig6= sns.scatterplot(x= \"AtomicNumber\", y= \"AtomicRadius\", data= pt1)"
      ],
      "metadata": {
        "colab": {
          "base_uri": "https://localhost:8080/",
          "height": 279
        },
        "id": "wqHaO_xjlqjT",
        "outputId": "33930005-5dbb-4d02-fcc1-07be86a7ea71"
      },
      "execution_count": null,
      "outputs": [
        {
          "output_type": "display_data",
          "data": {
            "text/plain": [
              "<Figure size 432x288 with 1 Axes>"
            ],
            "image/png": "[encoded data removed]"
          },
          "metadata": {
            "needs_background": "light"
          }
        }
      ]
    },
    {
      "cell_type": "code",
      "source": [
        "pt6=pt1.dropna(axis= 0, subset= [\"AtomicRadius\", \"AtomicNumber\"])\n",
        "\n",
        "st.pearsonr(pt6[\"AtomicNumber\"],  pt6[\"AtomicRadius\"])\n",
        "st.spearmanr(pt6[\"AtomicNumber\"], pt6[\"AtomicRadius\"])\n",
        "print(st.pearsonr(x=pt6[\"AtomicNumber\"], y = pt6[\"AtomicRadius\"]))\n",
        "print(st.spearmanr(pt6[\"AtomicNumber\"], pt6[\"AtomicRadius\"]))"
      ],
      "metadata": {
        "id": "AXZ-DFPbmGt4",
        "colab": {
          "base_uri": "https://localhost:8080/"
        },
        "outputId": "45d49f2b-b842-4d1a-e154-7e57809ffc57"
      },
      "execution_count": null,
      "outputs": [
        {
          "output_type": "stream",
          "name": "stdout",
          "text": [
            "(0.8299601495710149, 0.04091209817978482)\n",
            "SpearmanrResult(correlation=1.0, pvalue=0.0)\n"
          ]
        }
      ]
    },
    {
      "cell_type": "markdown",
      "source": [
        "The overall relationship between atomic number and atomic radius is an upward trend. As the atomic number of an element increases, so does the size of its nucleus and the number of electrons around it. The bigger the atomic number, the larger the atom's radiusWithin group 1 the trend is not as obvious but still notisable. Atomic radius within the same group still changes according to the atomic number. The pearson and spearman tests are all close to 1. which indicates that the correlation and relationship between the two variables are strongly positive. Within group 1 in Periodic table, the higher the atomic number indicates bigger atomic radius. "
      ],
      "metadata": {
        "id": "BBnGCH7Yrgvq"
      }
    },
    {
      "cell_type": "code",
      "source": [
        "#Task 7 Create a scatterplot to compare the Atomic Number (“AtomicNumber”) and Number of Isotopes (“NumberofIsotopes”)\n",
        "fig7= sns.scatterplot(x= \"AtomicNumber\", y= \"NumberOfIsotopes\", data= PT)"
      ],
      "metadata": {
        "colab": {
          "base_uri": "https://localhost:8080/",
          "height": 279
        },
        "id": "O1K6RsqwmBBA",
        "outputId": "e06d4340-d6d7-4769-98d0-cb6afee0ab0a"
      },
      "execution_count": null,
      "outputs": [
        {
          "output_type": "display_data",
          "data": {
            "text/plain": [
              "<Figure size 432x288 with 1 Axes>"
            ],
            "image/png": "[encoded data removed]"
          },
          "metadata": {
            "needs_background": "light"
          }
        }
      ]
    },
    {
      "cell_type": "code",
      "source": [
        "p7=PT.dropna(axis= 0, subset= [\"AtomicNumber\", \"NumberOfIsotopes\"])\n",
        "st.pearsonr(p7[\"AtomicNumber\"],  p7[\"NumberOfIsotopes\"])\n",
        "st.spearmanr(p7[\"AtomicNumber\"], p7[\"NumberOfIsotopes\"])\n",
        "print(st.pearsonr(p7[\"AtomicNumber\"], p7[\"NumberOfIsotopes\"]))\n",
        "print(st.spearmanr(p7[\"AtomicNumber\"], p7[\"NumberOfIsotopes\"]))"
      ],
      "metadata": {
        "colab": {
          "base_uri": "https://localhost:8080/"
        },
        "id": "KxD5VU0voPEq",
        "outputId": "017b9ad3-0af6-4023-d212-cbed9ee511b1"
      },
      "execution_count": null,
      "outputs": [
        {
          "output_type": "stream",
          "name": "stdout",
          "text": [
            "(0.5807691156540772, 1.269164707638515e-10)\n",
            "SpearmanrResult(correlation=0.7523495041380811, pvalue=5.138488885481422e-20)\n"
          ]
        }
      ]
    },
    {
      "cell_type": "markdown",
      "source": [
        "Different isotopes of an element have the same number of protons in the nucleus, giving them the same atomic number, but a different number of neutrons giving each elemental isotope a different atomic weight. As we can see from the displayed graph, the atomic number and isoptopes have a stable positive correlation from 0 to 90, and then the number of isotope drastically increases pass the 90 mark. The spearman result also indicates a relativly strong positive relationship between atomic number abd isotope number. "
      ],
      "metadata": {
        "id": "TP7btXW-uZ2m"
      }
    },
    {
      "cell_type": "code",
      "source": [
        "#Task 8 Create a scatterplot to compare how the First Ionization Energy\n",
        "#(“FirstIonization”) varies based on Atomic Number (“AtomicNumber”) across Period 5\n",
        "p8p5=PT.query('Period ==5 ')\n",
        "fig8= sns.scatterplot(x= \"AtomicNumber\", y= \"FirstIonization\", data= p8p5)"
      ],
      "metadata": {
        "colab": {
          "base_uri": "https://localhost:8080/",
          "height": 279
        },
        "id": "5DQE4iYWoeh1",
        "outputId": "32efa0b4-97e3-47e6-90ee-af4588ebe927"
      },
      "execution_count": null,
      "outputs": [
        {
          "output_type": "display_data",
          "data": {
            "text/plain": [
              "<Figure size 432x288 with 1 Axes>"
            ],
            "image/png": "[encoded data removed]"
          },
          "metadata": {
            "needs_background": "light"
          }
        }
      ]
    },
    {
      "cell_type": "code",
      "source": [
        "p8=p8p5.dropna(axis=0 , subset=[\"AtomicNumber\",\"FirstIonization\"])\n",
        "st.pearsonr(p8[\"AtomicNumber\"],  p8[\"FirstIonization\"])\n",
        "st.spearmanr(p8[\"AtomicNumber\"], p8[\"FirstIonization\"])\n",
        "print(st.pearsonr(p8[\"AtomicNumber\"], p8[\"FirstIonization\"]))\n",
        "print(st.spearmanr(p8[\"AtomicNumber\"], p8[\"FirstIonization\"]))"
      ],
      "metadata": {
        "colab": {
          "base_uri": "https://localhost:8080/"
        },
        "id": "wVUiWIMxq78S",
        "outputId": "9f57057d-b6fb-477e-de34-183950380d86"
      },
      "execution_count": null,
      "outputs": [
        {
          "output_type": "stream",
          "name": "stdout",
          "text": [
            "(0.8159299628603296, 3.653096237760642e-05)\n",
            "SpearmanrResult(correlation=0.8369453044375645, pvalue=1.4859874205555088e-05)\n"
          ]
        }
      ]
    },
    {
      "cell_type": "markdown",
      "source": [
        "in period 5, the ionization energy starts to increase at Rb, the first element in period 5 and ionization energy starts to dip at Cd and becomes the lowest at In. These Ionization energy trend accuratly described the relationship of atomic number and firstionization in period 5. The overall relationship is still an upward trend with spearman test at 0.83, which suggested a positive correlation does exist between these two varibles.  "
      ],
      "metadata": {
        "id": "iWxQ442oDnnh"
      }
    },
    {
      "cell_type": "code",
      "source": [
        "#Task 9 Create a scatterplot to compare how the First Ionization Energy\n",
        "#(“FirstIonization”) varies based on Atomic Number (“AtomicNumber”) within Group 1\n",
        "p9=PT.query('Group == 1 ')\n",
        "fig9= sns.scatterplot(x= \"AtomicNumber\", y= \"FirstIonization\", data= p9)"
      ],
      "metadata": {
        "colab": {
          "base_uri": "https://localhost:8080/",
          "height": 282
        },
        "id": "nRa1809tpKej",
        "outputId": "8654e9e4-bc04-4cda-9052-f27d8419fc82"
      },
      "execution_count": null,
      "outputs": [
        {
          "output_type": "display_data",
          "data": {
            "text/plain": [
              "<Figure size 432x288 with 1 Axes>"
            ],
            "image/png": "[encoded data removed]"
          },
          "metadata": {
            "needs_background": "light"
          }
        }
      ]
    },
    {
      "cell_type": "code",
      "source": [
        "pt9=p9.dropna(axis=0 , subset=[\"AtomicNumber\",\"FirstIonization\"])\n",
        "st.pearsonr(pt9[\"AtomicNumber\"],  pt9[\"FirstIonization\"])\n",
        "st.spearmanr(pt9[\"AtomicNumber\"], pt9[\"FirstIonization\"])\n",
        "print(st.pearsonr(pt9[\"AtomicNumber\"], pt9[\"FirstIonization\"]))\n",
        "print(st.spearmanr(pt9[\"AtomicNumber\"], pt9[\"FirstIonization\"]))"
      ],
      "metadata": {
        "colab": {
          "base_uri": "https://localhost:8080/"
        },
        "id": "3F-HRvons6W7",
        "outputId": "ff044012-69f3-447a-93bd-e56bd5e35187"
      },
      "execution_count": null,
      "outputs": [
        {
          "output_type": "stream",
          "name": "stdout",
          "text": [
            "(-0.438532517047081, 4.024442870978497e-06)\n",
            "SpearmanrResult(correlation=-0.36658543067327864, pvalue=0.00015094510201423762)\n"
          ]
        }
      ]
    },
    {
      "cell_type": "markdown",
      "source": [
        "Becuase the first ionization energy decreases as we go through the periodic table. In group 1 then we can see big drops from the first element H to the last element Fr in group 1. The second, thrid, 4th, 5th, 6th and 7th period elements' ionization energy are all significantly lower than the first period. Therefore we see such pattern in this display. The correlation tests results suggested a downward negative relationship, which is accuratly displayed within this graph. "
      ],
      "metadata": {
        "id": "qw05HO66Fz79"
      }
    },
    {
      "cell_type": "code",
      "source": [
        "#Task 10 Create a scatterplot to compare how Electronegativity (“Electronegativity”)\n",
        "#varies based on Atomic Number (“AtomicNumber”) across Period 5 (“Period”)\n",
        "p10=PT.query('Period == 5 ')\n",
        "fig10= sns.scatterplot(x= \"AtomicNumber\", y= \"Electronegativity\", data= p10)"
      ],
      "metadata": {
        "colab": {
          "base_uri": "https://localhost:8080/",
          "height": 283
        },
        "id": "-wmioJ02pa1i",
        "outputId": "10a3fecf-41e3-4605-f207-2a0fc7bfce36"
      },
      "execution_count": null,
      "outputs": [
        {
          "output_type": "display_data",
          "data": {
            "text/plain": [
              "<Figure size 432x288 with 1 Axes>"
            ],
            "image/png": "[encoded data removed]"
          },
          "metadata": {
            "needs_background": "light"
          }
        }
      ]
    },
    {
      "cell_type": "code",
      "source": [
        "pt10=p10.dropna(axis=0 , subset=[\"AtomicNumber\",\"Electronegativity\"])\n",
        "st.pearsonr(pt10[\"AtomicNumber\"],  pt10[\"Electronegativity\"])\n",
        "st.spearmanr(pt10[\"AtomicNumber\"], pt10[\"Electronegativity\"])\n",
        "print(st.pearsonr(pt10[\"AtomicNumber\"], pt10[\"Electronegativity\"]))\n",
        "print(st.spearmanr(pt10[\"AtomicNumber\"], pt10[\"Electronegativity\"]))"
      ],
      "metadata": {
        "colab": {
          "base_uri": "https://localhost:8080/"
        },
        "id": "Gqza8qrEuvbB",
        "outputId": "f7ad7153-8679-4136-8098-ac21b6352a9d"
      },
      "execution_count": null,
      "outputs": [
        {
          "output_type": "stream",
          "name": "stdout",
          "text": [
            "(0.7574631084606018, 0.0004289033925653873)\n",
            "SpearmanrResult(correlation=0.6499081540380856, pvalue=0.0047418124842697725)\n"
          ]
        }
      ]
    },
    {
      "cell_type": "markdown",
      "source": [
        "On the periodic table, electronegativity generally increases as you move from left to right across a period and decreases as you move down a group. Therefore we see in our selected period 5 elements, the trend was going up untill it hits element Pd and starts to decrease the electronegativity. "
      ],
      "metadata": {
        "id": "WHfoyNlFHS8H"
      }
    },
    {
      "cell_type": "code",
      "source": [
        "#Task 11 Create a scatterplot to compare how Electronegativity (“Electronegativity”)\n",
        "#varies based on Atomic Number (“AtomicNumber”) within Group 1 (“Group”)\n",
        "p11= PT.query('Group == 1')\n",
        "fig11= sns.scatterplot(x= \"AtomicNumber\", y= \"Electronegativity\", data= p11)"
      ],
      "metadata": {
        "colab": {
          "base_uri": "https://localhost:8080/",
          "height": 279
        },
        "id": "XHjwst1Ep2Wv",
        "outputId": "2f971d90-d870-4f26-f400-b5fc237b72c8"
      },
      "execution_count": null,
      "outputs": [
        {
          "output_type": "display_data",
          "data": {
            "text/plain": [
              "<Figure size 432x288 with 1 Axes>"
            ],
            "image/png": "[encoded data removed]"
          },
          "metadata": {
            "needs_background": "light"
          }
        }
      ]
    },
    {
      "cell_type": "code",
      "source": [
        "pt11=p11.dropna(axis=0 , subset=[\"AtomicNumber\",\"Electronegativity\"])\n",
        "st.pearsonr(pt11[\"AtomicNumber\"],  pt11[\"Electronegativity\"])\n",
        "st.spearmanr(pt11[\"AtomicNumber\"], pt11[\"Electronegativity\"])\n",
        "print(st.pearsonr(pt11[\"AtomicNumber\"], pt11[\"Electronegativity\"]))\n",
        "print(st.spearmanr(pt11[\"AtomicNumber\"], pt11[\"Electronegativity\"]))"
      ],
      "metadata": {
        "colab": {
          "base_uri": "https://localhost:8080/"
        },
        "id": "_FkpGvX9u_7p",
        "outputId": "a578fb92-dcab-486f-a02b-32ad29c9bba2"
      },
      "execution_count": null,
      "outputs": [
        {
          "output_type": "stream",
          "name": "stdout",
          "text": [
            "(-0.5529453968176513, 0.19794974135931892)\n",
            "SpearmanrResult(correlation=-0.9910312089651149, pvalue=1.4561252916129422e-05)\n"
          ]
        }
      ]
    },
    {
      "cell_type": "markdown",
      "source": [
        "This graoh is really simular to graph we have in task 9 about the relationship with fistionization. The chemistry concept is simular in terms of in group 1 then we can see big drops from the first element H to the last element Fr in group 1. This is because the atomic number increases as we move down the group, which means the atomic radius also increases and therefore the atoms attraction forces decreases. The correlation test also indicates a really strong negative relationship, which was displayed as a downward slope graph. "
      ],
      "metadata": {
        "id": "tujXjummTk6Y"
      }
    },
    {
      "cell_type": "code",
      "source": [
        "# Task 12 Create a scatterplot to compare how Density (“Density”) changes with Atomic\n",
        "#Number (“AtomicNumber”) for only Metals (Metal == “yes”)\n",
        "p12=PT.query('Metal ==\"yes\"'). dropna(axis= 0, subset= [\"AtomicNumber\", \"Density\"])\n",
        "fig12= sns.scatterplot(x= \"AtomicNumber\", y= \"Density\", data= p12)"
      ],
      "metadata": {
        "colab": {
          "base_uri": "https://localhost:8080/",
          "height": 279
        },
        "id": "SOq66BtGqDqt",
        "outputId": "2ec4fc63-7d6e-4607-c38b-c6f9731e749a"
      },
      "execution_count": null,
      "outputs": [
        {
          "output_type": "display_data",
          "data": {
            "text/plain": [
              "<Figure size 432x288 with 1 Axes>"
            ],
            "image/png": "[encoded data removed]"
          },
          "metadata": {
            "needs_background": "light"
          }
        }
      ]
    },
    {
      "cell_type": "code",
      "source": [
        "pt12=p12.dropna(axis=0 , subset=[\"AtomicNumber\",\"Density\"])\n",
        "st.pearsonr(pt12[\"AtomicNumber\"],  pt12[\"Density\"])\n",
        "st.spearmanr(pt12[\"AtomicNumber\"], pt12[\"Density\"])\n",
        "print(st.pearsonr(pt12[\"AtomicNumber\"], pt12[\"Density\"]))\n",
        "print(st.spearmanr(pt12[\"AtomicNumber\"], pt12[\"Density\"]))"
      ],
      "metadata": {
        "colab": {
          "base_uri": "https://localhost:8080/"
        },
        "id": "A4Y9FAuFvMdF",
        "outputId": "fd0d6840-62cb-4e6b-c5d1-79701076472e"
      },
      "execution_count": null,
      "outputs": [
        {
          "output_type": "stream",
          "name": "stdout",
          "text": [
            "(0.693035200899029, 7.545325399232038e-13)\n",
            "SpearmanrResult(correlation=0.7252329072595609, pvalue=1.9105500531165685e-14)\n"
          ]
        }
      ]
    },
    {
      "cell_type": "markdown",
      "source": [
        "This is an interesting result from density and atomic number. As atomic number increases the density of atoms fluctuates a lot according to the periodic table order. The trend goes like waves at each starting point of the groups in the periodic table, and as the atomic number increases, the atomic mass also increases which is why the density of metals also increases. "
      ],
      "metadata": {
        "id": "WA2oPZJ6UTnj"
      }
    },
    {
      "cell_type": "code",
      "source": [
        "#Task 13 : Create a scatterplot to compare how Electronegativity (“Electronegativity”)\n",
        "#varies by Atomic Number (“AtomicNumber”) for all elements in the periodic table. \n",
        "fig13= sns.scatterplot(x= \"AtomicNumber\", y= \"Electronegativity\", data= PT)"
      ],
      "metadata": {
        "colab": {
          "base_uri": "https://localhost:8080/",
          "height": 279
        },
        "id": "lB92LIW-tEhv",
        "outputId": "9dcc7c38-698a-45c0-b8b7-302887328e5c"
      },
      "execution_count": null,
      "outputs": [
        {
          "output_type": "display_data",
          "data": {
            "text/plain": [
              "<Figure size 432x288 with 1 Axes>"
            ],
            "image/png": "[encoded data removed]"
          },
          "metadata": {
            "needs_background": "light"
          }
        }
      ]
    },
    {
      "cell_type": "code",
      "source": [
        "pt13=PT.dropna(axis=0 , subset=[\"AtomicNumber\",\"Electronegativity\"])\n",
        "st.pearsonr(pt13[\"AtomicNumber\"],  pt13[\"Electronegativity\"])\n",
        "st.spearmanr(pt13[\"AtomicNumber\"], pt13[\"Electronegativity\"])\n",
        "print(st.pearsonr(pt13[\"AtomicNumber\"], pt13[\"Electronegativity\"]))\n",
        "print(st.spearmanr(pt13[\"AtomicNumber\"], pt13[\"Electronegativity\"]))"
      ],
      "metadata": {
        "colab": {
          "base_uri": "https://localhost:8080/"
        },
        "id": "1uc7W-9JvX5g",
        "outputId": "22aee99f-090d-4248-83f6-a02ddf1429b8"
      },
      "execution_count": null,
      "outputs": [
        {
          "output_type": "stream",
          "name": "stdout",
          "text": [
            "(-0.3287211793670739, 0.0010755491968294645)\n",
            "SpearmanrResult(correlation=-0.25385121548665546, pvalue=0.012572063843828883)\n"
          ]
        }
      ]
    },
    {
      "cell_type": "markdown",
      "source": [
        "The overall scattering trends are simular to our graph in task 12. we can tell each new trend is due to the start and end of each 7 groups in the periodic table. But unlike the task 12 graph, Electronegativity generally decreases as atomic number increases as we move down the group, which is why we have the negative correlation results from the two tests. The entire graphy has very weak negative correltaion to almost no correlations as a whole, as we can see from the -0.2 and -0.3 results, but if we see this graph as 7 sections then it makes more sense. "
      ],
      "metadata": {
        "id": "jvE4vgZ-We-0"
      }
    }
  ]
}
