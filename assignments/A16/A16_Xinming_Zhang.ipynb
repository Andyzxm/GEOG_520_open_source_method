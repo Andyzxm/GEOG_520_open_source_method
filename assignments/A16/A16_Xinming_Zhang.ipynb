{
  "nbformat": 4,
  "nbformat_minor": 0,
  "metadata": {
    "colab": {
      "provenance": [],
      "mount_file_id": "1hMI_MNwEUZrleju0Khlw2JlvKffla4Nb",
      "authorship_tag": "ABX9TyMTS7zVjCtLHKMGoaxeMFVC",
      "include_colab_link": true
    },
    "kernelspec": {
      "name": "python3",
      "display_name": "Python 3"
    },
    "language_info": {
      "name": "python"
    }
  },
  "cells": [
    {
      "cell_type": "markdown",
      "metadata": {
        "id": "view-in-github",
        "colab_type": "text"
      },
      "source": [
        "<a href=\"https://colab.research.google.com/github/Andyzxm/GEOG_520_open_source_method/blob/main/A16_Xinming_Zhang.ipynb\" target=\"_parent\"><img src=\"https://colab.research.google.com/assets/colab-badge.svg\" alt=\"Open In Colab\"/></a>"
      ]
    },
    {
      "cell_type": "code",
      "execution_count": null,
      "metadata": {
        "id": "NgXOSIN7qTiw"
      },
      "outputs": [],
      "source": [
        "import numpy as np\n",
        "import pandas as pd\n",
        "import seaborn as sns\n",
        "import math\n",
        "import scipy.stats\n",
        "from scipy import stats as st\n",
        "from numpy.random import seed\n",
        "from numpy.random import randn\n",
        "from scipy.stats import ttest_ind\n",
        "from statsmodels.stats.multicomp import pairwise_tukeyhsd\n",
        "from sklearn.linear_model import LinearRegression\n",
        "from sklearn.model_selection import train_test_split\n",
        "from sklearn.metrics import mean_squared_error\n",
        "import matplotlib.pyplot as plt\n",
        "import statsmodels.api as sm\n",
        "from sklearn.metrics import r2_score"
      ]
    },
    {
      "cell_type": "markdown",
      "source": [
        "Question 1: Provide a general single linear regression equation and explain all the terms\n",
        "\n",
        "The general single linear regression equation is: Y = b0+ b1X1 + e\n",
        "Y in this eqaution is the dependent variable, beta 0 is the y intercept,b0 is the value of Y when all of the independent variables are zero. X1 is the distinct independent or predictor variable, while b1 is the estimated regression coefficient. e is the error"
      ],
      "metadata": {
        "id": "CxX9oXboq5As"
      }
    },
    {
      "cell_type": "markdown",
      "source": [
        "Question 2. Explain how the best fitting line is determined using the ordinary least squares method.\n",
        "\n",
        "The ordinary least sqaure(OLS) method finds the best-fit line for the data by minimizing the sum of squared errors or residuals between the actual and predicted values.Therefore OLS will be able to determine decent result for the best fitting line in the regression model. "
      ],
      "metadata": {
        "id": "_tPI8jZsq7B7"
      }
    },
    {
      "cell_type": "markdown",
      "source": [
        "Question 3. What is a residual? How are residuals calculated?\n",
        "\n",
        "Residual can be defined by an easy function: \n",
        "Residual = Actual y value – Predicted y value.\n",
        "It is essentially the difference between the predicted y value and the actual y value. In a perfect condition when residuals are always 0, then the model has a Perfect fit. on the other hand, Having a negative residual means that the predicted value is too high, and a positive residual means that the predicted value was too low. The aim of regression line is to minimise the sum of residuals.\n",
        "\n"
      ],
      "metadata": {
        "id": "si-I8ofarJd-"
      }
    },
    {
      "cell_type": "markdown",
      "source": [
        "Question 4. Explain how R-squared is calculated. \n",
        "\n",
        "R-squared value is a measure that provides information about the fitness or accuracy of a model. It can be calculated as function 1-(sum squared regression (SSR)/total sum of squares (SST)). The closer the R2 value to 1, then better fitting the regression model is. \n"
      ],
      "metadata": {
        "id": "QTGbMmBDrNIH"
      }
    },
    {
      "cell_type": "markdown",
      "source": [
        "Question 5. What are the units of R-squared? \n",
        "\n",
        "The units of the R-sqaured value is determined by what data we are processing. It is essnetially a a fraction between 0.0 and 1.0, which means there's no real units for R sqaured. For our analysis we can say that our r units are align with the Y axis values, which is the heating load units. \n"
      ],
      "metadata": {
        "id": "w54VkDfSrT05"
      }
    },
    {
      "cell_type": "markdown",
      "source": [
        "Question 6. Explain how Root Mean Square Error (RMSE) is calculated. What are the units of measurement for RMSE?\n",
        "\n",
        "Root mean sqaure error shows how far predictions fall from measured true values. RMSE is a combination of calculated residual (difference between prediction and truth), computed norm of residual for each data point, computed the mean of residuals and take the square root of that mean. It can also be explained as the standard deviation of the residuals, and measures how spread out these residuals are from the regression line. The units for RMSE is also simular to the R squared values that they follow our input units. In this case for our data we have heating load as the untis for most of our regression models. \n"
      ],
      "metadata": {
        "id": "Ustw5LyzrV4g"
      }
    },
    {
      "cell_type": "code",
      "source": [
        "#Task 1: Extract out only the “Heating_Load”, “Relative_Compactness”, “Wall_Area”, and “Roof_Area” attributes.\n",
        "EE=pd.read_csv(\"/content/drive/MyDrive/GEOG520_python_data/energy_efficiency_data.csv\")\n",
        "E=EE[[\"Heating_Load\",\"Relative_Compactness\",\"Wall_Area\",\"Roof_Area\"]]\n",
        "E"
      ],
      "metadata": {
        "colab": {
          "base_uri": "https://localhost:8080/",
          "height": 424
        },
        "id": "onZ95kLnrdC_",
        "outputId": "e4e3fe33-ce27-4ff1-dcd6-dad811fc5f97"
      },
      "execution_count": null,
      "outputs": [
        {
          "output_type": "execute_result",
          "data": {
            "text/plain": [
              "     Heating_Load  Relative_Compactness  Wall_Area  Roof_Area\n",
              "0           15.55                  0.98      294.0     110.25\n",
              "1           15.55                  0.98      294.0     110.25\n",
              "2           15.55                  0.98      294.0     110.25\n",
              "3           15.55                  0.98      294.0     110.25\n",
              "4           20.84                  0.90      318.5     122.50\n",
              "..            ...                   ...        ...        ...\n",
              "763         17.88                  0.64      343.0     220.50\n",
              "764         16.54                  0.62      367.5     220.50\n",
              "765         16.44                  0.62      367.5     220.50\n",
              "766         16.48                  0.62      367.5     220.50\n",
              "767         16.64                  0.62      367.5     220.50\n",
              "\n",
              "[768 rows x 4 columns]"
            ],
            "text/html": [
              "\n",
              "  <div id=\"df-948bdfc9-ec9f-4a1d-b5a3-9059bfde71ba\">\n",
              "    <div class=\"colab-df-container\">\n",
              "      <div>\n",
              "<style scoped>\n",
              "    .dataframe tbody tr th:only-of-type {\n",
              "        vertical-align: middle;\n",
              "    }\n",
              "\n",
              "    .dataframe tbody tr th {\n",
              "        vertical-align: top;\n",
              "    }\n",
              "\n",
              "    .dataframe thead th {\n",
              "        text-align: right;\n",
              "    }\n",
              "</style>\n",
              "<table border=\"1\" class=\"dataframe\">\n",
              "  <thead>\n",
              "    <tr style=\"text-align: right;\">\n",
              "      <th></th>\n",
              "      <th>Heating_Load</th>\n",
              "      <th>Relative_Compactness</th>\n",
              "      <th>Wall_Area</th>\n",
              "      <th>Roof_Area</th>\n",
              "    </tr>\n",
              "  </thead>\n",
              "  <tbody>\n",
              "    <tr>\n",
              "      <th>0</th>\n",
              "      <td>15.55</td>\n",
              "      <td>0.98</td>\n",
              "      <td>294.0</td>\n",
              "      <td>110.25</td>\n",
              "    </tr>\n",
              "    <tr>\n",
              "      <th>1</th>\n",
              "      <td>15.55</td>\n",
              "      <td>0.98</td>\n",
              "      <td>294.0</td>\n",
              "      <td>110.25</td>\n",
              "    </tr>\n",
              "    <tr>\n",
              "      <th>2</th>\n",
              "      <td>15.55</td>\n",
              "      <td>0.98</td>\n",
              "      <td>294.0</td>\n",
              "      <td>110.25</td>\n",
              "    </tr>\n",
              "    <tr>\n",
              "      <th>3</th>\n",
              "      <td>15.55</td>\n",
              "      <td>0.98</td>\n",
              "      <td>294.0</td>\n",
              "      <td>110.25</td>\n",
              "    </tr>\n",
              "    <tr>\n",
              "      <th>4</th>\n",
              "      <td>20.84</td>\n",
              "      <td>0.90</td>\n",
              "      <td>318.5</td>\n",
              "      <td>122.50</td>\n",
              "    </tr>\n",
              "    <tr>\n",
              "      <th>...</th>\n",
              "      <td>...</td>\n",
              "      <td>...</td>\n",
              "      <td>...</td>\n",
              "      <td>...</td>\n",
              "    </tr>\n",
              "    <tr>\n",
              "      <th>763</th>\n",
              "      <td>17.88</td>\n",
              "      <td>0.64</td>\n",
              "      <td>343.0</td>\n",
              "      <td>220.50</td>\n",
              "    </tr>\n",
              "    <tr>\n",
              "      <th>764</th>\n",
              "      <td>16.54</td>\n",
              "      <td>0.62</td>\n",
              "      <td>367.5</td>\n",
              "      <td>220.50</td>\n",
              "    </tr>\n",
              "    <tr>\n",
              "      <th>765</th>\n",
              "      <td>16.44</td>\n",
              "      <td>0.62</td>\n",
              "      <td>367.5</td>\n",
              "      <td>220.50</td>\n",
              "    </tr>\n",
              "    <tr>\n",
              "      <th>766</th>\n",
              "      <td>16.48</td>\n",
              "      <td>0.62</td>\n",
              "      <td>367.5</td>\n",
              "      <td>220.50</td>\n",
              "    </tr>\n",
              "    <tr>\n",
              "      <th>767</th>\n",
              "      <td>16.64</td>\n",
              "      <td>0.62</td>\n",
              "      <td>367.5</td>\n",
              "      <td>220.50</td>\n",
              "    </tr>\n",
              "  </tbody>\n",
              "</table>\n",
              "<p>768 rows × 4 columns</p>\n",
              "</div>\n",
              "      <button class=\"colab-df-convert\" onclick=\"convertToInteractive('df-948bdfc9-ec9f-4a1d-b5a3-9059bfde71ba')\"\n",
              "              title=\"Convert this dataframe to an interactive table.\"\n",
              "              style=\"display:none;\">\n",
              "        \n",
              "  <svg xmlns=\"http://www.w3.org/2000/svg\" height=\"24px\"viewBox=\"0 0 24 24\"\n",
              "       width=\"24px\">\n",
              "    <path d=\"M0 0h24v24H0V0z\" fill=\"none\"/>\n",
              "    <path d=\"M18.56 5.44l.94 2.06.94-2.06 2.06-.94-2.06-.94-.94-2.06-.94 2.06-2.06.94zm-11 1L8.5 8.5l.94-2.06 2.06-.94-2.06-.94L8.5 2.5l-.94 2.06-2.06.94zm10 10l.94 2.06.94-2.06 2.06-.94-2.06-.94-.94-2.06-.94 2.06-2.06.94z\"/><path d=\"M17.41 7.96l-1.37-1.37c-.4-.4-.92-.59-1.43-.59-.52 0-1.04.2-1.43.59L10.3 9.45l-7.72 7.72c-.78.78-.78 2.05 0 2.83L4 21.41c.39.39.9.59 1.41.59.51 0 1.02-.2 1.41-.59l7.78-7.78 2.81-2.81c.8-.78.8-2.07 0-2.86zM5.41 20L4 18.59l7.72-7.72 1.47 1.35L5.41 20z\"/>\n",
              "  </svg>\n",
              "      </button>\n",
              "      \n",
              "  <style>\n",
              "    .colab-df-container {\n",
              "      display:flex;\n",
              "      flex-wrap:wrap;\n",
              "      gap: 12px;\n",
              "    }\n",
              "\n",
              "    .colab-df-convert {\n",
              "      background-color: #E8F0FE;\n",
              "      border: none;\n",
              "      border-radius: 50%;\n",
              "      cursor: pointer;\n",
              "      display: none;\n",
              "      fill: #1967D2;\n",
              "      height: 32px;\n",
              "      padding: 0 0 0 0;\n",
              "      width: 32px;\n",
              "    }\n",
              "\n",
              "    .colab-df-convert:hover {\n",
              "      background-color: #E2EBFA;\n",
              "      box-shadow: 0px 1px 2px rgba(60, 64, 67, 0.3), 0px 1px 3px 1px rgba(60, 64, 67, 0.15);\n",
              "      fill: #174EA6;\n",
              "    }\n",
              "\n",
              "    [theme=dark] .colab-df-convert {\n",
              "      background-color: #3B4455;\n",
              "      fill: #D2E3FC;\n",
              "    }\n",
              "\n",
              "    [theme=dark] .colab-df-convert:hover {\n",
              "      background-color: #434B5C;\n",
              "      box-shadow: 0px 1px 3px 1px rgba(0, 0, 0, 0.15);\n",
              "      filter: drop-shadow(0px 1px 2px rgba(0, 0, 0, 0.3));\n",
              "      fill: #FFFFFF;\n",
              "    }\n",
              "  </style>\n",
              "\n",
              "      <script>\n",
              "        const buttonEl =\n",
              "          document.querySelector('#df-948bdfc9-ec9f-4a1d-b5a3-9059bfde71ba button.colab-df-convert');\n",
              "        buttonEl.style.display =\n",
              "          google.colab.kernel.accessAllowed ? 'block' : 'none';\n",
              "\n",
              "        async function convertToInteractive(key) {\n",
              "          const element = document.querySelector('#df-948bdfc9-ec9f-4a1d-b5a3-9059bfde71ba');\n",
              "          const dataTable =\n",
              "            await google.colab.kernel.invokeFunction('convertToInteractive',\n",
              "                                                     [key], {});\n",
              "          if (!dataTable) return;\n",
              "\n",
              "          const docLinkHtml = 'Like what you see? Visit the ' +\n",
              "            '<a target=\"_blank\" href=https://colab.research.google.com/notebooks/data_table.ipynb>data table notebook</a>'\n",
              "            + ' to learn more about interactive tables.';\n",
              "          element.innerHTML = '';\n",
              "          dataTable['output_type'] = 'display_data';\n",
              "          await google.colab.output.renderOutput(dataTable, element);\n",
              "          const docLink = document.createElement('div');\n",
              "          docLink.innerHTML = docLinkHtml;\n",
              "          element.appendChild(docLink);\n",
              "        }\n",
              "      </script>\n",
              "    </div>\n",
              "  </div>\n",
              "  "
            ]
          },
          "metadata": {},
          "execution_count": 3
        }
      ]
    },
    {
      "cell_type": "code",
      "source": [],
      "metadata": {
        "id": "bSKjVejl-_kx"
      },
      "execution_count": null,
      "outputs": []
    },
    {
      "cell_type": "code",
      "source": [
        "#Task 2: Create scatterplots to compare the dependent variable (“Heat_Load”) with each of the three independent variables separately\n",
        "plt.rcParams['figure.figsize'] = [15, 10]\n",
        "scatter_plot, axs = plt.subplots(3,1)\n",
        "sns.scatterplot(ax = axs[0], y = \"Heating_Load\", x = \"Relative_Compactness\", data = E)\n",
        "axs[0].set_title(\"Distribution of the heating load of houses in relation house compactness, wall area, and roof area\", fontsize = 15)\n",
        "axs[0].set_xlabel(\"Relative compactness\", fontsize = 10)\n",
        "sns.scatterplot(ax = axs[1], y = \"Heating_Load\", x = \"Wall_Area\", data = E)\n",
        "axs[1].set_xlabel(\"Wall Area\", fontsize = 10)\n",
        "sns.scatterplot(ax = axs[2], y = \"Heating_Load\", x = \"Roof_Area\", data = E)\n",
        "axs[2].set_ylabel(\"Heating load\", fontsize = 10)\n",
        "axs[2].set_xlabel(\"Roof Area\", fontsize = 10)\n",
        "plt.show(scatter_plot)"
      ],
      "metadata": {
        "colab": {
          "base_uri": "https://localhost:8080/",
          "height": 623
        },
        "id": "pdgnBoEprjg5",
        "outputId": "9484b1be-bb5a-423e-e666-96452cf79570"
      },
      "execution_count": null,
      "outputs": [
        {
          "output_type": "display_data",
          "data": {
            "text/plain": [
              "<Figure size 1080x720 with 3 Axes>"
            ],
            "image/png": "[encoded data removed]"
          },
          "metadata": {
            "needs_background": "light"
          }
        }
      ]
    },
    {
      "cell_type": "code",
      "source": [
        "#Task 3. Obtain Pearson correlation coefficients for “Heat_Load” and each of the three independent variables of interest.\n",
        "# Pearson correlation coefficients\n",
        "print(\"Heating load and Relative compactness =\",(st.pearsonr(E[\"Heating_Load\"], E[\"Relative_Compactness\"])))\n",
        "print(\"Heating load and Wall Area =\",(st.pearsonr(E[\"Heating_Load\"], E[\"Wall_Area\"])))\n",
        "print(\"Heating load and Roof area =\", (st.pearsonr(E[\"Heating_Load\"], E[\"Roof_Area\"])))"
      ],
      "metadata": {
        "colab": {
          "base_uri": "https://localhost:8080/"
        },
        "id": "1sniKg_Z8blM",
        "outputId": "47832ba4-710a-482d-ff2e-0b4817c1fe7a"
      },
      "execution_count": null,
      "outputs": [
        {
          "output_type": "stream",
          "name": "stdout",
          "text": [
            "Heating load and Relative compactness = (0.6222721790646626, 1.5912736997118763e-83)\n",
            "Heating load and Wall Area = (0.4556711568983096, 1.221888688332153e-40)\n",
            "Heating load and Roof area = (-0.8618282529058219, 4.914880966403568e-228)\n"
          ]
        }
      ]
    },
    {
      "cell_type": "markdown",
      "source": [
        "Question 6. Discuss the relationships between the dependent variable and each\n",
        "independent variable based on the scatterplots and correlation coefficients obtained. Does each independent variable appear to be correlated with “Heat_Load”? If so, is the correlation positive or negative? Is the correlation linear?\n",
        "\n",
        "Our dependent variable \"heating load\" does respond differently to each independent variable \"compactness, wall area, roof area\". The overall relationships from the generated scatterplot display small positive correlation with compactness and wall area, but not so much for the roof area. The coefficients obtained from the pearson tests also indicates that the thoese relationships are in the \"middle\" around 0.4, 0.6 and -0.8, which means the correlation with heat load is a bit insiginificant. The two positive corrlations are related to the compactness and wall areas and the negative correaltion is related to the roof area. They are all not very lineared graphs from my obervation. "
      ],
      "metadata": {
        "id": "XaB-k62wIQoV"
      }
    },
    {
      "cell_type": "code",
      "source": [
        "#Task 4. Create three separate single linear regression models in which “Heat_Load” is predicted using one of the available predictor variables\n",
        "Heat = E[[\"Heating_Load\"]]\n",
        "Compact = E[[\"Relative_Compactness\"]]\n",
        "lmMod1 = LinearRegression()\n",
        "lmMod1.fit(Heat, Compact)\n",
        "print(f\"intercept: {lmMod1.intercept_}\")\n",
        "print(f\"coefficients: {lmMod1.coef_}\")"
      ],
      "metadata": {
        "colab": {
          "base_uri": "https://localhost:8080/"
        },
        "id": "a2_bqD5O82Zd",
        "outputId": "1b9b97fc-1c49-4cb8-e456-a2114904e3fb"
      },
      "execution_count": null,
      "outputs": [
        {
          "output_type": "stream",
          "name": "stdout",
          "text": [
            "intercept: [0.61864788]\n",
            "coefficients: [[0.0065234]]\n"
          ]
        }
      ]
    },
    {
      "cell_type": "code",
      "source": [
        "Wall = E[[\"Wall_Area\"]]\n",
        "lmMod2 = LinearRegression()\n",
        "lmMod2.fit(Heat, Wall)\n",
        "print(f\"intercept: {lmMod2.intercept_}\")\n",
        "print(f\"coefficients: {lmMod2.coef_}\")"
      ],
      "metadata": {
        "colab": {
          "base_uri": "https://localhost:8080/"
        },
        "id": "ZrU9Jkgr_d3j",
        "outputId": "ccc7b8d8-d988-4f0b-fbc5-9408d12194d8"
      },
      "execution_count": null,
      "outputs": [
        {
          "output_type": "stream",
          "name": "stdout",
          "text": [
            "intercept: [274.55118117]\n",
            "coefficients: [[1.9701629]]\n"
          ]
        }
      ]
    },
    {
      "cell_type": "code",
      "source": [
        "Roof = E[[\"Roof_Area\"]]\n",
        "lmMod3 = LinearRegression()\n",
        "lmMod3.fit(Heat, Roof)\n",
        "print(f\"intercept: {lmMod3.intercept_}\")\n",
        "print(f\"coefficients: {lmMod3.coef_}\")"
      ],
      "metadata": {
        "colab": {
          "base_uri": "https://localhost:8080/"
        },
        "id": "42-NlmtqBT3j",
        "outputId": "4ec8621c-8a1a-417b-f38e-45a714bfc305"
      },
      "execution_count": null,
      "outputs": [
        {
          "output_type": "stream",
          "name": "stdout",
          "text": [
            "intercept: [262.65941439]\n",
            "coefficients: [[-3.85773408]]\n"
          ]
        }
      ]
    },
    {
      "cell_type": "code",
      "source": [
        "#Task 4. Calculate or obtain the R-squared and RMSE metrics for each of the three models\n",
        "\n",
        "#R-square of heating load and relative compactness\n",
        "r1 = lmMod1.score(Heat, Compact)\n",
        "print(r1)\n",
        "#R-squared of heating load and wall area\n",
        "r2 = lmMod2.score(Heat, Wall)\n",
        "print(r2)\n",
        "#R-squared heating load and roof area\n",
        "r3 = lmMod3.score(Heat, Roof)\n",
        "print(r3)\n",
        "#\n",
        "predict1=lmMod1.predict(Heat)\n",
        "predict2=lmMod2.predict(Heat)\n",
        "predict3=lmMod3.predict(Heat)\n",
        "print(\"RMSE of heating load and relative compactness =\", (mean_squared_error(Compact, predict1, squared = False)))\n",
        "print(\"RMSE of heating load and wall area =\", (mean_squared_error(Wall, predict2, squared = False)))\n",
        "print(\"RMSE of heating load and roof area =\", (mean_squared_error(Roof, predict3, squared = False)))"
      ],
      "metadata": {
        "colab": {
          "base_uri": "https://localhost:8080/"
        },
        "id": "v-su9kzEBe1_",
        "outputId": "9932a889-7610-4e35-9853-988781f6268d"
      },
      "execution_count": null,
      "outputs": [
        {
          "output_type": "stream",
          "name": "stdout",
          "text": [
            "0.3872226648378836\n",
            "0.20763620322904397\n",
            "0.7427479375067012\n",
            "RMSE of heating load and relative compactness = 0.08274878355976338\n",
            "RMSE of heating load and wall area = 38.80874259584551\n",
            "RMSE of heating load and roof area = 22.89326082189572\n"
          ]
        }
      ]
    },
    {
      "cell_type": "markdown",
      "source": [
        "Question 7. Compare the model fit using R-squared and RMSE. Do the model results\n",
        "agree with the results obtained using the scatterplots and Pearson correlation\n",
        "coefficients? In other words, did the variable with the highest linear correlation yield the best performing model? \n",
        "\n",
        "Both R sqaured and RMSE resutls are quite interesting for this dataset. From our previous scatterplots and pearson correlation test, we indicated the correlations between these variables to heating load are quite insignificant. The model results also showed that there's a low correlation among the independent varibales with our dependent variable \"heating load\". The highest linear correlation is between the roof area and heating load, has a neagtive coefficient of -0.86, and this model also has the highest R sqaured value, which means it is a higher performing model in this analysis. "
      ],
      "metadata": {
        "id": "mfj9564TIGma"
      }
    }
  ]
}
