{
  "nbformat": 4,
  "nbformat_minor": 0,
  "metadata": {
    "colab": {
      "provenance": [],
      "mount_file_id": "10ml-P59fcM5SIKQH1pgzq83ah6Gr46yG",
      "authorship_tag": "ABX9TyMGCZ0djKuDpNfaq528e6mS",
      "include_colab_link": true
    },
    "kernelspec": {
      "name": "python3",
      "display_name": "Python 3"
    },
    "language_info": {
      "name": "python"
    }
  },
  "cells": [
    {
      "cell_type": "markdown",
      "metadata": {
        "id": "view-in-github",
        "colab_type": "text"
      },
      "source": [
        "<a href=\"https://colab.research.google.com/github/Andyzxm/GEOG_520_open_source_method/blob/main/A18_Xinming_Zhang.ipynb\" target=\"_parent\"><img src=\"https://colab.research.google.com/assets/colab-badge.svg\" alt=\"Open In Colab\"/></a>"
      ]
    },
    {
      "cell_type": "code",
      "source": [
        "import numpy as np\n",
        "import pandas as pd\n",
        "from sklearn.metrics import confusion_matrix as cm\n",
        "from sklearn.metrics import cohen_kappa_score as kap\n",
        "from sklearn.metrics import accuracy_score as oa\n",
        "from sklearn.metrics import classification_report as cp\n",
        "from sklearn.metrics import roc_auc_score as rocauc\n",
        "from sklearn.metrics import precision_recall_curve as pr \n",
        "from sklearn.metrics import auc\n",
        "from sklearn.metrics import mean_squared_error as rmse\n",
        "from sklearn.metrics import r2_score as r2\n",
        "import matplotlib.pyplot as plt\n",
        "%matplotlib inline\n",
        "import seaborn as sbn\n",
        "plt.rcParams['figure.figsize']=[10,8]"
      ],
      "metadata": {
        "id": "DPFYRsUadaa1"
      },
      "execution_count": null,
      "outputs": []
    },
    {
      "cell_type": "markdown",
      "source": [
        "Q1: Why is it important to use withheld validation data when assessing models\n",
        "as opposed to the data used to train the model?\n",
        "\n",
        "The prediction of nominal variables are assessed using the withheld testing or validation data because it is important not to use the trained or used data. Those used datasets have no way of verifying that our model learned real patterns in the data, and it could results in overly optimistic metrics on model’s performance because the model has already seen the data and knows exactly how to handle it. Therefore, we can reduce the bias and errors by using the withheld dataset to check how well a model will perform on the new dataset\n"
      ],
      "metadata": {
        "id": "5OOcqGCldASX"
      }
    },
    {
      "cell_type": "markdown",
      "source": [
        "Q2 Explain the difference between Overall Accuracy and Kappa for assessing a\n",
        "multiclass classification.\n",
        "\n",
        "The overall Accuracy is one of the most popular metrics in multi-class classification and it is directly computed from the confusion matrix.It consider the sum of features correclty classified over the total number of features. It measures of how much the model is correctly predicting on the entire set of data. \n",
        "\n",
        "The kappa reveals how well the model has predicted data assignments in different classes compared to a random class assignment. It is essentially an adjustment of of overall accraucy that consider random chances "
      ],
      "metadata": {
        "id": "mv7f4rgfdBwh"
      }
    },
    {
      "cell_type": "markdown",
      "source": [
        "Q3 Explain the difference between Precision, Recall, F1-Score, Specificity, and\n",
        "Negative Predictive Value for assessing a binary classification.\n",
        "\n",
        "-In binary classification, precision is calculated as the number of true positives divided by the total number of true positives and false positives.The result is a value between 0.0 for no precision and 1.0 for full or perfect precision.\n",
        "\n",
        "-Recall in an imbalanced classification problem with two classes, it is then calculated as the number of true positives divided by the total number of true positives and false negatives.\n",
        "\n",
        "-The F1 Score is the 2*((precision * recall)/(precision+recall)). It conveys the balance between the precision and the recall, which combine both precision and recall into a single measure that captures both properties. \n",
        "\n",
        "-Specificity is the metric that evaluates a model’s ability to predict true negatives of each available category. which is presented as number of true negatives divided by total number of true negatives and false positives. \n",
        "\n",
        "- Negative Predictive Value(NPV) describe the performance of a diagnostic test or other statistical measure, whether the test result is negative. it is calculated as NPV = TN / (FN + TN), which indicates errors and negative class.\n"
      ],
      "metadata": {
        "id": "CW8EgOJfdE4P"
      }
    },
    {
      "cell_type": "markdown",
      "source": [
        "Q4. Explain the difference between the Receiver Operating Characteristic (ROC)\n",
        "curve and the Precision-Recall (PR) curve for assessing a probabilistic prediction\n",
        "\n",
        "The ROC is a plot of the false positive rate (x-axis) versus the true positive rate (y-axis) for a number of different candidate threshold values between 0.0 and 1.0. \n",
        "\n",
        "precision recall curve(PR) is simular to ROC, which is a plot of the precision (y-axis) and the recall (x-axis) for different thresholds. It takes the true output values and the probabilities for the positive class as input and returns the precision, recall and threshold values. in a way PR is more informative than the ROC Plot when evaluating binary classifiers on imbalanced Datasets. "
      ],
      "metadata": {
        "id": "1816CsrPdHZn"
      }
    },
    {
      "cell_type": "markdown",
      "source": [
        "Q5. Explain the meaning and interpretation of the area under the curve (AUC)\n",
        "measure calculated from the Receiver Operating Characteristic Curve.\n",
        "\n",
        "ROC is a probability curve and AUC represents the degree or measure of separability. It tells how much the model is capable of distinguishing between classes. Higher the AUC, the better the model is at predicting 0 classes as 0 and 1 classes as 1, and the higher the AUC, the better the model. \n",
        "\n",
        "\n"
      ],
      "metadata": {
        "id": "NW-nzsK_dOGe"
      }
    },
    {
      "cell_type": "markdown",
      "source": [
        "Q6. Explain how R-squared is calculated. What is the unit of measurement of Rsquared?\n",
        "\n",
        "-squared value is a measure that provides information about the fitness or accuracy of a model. It can be calculated as function 1-(sum squared regression (SSR)/total sum of squares (SST)). The closer the R2 value to 1, then better fitting the regression model is. It is essnetially a a fraction between 0.0 and 1.0, which means there's no real units for R sqaured but the unit of the Rsquared is determined by what data we are processing"
      ],
      "metadata": {
        "id": "czySSqtMdRVa"
      }
    },
    {
      "cell_type": "markdown",
      "source": [
        "Q7. Explain how Root Mean Square Error (RMSE) is calculated. What is the unit\n",
        "of measurement? \n",
        "\n",
        "Root mean sqaure error shows how far predictions fall from measured true values. RMSE is a combination of calculated residual (difference between prediction and truth), computed norm of residual for each data point, computed the mean of residuals and take the square root of that mean. It can also be explained as the standard deviation of the residuals, and measures how spread out these residuals are from the regression line. The units for RMSE is also simular to the R squared values that they follow our input units."
      ],
      "metadata": {
        "id": "_t-5dNCQdTe4"
      }
    },
    {
      "cell_type": "code",
      "source": [
        "\n",
        "c1= pd.read_csv(\"/content/drive/MyDrive/GEOG520_python_data/datasets/datasets/classification_data.csv\")\n",
        "c2= pd.read_csv(\"/content/drive/MyDrive/GEOG520_python_data/datasets/datasets/classification_data2.csv\")\n",
        "b1= pd.read_csv(\"/content/drive/MyDrive/GEOG520_python_data/datasets/datasets/binary_data.csv\")\n",
        "r1= pd.read_csv(\"/content/drive/MyDrive/GEOG520_python_data/datasets/datasets/regression_data.csv\")"
      ],
      "metadata": {
        "id": "tLjPq46sdWi1"
      },
      "execution_count": null,
      "outputs": []
    },
    {
      "cell_type": "markdown",
      "source": [
        "Task 1 The “classification_data.csv” dataset contains three columns and relates to a multiclass classification where five classes are differentiated. Each class has been assigned a numeric value (1 through 5), but these values represent categories or nominal data. The “truth” column represents the correct or reference class while the “m1” and “m2” columns represent separate predictions. Generate Confusion Matrices from the reference data and predictions obtained using the different models. Next, calculate the Overall Accuracy and Kappa statistic for both models. \n",
        "\n",
        "Based on these results, which model provided the best performance? What classes were most difficult to differentiate?"
      ],
      "metadata": {
        "id": "s-OPbCrDe2oC"
      }
    },
    {
      "cell_type": "markdown",
      "source": [
        "Answer:\n",
        " Based on the generated overall accuracy and kappa +score results in the \n",
        "following codes, we can see that model 2 has a slighlty better performance among the two models. The class 2 in the confusing matrix is the most difficult to differentiate and it has the lowest accraucy. "
      ],
      "metadata": {
        "id": "X-3CtFit9QeZ"
      }
    },
    {
      "cell_type": "code",
      "source": [
        "import sklearn\n",
        "#Task 1 \n",
        "#for m1 column\n",
        "print(cm(c1.truth,c1.m1))\n",
        "print(oa(c1.truth, c1.m1))\n",
        "print(kap(c1.truth, c1.m1))\n",
        "cmplot= sklearn.metrics.ConfusionMatrixDisplay(cm(c1.truth,c1.m1))\n",
        "cmplot.plot()\n",
        "plt.show(cmplot)"
      ],
      "metadata": {
        "colab": {
          "base_uri": "https://localhost:8080/",
          "height": 618
        },
        "id": "Ym3llpdrhFP_",
        "outputId": "c823e154-6262-4ee7-ccbb-86dbb85bee7c"
      },
      "execution_count": null,
      "outputs": [
        {
          "output_type": "stream",
          "name": "stdout",
          "text": [
            "[[266   0  32   0   2]\n",
            " [  0 152   6   3   1]\n",
            " [ 40  27 268  16   0]\n",
            " [  0  31  24 100   0]\n",
            " [  1  13   6   0  12]]\n",
            "0.798\n",
            "0.7251375332862529\n"
          ]
        },
        {
          "output_type": "display_data",
          "data": {
            "text/plain": [
              "<Figure size 720x576 with 2 Axes>"
            ],
            "image/png": "[encoded data removed]"
          },
          "metadata": {
            "needs_background": "light"
          }
        }
      ]
    },
    {
      "cell_type": "code",
      "source": [
        "#for m2 column\n",
        "print(cm(c1.truth,c1.m2))\n",
        "print(oa(c1.truth, c1.m2))\n",
        "print(kap(c1.truth, c1.m2))\n",
        "cmplot= sklearn.metrics.ConfusionMatrixDisplay(cm(c1.truth,c1.m2))\n",
        "cmplot.plot()\n",
        "plt.show(cmplot)"
      ],
      "metadata": {
        "colab": {
          "base_uri": "https://localhost:8080/",
          "height": 618
        },
        "id": "mY0krniIjkmK",
        "outputId": "82bb74fc-95f2-4981-f407-8b04422f1ab8"
      },
      "execution_count": null,
      "outputs": [
        {
          "output_type": "stream",
          "name": "stdout",
          "text": [
            "[[256   6  35   1   2]\n",
            " [  0 160   0   2   0]\n",
            " [ 38  16 272  24   1]\n",
            " [  0  17  15 122   1]\n",
            " [  8   3   1   0  20]]\n",
            "0.83\n",
            "0.7700962890836309\n"
          ]
        },
        {
          "output_type": "display_data",
          "data": {
            "text/plain": [
              "<Figure size 720x576 with 2 Axes>"
            ],
            "image/png": "[encoded data removed]"
          },
          "metadata": {
            "needs_background": "light"
          }
        }
      ]
    },
    {
      "cell_type": "markdown",
      "source": [
        "Task 2. The “classification_data2.csv” dataset represents classification results for\n",
        "differentiating six forest community types across the state of West Virginia using\n",
        "variables derived from satellite data and digital elevation data. The “Fall_T” models\n",
        "used only imagery collected in the fall along with digital terrain variables; the “Spr_T”\n",
        "models were produced using spring imagery and digital terrain variables; and the\n",
        "“Sum_T” models were produced using summer imagery and digital terrain variables.\n",
        "The “H_T” model used imagery from multiple seasons, which were summarized using\n",
        "a process called harmonic regression, alongside the digital terrain variables. The “set”\n",
        "column defined which dataset was used while the “OA” column provides the Overall\n",
        "Accuracy, and the “k” column provided the Kappa statistic. Each of the for sets of\n",
        "variables were used to train 50 different models using different training and testing\n",
        "data partitions in order to capture the variability in model performance when given\n",
        "different input samples. Create two grouped boxplots. The first plot should show the\n",
        "distribution of Overall Accuracy for each of the replicate sets as four separate boxplots.\n",
        "The second should show Kappa as opposed to Overall Accuracy. Based on these results,\n",
        "discuss the relative performance of the different sets of feature and also the variability\n",
        "in performance when different data partitions were used."
      ],
      "metadata": {
        "id": "RcEAKbUBkHeT"
      }
    },
    {
      "cell_type": "markdown",
      "source": [
        "Answer: \n",
        "Based on the boxplots results of overall accuracy and kappa, we can indicate that H_T set (imagery from multiple seasons) has the highest accuracy for the overall accuracy test among the 4 models. The two boxplots with distribution of Overall Accuracy and Kappa for each of the replicate sets showed really simular patterns in terms of the 4 models. Both of them have H_T as the highest scores and Sum_T and Fall_T have the lowest accuray and Kappa scores. The only notable differncee is that the overall Kappa socres are slightly lower than the OA scores. I think these results also make sense since the fall and summary imagery and digital terrain variables are least accurate due to the trees' canopies are mostly still in place, which could affect the satellite data accuracy. "
      ],
      "metadata": {
        "id": "76ZrC2QpGgy7"
      }
    },
    {
      "cell_type": "code",
      "source": [
        "#Task 2 boxplot 1 \n",
        "sbn.boxplot(x= \"set\", y= \"OA\", hue= \"set\", data= c2)"
      ],
      "metadata": {
        "colab": {
          "base_uri": "https://localhost:8080/",
          "height": 515
        },
        "id": "rPXp67mdjyzD",
        "outputId": "6641fd68-ee3b-4ccd-f03e-0167881ec187"
      },
      "execution_count": null,
      "outputs": [
        {
          "output_type": "execute_result",
          "data": {
            "text/plain": [
              "<matplotlib.axes._subplots.AxesSubplot at 0x7f7864ff8050>"
            ]
          },
          "metadata": {},
          "execution_count": 11
        },
        {
          "output_type": "display_data",
          "data": {
            "text/plain": [
              "<Figure size 720x576 with 1 Axes>"
            ],
            "image/png": "[encoded data removed]"
          },
          "metadata": {
            "needs_background": "light"
          }
        }
      ]
    },
    {
      "cell_type": "code",
      "source": [
        "#boxplot 2 \n",
        "sbn.boxplot(x= \"set\", y= \"k\", hue= \"set\", data= c2)"
      ],
      "metadata": {
        "colab": {
          "base_uri": "https://localhost:8080/",
          "height": 515
        },
        "id": "-46SrGQ-kzlK",
        "outputId": "94c87e15-121d-405c-c42e-5980ac49e05b"
      },
      "execution_count": null,
      "outputs": [
        {
          "output_type": "execute_result",
          "data": {
            "text/plain": [
              "<matplotlib.axes._subplots.AxesSubplot at 0x7f7864ff89d0>"
            ]
          },
          "metadata": {},
          "execution_count": 12
        },
        {
          "output_type": "display_data",
          "data": {
            "text/plain": [
              "<Figure size 720x576 with 1 Axes>"
            ],
            "image/png": "[encoded data removed]"
          },
          "metadata": {
            "needs_background": "light"
          }
        }
      ]
    },
    {
      "cell_type": "markdown",
      "source": [
        "Task 3. The “binary_data.csv” dataset represents results for predicting the likelihood of\n",
        "landslide occurrence as predicted using a random forest model. The “truth” column\n",
        "represents the correct classification (“not” = not a landslide; “slopeD” = a landslide). The\n",
        "“predicted” column represents the predicted class. The “prob_not” column represents\n",
        "the predicted probability of the location not being a landslide while the “prob_fail”\n",
        "column represented the predicted probability of the site being a landslide. There are an\n",
        "equal number of “not landslide” and “landslide” examples based on the reference\n",
        "classification. The “slopeD” class should be treated as the positive outcome. From these\n",
        "data and using the classification results and reference classification calculate the\n",
        "following metrics: Precision, Recall, F1-Score, Specificity, and Negative Predictive\n",
        "Value. From these data and using the reference classification and predicted class\n",
        "probabilities, calculate the Area Under the ROC and PR Curves. Discuss the results in\n",
        "regards to the model performance. What was the dominant source of error in the model:\n",
        "false positives or false negatives?"
      ],
      "metadata": {
        "id": "AQX_Z6wJl3Il"
      }
    },
    {
      "cell_type": "markdown",
      "source": [
        "Answer: \n",
        "According to the results of the confusing matrix, overall accuracy and kappa score, we can indicate the the model is relatively accurate. The \"SlopeD\" data and the \"Not\" data showed simular results in the classification report. It is also  desired that a model should have both high precision,and high recall. AUC represents the probability that a random positive example is positioned to the right of a random negative example. Therefore a good PR curve has greater AUC, and our output areas under curves are all quite high with 0.94 and 0.93. The most dominant source error from our numbers seem to be the false negative with 78 samples while false postive have 47 samples. "
      ],
      "metadata": {
        "id": "QciTY-I4aD49"
      }
    },
    {
      "cell_type": "code",
      "source": [
        "#Task 3 \n",
        "print(cm(b1.truth,b1.predicted))\n",
        "print(oa(b1.truth,b1.predicted))\n",
        "print(kap(b1.truth,b1.predicted))\n",
        "print(cp(b1.truth,b1.predicted))"
      ],
      "metadata": {
        "colab": {
          "base_uri": "https://localhost:8080/"
        },
        "id": "lksaIYtLl6kK",
        "outputId": "53196f04-bd1f-47ae-fff8-4c3bd6a206f8"
      },
      "execution_count": null,
      "outputs": [
        {
          "output_type": "stream",
          "name": "stdout",
          "text": [
            "[[422  78]\n",
            " [ 47 453]]\n",
            "0.875\n",
            "0.75\n",
            "              precision    recall  f1-score   support\n",
            "\n",
            "         not       0.90      0.84      0.87       500\n",
            "      slopeD       0.85      0.91      0.88       500\n",
            "\n",
            "    accuracy                           0.88      1000\n",
            "   macro avg       0.88      0.88      0.87      1000\n",
            "weighted avg       0.88      0.88      0.87      1000\n",
            "\n"
          ]
        }
      ]
    },
    {
      "cell_type": "code",
      "source": [
        "#area under ROC\n",
        "b1[\"code\"]=(b1.truth.replace({\"not\":0, \"slopeD\":1}))\n",
        "print(rocauc(b1.code,b1.prob_fail))\n",
        "#PR curve\n",
        "precision, recall, thresholds = pr(b1.code,b1.prob_fail)\n",
        "auc_precision_recall=auc(recall,precision)\n",
        "print(auc_precision_recall)"
      ],
      "metadata": {
        "colab": {
          "base_uri": "https://localhost:8080/"
        },
        "id": "Zn8mHZ-IoV4K",
        "outputId": "2a233cd6-a720-4035-d9b0-ede86b5356c7"
      },
      "execution_count": null,
      "outputs": [
        {
          "output_type": "stream",
          "name": "stdout",
          "text": [
            "0.9451720000000001\n",
            "0.9333488283033281\n"
          ]
        }
      ]
    },
    {
      "cell_type": "markdown",
      "source": [
        "Task 4. The “regression_data.csv” dataset contains 156 values (“truth”) and associated\n",
        "predictions using three different models (“m1”, “m2”, and “m3”). Calculate the RSquared and RMSE metrics for each of the three models. How do these models compare\n",
        "in regards to accuracy and the amount of variability in the value of interest explained? "
      ],
      "metadata": {
        "id": "Z4-9qzbPradV"
      }
    },
    {
      "cell_type": "markdown",
      "source": [
        "Answer: \n",
        "All three models have simular output results interms of RMSE and R2. The R squred resutls are all above 0.75, which generally be seen as showing a high level of correlation with the models. The three models' fitness are quite high from the R2 results, which indicates relatively higher accuracy. On the other hand, the Root mean squared error values of all three models are also quite low in the range of 0.3-0.4. The lower RMSE values usually demonstrate that the model can relatively predict the data accurately. Therefore, we observed that all m1, m2 and m3 re accurate models based on our output R2 and RMSE values, \n",
        "while M1 has the lowest RMSE and highest Rsqaured value among the three models. "
      ],
      "metadata": {
        "id": "tCSIgMWZtq2Q"
      }
    },
    {
      "cell_type": "code",
      "source": [
        "#Task 4\n",
        "#M1  \n",
        "print(rmse(r1.truth,r1.m1,squared=False))\n",
        "print(r2(r1.truth,r1.m1))"
      ],
      "metadata": {
        "colab": {
          "base_uri": "https://localhost:8080/"
        },
        "id": "NuDxkjvKrdXI",
        "outputId": "3e3e8e61-ba3a-425c-c235-da1e4f024fce"
      },
      "execution_count": null,
      "outputs": [
        {
          "output_type": "stream",
          "name": "stdout",
          "text": [
            "0.3695071770290749\n",
            "0.7712611028200671\n"
          ]
        }
      ]
    },
    {
      "cell_type": "code",
      "source": [
        "#M2\n",
        "print(rmse(r1.truth,r1.m2,squared=False))\n",
        "print(r2(r1.truth,r1.m2))"
      ],
      "metadata": {
        "colab": {
          "base_uri": "https://localhost:8080/"
        },
        "id": "Qd7FAbxfr0gC",
        "outputId": "4e295e95-6cfb-482c-856d-792a14d9be04"
      },
      "execution_count": null,
      "outputs": [
        {
          "output_type": "stream",
          "name": "stdout",
          "text": [
            "0.38009196722653216\n",
            "0.7579686354532824\n"
          ]
        }
      ]
    },
    {
      "cell_type": "code",
      "source": [
        "#M3\n",
        "print(rmse(r1.truth,r1.m3,squared=False))\n",
        "print(r2(r1.truth,r1.m3))"
      ],
      "metadata": {
        "colab": {
          "base_uri": "https://localhost:8080/"
        },
        "id": "AMcLFyXVr4pY",
        "outputId": "2c6dd206-df39-4bfc-c01a-eabdd2231f44"
      },
      "execution_count": null,
      "outputs": [
        {
          "output_type": "stream",
          "name": "stdout",
          "text": [
            "0.3827147802890234\n",
            "0.7546168506281636\n"
          ]
        }
      ]
    }
  ]
}
