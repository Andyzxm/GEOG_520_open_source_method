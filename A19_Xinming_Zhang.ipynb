{
  "nbformat": 4,
  "nbformat_minor": 0,
  "metadata": {
    "colab": {
      "provenance": [],
      "mount_file_id": "1-3f_Nxf5L2GmOPGsGT5-vYCVobO1CiO0",
      "authorship_tag": "ABX9TyMh9Xb/MnBo9U81BfXgXtlg",
      "include_colab_link": true
    },
    "kernelspec": {
      "name": "python3",
      "display_name": "Python 3"
    },
    "language_info": {
      "name": "python"
    }
  },
  "cells": [
    {
      "cell_type": "markdown",
      "metadata": {
        "id": "view-in-github",
        "colab_type": "text"
      },
      "source": [
        "<a href=\"https://colab.research.google.com/github/Andyzxm/GEOG_520_open_source_method/blob/main/A19_Xinming_Zhang.ipynb\" target=\"_parent\"><img src=\"https://colab.research.google.com/assets/colab-badge.svg\" alt=\"Open In Colab\"/></a>"
      ]
    },
    {
      "cell_type": "markdown",
      "source": [
        "Question 1. Explain the hyperparameters required for the Random Forest algorithm\n",
        "\n",
        "In random forest, the hyperparameters are the number of trees, number of features and the type of trees. It is essential for any Random Forest models because those are parameters whose values control the learning process and determine the values of model parameters that a learning algorithm ends up learning. "
      ],
      "metadata": {
        "id": "9oXb_DnlqMmG"
      }
    },
    {
      "cell_type": "markdown",
      "source": [
        "Question 2. How is Random Forest different from a single decision tree?\n",
        "\n",
        "In short, A decision tree is built on an entire dataset, using all the features/variables of interest, whereas a random forest randomly selects observations/rows and specific features/variables to build multiple decision trees from and then averages the results "
      ],
      "metadata": {
        "id": "xrek1Ny_qNwz"
      }
    },
    {
      "cell_type": "markdown",
      "source": [
        "Question 3. Why is it important to assess machine learning models using withheld\n",
        "validation data as opposed to the data points used to train the model?\n",
        "\n",
        "The prediction of nominal variables are assessed using the withheld testing or validation data because it is important not to use the trained or used data. Those used datasets have no way of verifying that our model learned real patterns in the data, and it could results in overly optimistic metrics on model’s performance because the model has already seen the data and knows exactly how to handle it. Therefore, we can reduce the bias and errors by using the withheld dataset to check how well a model will perform on the new dataset"
      ],
      "metadata": {
        "id": "92mknDigqP52"
      }
    },
    {
      "cell_type": "code",
      "execution_count": null,
      "metadata": {
        "id": "l_TETxbxnbcE"
      },
      "outputs": [],
      "source": [
        "import numpy as np\n",
        "import pandas as pd\n",
        "import seaborn as sns\n",
        "import matplotlib.pyplot as plt\n",
        "%matplotlib inline\n",
        "from sklearn.ensemble import RandomForestClassifier\n",
        "from sklearn.model_selection import train_test_split\n",
        "\n",
        "from sklearn.metrics import confusion_matrix as cm\n",
        "from sklearn.metrics import cohen_kappa_score as kap\n",
        "from sklearn.metrics import accuracy_score as oa\n",
        "from sklearn.metrics import classification_report as cp\n",
        "from sklearn.metrics import roc_auc_score as rocauc\n",
        "from sklearn.metrics import precision_recall_curve as pr \n",
        "from sklearn.metrics import auc\n",
        "from sklearn.metrics import mean_squared_error as rmse\n",
        "from sklearn.metrics import r2_score as r2\n"
      ]
    },
    {
      "cell_type": "markdown",
      "source": [
        "Task 1. Prepare the data by (1) filtering to create a data table that includes only the\n",
        "dependent variable (“Satisfaction”) and the independent variables used to predict it:\n",
        "“Gender”, “Age”, “Customer.Type”, “Type.of.Travel”, “Class”, “Flight.Distance”,\n",
        "“Departure.Delay”, and “Arrival.Delay”. “Gender”, “Age”, “Customer.Type”,\n",
        "“Type.of.Travel”, and “Class” should be treated as nominal data. “Flight.Distance”,\n",
        "“Departure.Delay”, and “Arrival.Delay” should be treated as continuous data.\n",
        "“Satisfaction” has two levels: \"Neutral or Dissatisfied\" and \"Satisfied\". Remove any\n",
        "rows with missing data in any column"
      ],
      "metadata": {
        "id": "_DVHE6Jaqyre"
      }
    },
    {
      "cell_type": "code",
      "source": [
        "air= pd.read_csv(\"/content/drive/MyDrive/GEOG520_python_data/datasets/datasets/airline_passenger_satisfaction.csv\")\n",
        "air.columns\n",
        "air.columns= [i.replace(\" \", \"_\") for i in air.columns]\n",
        "air.columns"
      ],
      "metadata": {
        "colab": {
          "base_uri": "https://localhost:8080/"
        },
        "id": "9c8zvLMAqzpQ",
        "outputId": "b5434bf4-6369-4f81-8bbd-7f900b0abfd3"
      },
      "execution_count": null,
      "outputs": [
        {
          "output_type": "execute_result",
          "data": {
            "text/plain": [
              "Index(['ID', 'Gender', 'Age', 'Customer_Type', 'Type_of_Travel', 'Class',\n",
              "       'Flight_Distance', 'Departure_Delay', 'Arrival_Delay',\n",
              "       'Departure_and_Arrival_Time_Convenience', 'Ease_of_Online_Booking',\n",
              "       'Check-in_Service', 'Online_Boarding', 'Gate_Location',\n",
              "       'On-board_Service', 'Seat_Comfort', 'Leg_Room_Service', 'Cleanliness',\n",
              "       'Food_and_Drink', 'In-flight_Service', 'In-flight_Wifi_Service',\n",
              "       'In-flight_Entertainment', 'Baggage_Handling', 'Satisfaction'],\n",
              "      dtype='object')"
            ]
          },
          "metadata": {},
          "execution_count": 2
        }
      ]
    },
    {
      "cell_type": "code",
      "source": [
        "#Task1\n",
        "air= air[[\"Satisfaction\", \"Gender\", \"Age\", \"Customer_Type\", \"Type_of_Travel\", \"Class\", \"Flight_Distance\", \"Departure_Delay\", \"Arrival_Delay\"]]\n",
        "air=air.dropna(axis=0)\n",
        "air"
      ],
      "metadata": {
        "colab": {
          "base_uri": "https://localhost:8080/",
          "height": 424
        },
        "id": "cO8TpVv4wOkp",
        "outputId": "c96300b8-a4e2-4b2f-8082-e15a1a7fbdee"
      },
      "execution_count": null,
      "outputs": [
        {
          "output_type": "execute_result",
          "data": {
            "text/plain": [
              "                   Satisfaction  Gender  Age Customer_Type Type_of_Travel  \\\n",
              "0       Neutral or Dissatisfied    Male   48    First-time       Business   \n",
              "1                     Satisfied  Female   35     Returning       Business   \n",
              "2                     Satisfied    Male   41     Returning       Business   \n",
              "3                     Satisfied    Male   50     Returning       Business   \n",
              "4                     Satisfied  Female   49     Returning       Business   \n",
              "...                         ...     ...  ...           ...            ...   \n",
              "129875  Neutral or Dissatisfied    Male   28     Returning       Personal   \n",
              "129876  Neutral or Dissatisfied    Male   41     Returning       Personal   \n",
              "129877  Neutral or Dissatisfied    Male   42     Returning       Personal   \n",
              "129878                Satisfied    Male   50     Returning       Personal   \n",
              "129879  Neutral or Dissatisfied  Female   20     Returning       Personal   \n",
              "\n",
              "               Class  Flight_Distance  Departure_Delay  Arrival_Delay  \n",
              "0           Business              821                2            5.0  \n",
              "1           Business              821               26           39.0  \n",
              "2           Business              853                0            0.0  \n",
              "3           Business             1905                0            0.0  \n",
              "4           Business             3470                0            1.0  \n",
              "...              ...              ...              ...            ...  \n",
              "129875  Economy Plus              447                2            3.0  \n",
              "129876  Economy Plus              308                0            0.0  \n",
              "129877  Economy Plus              337                6           14.0  \n",
              "129878  Economy Plus              337               31           22.0  \n",
              "129879  Economy Plus              337                0            0.0  \n",
              "\n",
              "[129487 rows x 9 columns]"
            ],
            "text/html": [
              "\n",
              "  <div id=\"df-287412b5-87a1-4a6e-a191-bae681ff6cb8\">\n",
              "    <div class=\"colab-df-container\">\n",
              "      <div>\n",
              "<style scoped>\n",
              "    .dataframe tbody tr th:only-of-type {\n",
              "        vertical-align: middle;\n",
              "    }\n",
              "\n",
              "    .dataframe tbody tr th {\n",
              "        vertical-align: top;\n",
              "    }\n",
              "\n",
              "    .dataframe thead th {\n",
              "        text-align: right;\n",
              "    }\n",
              "</style>\n",
              "<table border=\"1\" class=\"dataframe\">\n",
              "  <thead>\n",
              "    <tr style=\"text-align: right;\">\n",
              "      <th></th>\n",
              "      <th>Satisfaction</th>\n",
              "      <th>Gender</th>\n",
              "      <th>Age</th>\n",
              "      <th>Customer_Type</th>\n",
              "      <th>Type_of_Travel</th>\n",
              "      <th>Class</th>\n",
              "      <th>Flight_Distance</th>\n",
              "      <th>Departure_Delay</th>\n",
              "      <th>Arrival_Delay</th>\n",
              "    </tr>\n",
              "  </thead>\n",
              "  <tbody>\n",
              "    <tr>\n",
              "      <th>0</th>\n",
              "      <td>Neutral or Dissatisfied</td>\n",
              "      <td>Male</td>\n",
              "      <td>48</td>\n",
              "      <td>First-time</td>\n",
              "      <td>Business</td>\n",
              "      <td>Business</td>\n",
              "      <td>821</td>\n",
              "      <td>2</td>\n",
              "      <td>5.0</td>\n",
              "    </tr>\n",
              "    <tr>\n",
              "      <th>1</th>\n",
              "      <td>Satisfied</td>\n",
              "      <td>Female</td>\n",
              "      <td>35</td>\n",
              "      <td>Returning</td>\n",
              "      <td>Business</td>\n",
              "      <td>Business</td>\n",
              "      <td>821</td>\n",
              "      <td>26</td>\n",
              "      <td>39.0</td>\n",
              "    </tr>\n",
              "    <tr>\n",
              "      <th>2</th>\n",
              "      <td>Satisfied</td>\n",
              "      <td>Male</td>\n",
              "      <td>41</td>\n",
              "      <td>Returning</td>\n",
              "      <td>Business</td>\n",
              "      <td>Business</td>\n",
              "      <td>853</td>\n",
              "      <td>0</td>\n",
              "      <td>0.0</td>\n",
              "    </tr>\n",
              "    <tr>\n",
              "      <th>3</th>\n",
              "      <td>Satisfied</td>\n",
              "      <td>Male</td>\n",
              "      <td>50</td>\n",
              "      <td>Returning</td>\n",
              "      <td>Business</td>\n",
              "      <td>Business</td>\n",
              "      <td>1905</td>\n",
              "      <td>0</td>\n",
              "      <td>0.0</td>\n",
              "    </tr>\n",
              "    <tr>\n",
              "      <th>4</th>\n",
              "      <td>Satisfied</td>\n",
              "      <td>Female</td>\n",
              "      <td>49</td>\n",
              "      <td>Returning</td>\n",
              "      <td>Business</td>\n",
              "      <td>Business</td>\n",
              "      <td>3470</td>\n",
              "      <td>0</td>\n",
              "      <td>1.0</td>\n",
              "    </tr>\n",
              "    <tr>\n",
              "      <th>...</th>\n",
              "      <td>...</td>\n",
              "      <td>...</td>\n",
              "      <td>...</td>\n",
              "      <td>...</td>\n",
              "      <td>...</td>\n",
              "      <td>...</td>\n",
              "      <td>...</td>\n",
              "      <td>...</td>\n",
              "      <td>...</td>\n",
              "    </tr>\n",
              "    <tr>\n",
              "      <th>129875</th>\n",
              "      <td>Neutral or Dissatisfied</td>\n",
              "      <td>Male</td>\n",
              "      <td>28</td>\n",
              "      <td>Returning</td>\n",
              "      <td>Personal</td>\n",
              "      <td>Economy Plus</td>\n",
              "      <td>447</td>\n",
              "      <td>2</td>\n",
              "      <td>3.0</td>\n",
              "    </tr>\n",
              "    <tr>\n",
              "      <th>129876</th>\n",
              "      <td>Neutral or Dissatisfied</td>\n",
              "      <td>Male</td>\n",
              "      <td>41</td>\n",
              "      <td>Returning</td>\n",
              "      <td>Personal</td>\n",
              "      <td>Economy Plus</td>\n",
              "      <td>308</td>\n",
              "      <td>0</td>\n",
              "      <td>0.0</td>\n",
              "    </tr>\n",
              "    <tr>\n",
              "      <th>129877</th>\n",
              "      <td>Neutral or Dissatisfied</td>\n",
              "      <td>Male</td>\n",
              "      <td>42</td>\n",
              "      <td>Returning</td>\n",
              "      <td>Personal</td>\n",
              "      <td>Economy Plus</td>\n",
              "      <td>337</td>\n",
              "      <td>6</td>\n",
              "      <td>14.0</td>\n",
              "    </tr>\n",
              "    <tr>\n",
              "      <th>129878</th>\n",
              "      <td>Satisfied</td>\n",
              "      <td>Male</td>\n",
              "      <td>50</td>\n",
              "      <td>Returning</td>\n",
              "      <td>Personal</td>\n",
              "      <td>Economy Plus</td>\n",
              "      <td>337</td>\n",
              "      <td>31</td>\n",
              "      <td>22.0</td>\n",
              "    </tr>\n",
              "    <tr>\n",
              "      <th>129879</th>\n",
              "      <td>Neutral or Dissatisfied</td>\n",
              "      <td>Female</td>\n",
              "      <td>20</td>\n",
              "      <td>Returning</td>\n",
              "      <td>Personal</td>\n",
              "      <td>Economy Plus</td>\n",
              "      <td>337</td>\n",
              "      <td>0</td>\n",
              "      <td>0.0</td>\n",
              "    </tr>\n",
              "  </tbody>\n",
              "</table>\n",
              "<p>129487 rows × 9 columns</p>\n",
              "</div>\n",
              "      <button class=\"colab-df-convert\" onclick=\"convertToInteractive('df-287412b5-87a1-4a6e-a191-bae681ff6cb8')\"\n",
              "              title=\"Convert this dataframe to an interactive table.\"\n",
              "              style=\"display:none;\">\n",
              "        \n",
              "  <svg xmlns=\"http://www.w3.org/2000/svg\" height=\"24px\"viewBox=\"0 0 24 24\"\n",
              "       width=\"24px\">\n",
              "    <path d=\"M0 0h24v24H0V0z\" fill=\"none\"/>\n",
              "    <path d=\"M18.56 5.44l.94 2.06.94-2.06 2.06-.94-2.06-.94-.94-2.06-.94 2.06-2.06.94zm-11 1L8.5 8.5l.94-2.06 2.06-.94-2.06-.94L8.5 2.5l-.94 2.06-2.06.94zm10 10l.94 2.06.94-2.06 2.06-.94-2.06-.94-.94-2.06-.94 2.06-2.06.94z\"/><path d=\"M17.41 7.96l-1.37-1.37c-.4-.4-.92-.59-1.43-.59-.52 0-1.04.2-1.43.59L10.3 9.45l-7.72 7.72c-.78.78-.78 2.05 0 2.83L4 21.41c.39.39.9.59 1.41.59.51 0 1.02-.2 1.41-.59l7.78-7.78 2.81-2.81c.8-.78.8-2.07 0-2.86zM5.41 20L4 18.59l7.72-7.72 1.47 1.35L5.41 20z\"/>\n",
              "  </svg>\n",
              "      </button>\n",
              "      \n",
              "  <style>\n",
              "    .colab-df-container {\n",
              "      display:flex;\n",
              "      flex-wrap:wrap;\n",
              "      gap: 12px;\n",
              "    }\n",
              "\n",
              "    .colab-df-convert {\n",
              "      background-color: #E8F0FE;\n",
              "      border: none;\n",
              "      border-radius: 50%;\n",
              "      cursor: pointer;\n",
              "      display: none;\n",
              "      fill: #1967D2;\n",
              "      height: 32px;\n",
              "      padding: 0 0 0 0;\n",
              "      width: 32px;\n",
              "    }\n",
              "\n",
              "    .colab-df-convert:hover {\n",
              "      background-color: #E2EBFA;\n",
              "      box-shadow: 0px 1px 2px rgba(60, 64, 67, 0.3), 0px 1px 3px 1px rgba(60, 64, 67, 0.15);\n",
              "      fill: #174EA6;\n",
              "    }\n",
              "\n",
              "    [theme=dark] .colab-df-convert {\n",
              "      background-color: #3B4455;\n",
              "      fill: #D2E3FC;\n",
              "    }\n",
              "\n",
              "    [theme=dark] .colab-df-convert:hover {\n",
              "      background-color: #434B5C;\n",
              "      box-shadow: 0px 1px 3px 1px rgba(0, 0, 0, 0.15);\n",
              "      filter: drop-shadow(0px 1px 2px rgba(0, 0, 0, 0.3));\n",
              "      fill: #FFFFFF;\n",
              "    }\n",
              "  </style>\n",
              "\n",
              "      <script>\n",
              "        const buttonEl =\n",
              "          document.querySelector('#df-287412b5-87a1-4a6e-a191-bae681ff6cb8 button.colab-df-convert');\n",
              "        buttonEl.style.display =\n",
              "          google.colab.kernel.accessAllowed ? 'block' : 'none';\n",
              "\n",
              "        async function convertToInteractive(key) {\n",
              "          const element = document.querySelector('#df-287412b5-87a1-4a6e-a191-bae681ff6cb8');\n",
              "          const dataTable =\n",
              "            await google.colab.kernel.invokeFunction('convertToInteractive',\n",
              "                                                     [key], {});\n",
              "          if (!dataTable) return;\n",
              "\n",
              "          const docLinkHtml = 'Like what you see? Visit the ' +\n",
              "            '<a target=\"_blank\" href=https://colab.research.google.com/notebooks/data_table.ipynb>data table notebook</a>'\n",
              "            + ' to learn more about interactive tables.';\n",
              "          element.innerHTML = '';\n",
              "          dataTable['output_type'] = 'display_data';\n",
              "          await google.colab.output.renderOutput(dataTable, element);\n",
              "          const docLink = document.createElement('div');\n",
              "          docLink.innerHTML = docLinkHtml;\n",
              "          element.appendChild(docLink);\n",
              "        }\n",
              "      </script>\n",
              "    </div>\n",
              "  </div>\n",
              "  "
            ]
          },
          "metadata": {},
          "execution_count": 3
        }
      ]
    },
    {
      "cell_type": "markdown",
      "source": [
        "Task 2. Create grouped bar plots to compare “Satisfaction” to each of the nominal\n",
        "predictor variables. Describe the results. Which variables seem to be predictive of flight\n",
        "satisfaction"
      ],
      "metadata": {
        "id": "kX8fF-eVx-u1"
      }
    },
    {
      "cell_type": "code",
      "source": [
        "#Task 2 \n",
        "sns.countplot(x=\"Gender\", hue=\"Satisfaction\", data= air)"
      ],
      "metadata": {
        "colab": {
          "base_uri": "https://localhost:8080/",
          "height": 296
        },
        "id": "veL-73oJ5Z8e",
        "outputId": "c1663e02-2967-4814-ff66-d5e13d130168"
      },
      "execution_count": null,
      "outputs": [
        {
          "output_type": "execute_result",
          "data": {
            "text/plain": [
              "<matplotlib.axes._subplots.AxesSubplot at 0x7f7461a26090>"
            ]
          },
          "metadata": {},
          "execution_count": 4
        },
        {
          "output_type": "display_data",
          "data": {
            "text/plain": [
              "<Figure size 432x288 with 1 Axes>"
            ],
            "image/png": "[encoded data removed]"
          },
          "metadata": {
            "needs_background": "light"
          }
        }
      ]
    },
    {
      "cell_type": "code",
      "source": [
        "sns.countplot(x=\"Customer_Type\", hue=\"Satisfaction\", data= air)"
      ],
      "metadata": {
        "colab": {
          "base_uri": "https://localhost:8080/",
          "height": 297
        },
        "id": "31zOvAhF5xu3",
        "outputId": "1009f8c2-e19b-43f8-8387-d13f73477836"
      },
      "execution_count": null,
      "outputs": [
        {
          "output_type": "execute_result",
          "data": {
            "text/plain": [
              "<matplotlib.axes._subplots.AxesSubplot at 0x7f746029d650>"
            ]
          },
          "metadata": {},
          "execution_count": 5
        },
        {
          "output_type": "display_data",
          "data": {
            "text/plain": [
              "<Figure size 432x288 with 1 Axes>"
            ],
            "image/png": "[encoded data removed]"
          },
          "metadata": {
            "needs_background": "light"
          }
        }
      ]
    },
    {
      "cell_type": "code",
      "source": [
        "sns.countplot(x=\"Type_of_Travel\", hue=\"Satisfaction\", data= air)"
      ],
      "metadata": {
        "colab": {
          "base_uri": "https://localhost:8080/",
          "height": 297
        },
        "id": "DIlBrz4ZA6p4",
        "outputId": "fedbd8c2-8e04-4ab7-915c-d6acb3297762"
      },
      "execution_count": null,
      "outputs": [
        {
          "output_type": "execute_result",
          "data": {
            "text/plain": [
              "<matplotlib.axes._subplots.AxesSubplot at 0x7f87c5a05d90>"
            ]
          },
          "metadata": {},
          "execution_count": 24
        },
        {
          "output_type": "display_data",
          "data": {
            "text/plain": [
              "<Figure size 432x288 with 1 Axes>"
            ],
            "image/png": "[encoded data removed]"
          },
          "metadata": {
            "needs_background": "light"
          }
        }
      ]
    },
    {
      "cell_type": "code",
      "source": [
        "sns.countplot(x=\"Class\", hue=\"Satisfaction\", data= air)"
      ],
      "metadata": {
        "colab": {
          "base_uri": "https://localhost:8080/",
          "height": 296
        },
        "id": "F1sx0rGhBBhK",
        "outputId": "a424da20-9cf9-4f74-b70c-71d3e5ffd57a"
      },
      "execution_count": null,
      "outputs": [
        {
          "output_type": "execute_result",
          "data": {
            "text/plain": [
              "<matplotlib.axes._subplots.AxesSubplot at 0x7f87c5a92750>"
            ]
          },
          "metadata": {},
          "execution_count": 25
        },
        {
          "output_type": "display_data",
          "data": {
            "text/plain": [
              "<Figure size 432x288 with 1 Axes>"
            ],
            "image/png": "[encoded data removed]"
          },
          "metadata": {
            "needs_background": "light"
          }
        }
      ]
    },
    {
      "cell_type": "markdown",
      "source": [
        "The overall satisfaction rate really changes for the customer type and we can see a huge difference between first timer and returning customers. The class of tge flight also makes sense to predict the satisfaction since business class usually have way better service for the customers and therefore the satisfaction rate is higher compared to the economy class and economy plus class. "
      ],
      "metadata": {
        "id": "I-uJH8FxBMKO"
      }
    },
    {
      "cell_type": "markdown",
      "source": [
        "Task 3 Create grouped boxplots to compare “Satisfaction” to each of the continuous\n",
        "predictor variables. Describe the results. Which variables seem to be predictive of flight\n",
        "satisfaction"
      ],
      "metadata": {
        "id": "vxS425s85ao4"
      }
    },
    {
      "cell_type": "code",
      "source": [
        "#Task 3 \n",
        "sns.boxplot(x=\"Satisfaction\", y= \"Age\", data= air)"
      ],
      "metadata": {
        "colab": {
          "base_uri": "https://localhost:8080/",
          "height": 296
        },
        "id": "ca33uo-dyBSv",
        "outputId": "108c0ded-58ce-4720-fc51-4eb135dd830a"
      },
      "execution_count": null,
      "outputs": [
        {
          "output_type": "execute_result",
          "data": {
            "text/plain": [
              "<matplotlib.axes._subplots.AxesSubplot at 0x7f87c625ca50>"
            ]
          },
          "metadata": {},
          "execution_count": 18
        },
        {
          "output_type": "display_data",
          "data": {
            "text/plain": [
              "<Figure size 432x288 with 1 Axes>"
            ],
            "image/png": "[encoded data removed]"
          },
          "metadata": {
            "needs_background": "light"
          }
        }
      ]
    },
    {
      "cell_type": "code",
      "source": [
        "sns.boxplot(x=\"Satisfaction\", y= \"Flight_Distance\", data= air)"
      ],
      "metadata": {
        "colab": {
          "base_uri": "https://localhost:8080/",
          "height": 296
        },
        "id": "6rifiGox4srB",
        "outputId": "d726d3a3-26bd-47b3-d208-c21a58a1099c"
      },
      "execution_count": null,
      "outputs": [
        {
          "output_type": "execute_result",
          "data": {
            "text/plain": [
              "<matplotlib.axes._subplots.AxesSubplot at 0x7f87c6119b90>"
            ]
          },
          "metadata": {},
          "execution_count": 19
        },
        {
          "output_type": "display_data",
          "data": {
            "text/plain": [
              "<Figure size 432x288 with 1 Axes>"
            ],
            "image/png": "[encoded data removed]"
          },
          "metadata": {
            "needs_background": "light"
          }
        }
      ]
    },
    {
      "cell_type": "code",
      "source": [
        "sns.boxplot(x=\"Satisfaction\", y= \"Departure_Delay\", data= air)"
      ],
      "metadata": {
        "colab": {
          "base_uri": "https://localhost:8080/",
          "height": 296
        },
        "id": "_dqziK-_41_9",
        "outputId": "4240e7dc-4353-4970-9370-935438ca4f4a"
      },
      "execution_count": null,
      "outputs": [
        {
          "output_type": "execute_result",
          "data": {
            "text/plain": [
              "<matplotlib.axes._subplots.AxesSubplot at 0x7f87c5c4c6d0>"
            ]
          },
          "metadata": {},
          "execution_count": 20
        },
        {
          "output_type": "display_data",
          "data": {
            "text/plain": [
              "<Figure size 432x288 with 1 Axes>"
            ],
            "image/png": "[encoded data removed]"
          },
          "metadata": {
            "needs_background": "light"
          }
        }
      ]
    },
    {
      "cell_type": "code",
      "source": [
        "sns.boxplot(x=\"Satisfaction\", y= \"Arrival_Delay\", data= air)"
      ],
      "metadata": {
        "colab": {
          "base_uri": "https://localhost:8080/",
          "height": 296
        },
        "id": "V8JE-LjM48NZ",
        "outputId": "0d26c99c-bc6d-4659-f2da-97f5de54cebf"
      },
      "execution_count": null,
      "outputs": [
        {
          "output_type": "execute_result",
          "data": {
            "text/plain": [
              "<matplotlib.axes._subplots.AxesSubplot at 0x7f87c5b66a90>"
            ]
          },
          "metadata": {},
          "execution_count": 21
        },
        {
          "output_type": "display_data",
          "data": {
            "text/plain": [
              "<Figure size 432x288 with 1 Axes>"
            ],
            "image/png": "[encoded data removed]"
          },
          "metadata": {
            "needs_background": "light"
          }
        }
      ]
    },
    {
      "cell_type": "markdown",
      "source": [
        "From our generated resutls we can see that Age doesn't really affect too much satisfaction rate and stays quite neutrual. The best boxplot that can be observed well to determine the difference is the flight distance category for overall satisfaction. The depature delay and arrival delay have the least satisfaction resutls, but these two boxplots are too difficult to be interpreted. The flight distance is the one that could provide a solid interpretation that longer flight will cause lower satisfaction "
      ],
      "metadata": {
        "id": "gLgh58YpByoh"
      }
    },
    {
      "cell_type": "markdown",
      "source": [
        "Task 4. Split the data into separate, non-overlapping training and testing sets. 75% of\n",
        "the data should be used to train the model while 25% should be maintained for\n",
        "validation. Stratify the partition using the “Satisfaction” variable."
      ],
      "metadata": {
        "id": "nBpYI5aYCRRd"
      }
    },
    {
      "cell_type": "code",
      "source": [
        "#task 4 \n",
        "#add dummie \n",
        "gender= pd.get_dummies(air.Gender, prefix= \"Gen\",drop_first=True)\n",
        "aclass = pd.get_dummies(air.Class, prefix= \"Class\",drop_first=True)\n",
        "ttype= pd.get_dummies(air.Type_of_Travel, prefix= \"Type\",drop_first=True)\n",
        "ctype= pd.get_dummies(air.Customer_Type, prefix= \"Type\",drop_first=True)\n",
        "air2 = pd.concat([air,gender,aclass,ttype,ctype], axis=1)\n",
        "air2.head()\n"
      ],
      "metadata": {
        "colab": {
          "base_uri": "https://localhost:8080/",
          "height": 206
        },
        "id": "tmLS8inQCPbJ",
        "outputId": "0528a7be-6729-495d-b61a-a9254bc5d40e"
      },
      "execution_count": null,
      "outputs": [
        {
          "output_type": "execute_result",
          "data": {
            "text/plain": [
              "              Satisfaction  Gender  Age Customer_Type Type_of_Travel  \\\n",
              "0  Neutral or Dissatisfied    Male   48    First-time       Business   \n",
              "1                Satisfied  Female   35     Returning       Business   \n",
              "2                Satisfied    Male   41     Returning       Business   \n",
              "3                Satisfied    Male   50     Returning       Business   \n",
              "4                Satisfied  Female   49     Returning       Business   \n",
              "\n",
              "      Class  Flight_Distance  Departure_Delay  Arrival_Delay  Gen_Male  \\\n",
              "0  Business              821                2            5.0         1   \n",
              "1  Business              821               26           39.0         0   \n",
              "2  Business              853                0            0.0         1   \n",
              "3  Business             1905                0            0.0         1   \n",
              "4  Business             3470                0            1.0         0   \n",
              "\n",
              "   Class_Economy  Class_Economy Plus  Type_Personal  Type_Returning  \n",
              "0              0                   0              0               0  \n",
              "1              0                   0              0               1  \n",
              "2              0                   0              0               1  \n",
              "3              0                   0              0               1  \n",
              "4              0                   0              0               1  "
            ],
            "text/html": [
              "\n",
              "  <div id=\"df-11ffcad6-287c-4b59-a5e2-5d24bd8fe9f2\">\n",
              "    <div class=\"colab-df-container\">\n",
              "      <div>\n",
              "<style scoped>\n",
              "    .dataframe tbody tr th:only-of-type {\n",
              "        vertical-align: middle;\n",
              "    }\n",
              "\n",
              "    .dataframe tbody tr th {\n",
              "        vertical-align: top;\n",
              "    }\n",
              "\n",
              "    .dataframe thead th {\n",
              "        text-align: right;\n",
              "    }\n",
              "</style>\n",
              "<table border=\"1\" class=\"dataframe\">\n",
              "  <thead>\n",
              "    <tr style=\"text-align: right;\">\n",
              "      <th></th>\n",
              "      <th>Satisfaction</th>\n",
              "      <th>Gender</th>\n",
              "      <th>Age</th>\n",
              "      <th>Customer_Type</th>\n",
              "      <th>Type_of_Travel</th>\n",
              "      <th>Class</th>\n",
              "      <th>Flight_Distance</th>\n",
              "      <th>Departure_Delay</th>\n",
              "      <th>Arrival_Delay</th>\n",
              "      <th>Gen_Male</th>\n",
              "      <th>Class_Economy</th>\n",
              "      <th>Class_Economy Plus</th>\n",
              "      <th>Type_Personal</th>\n",
              "      <th>Type_Returning</th>\n",
              "    </tr>\n",
              "  </thead>\n",
              "  <tbody>\n",
              "    <tr>\n",
              "      <th>0</th>\n",
              "      <td>Neutral or Dissatisfied</td>\n",
              "      <td>Male</td>\n",
              "      <td>48</td>\n",
              "      <td>First-time</td>\n",
              "      <td>Business</td>\n",
              "      <td>Business</td>\n",
              "      <td>821</td>\n",
              "      <td>2</td>\n",
              "      <td>5.0</td>\n",
              "      <td>1</td>\n",
              "      <td>0</td>\n",
              "      <td>0</td>\n",
              "      <td>0</td>\n",
              "      <td>0</td>\n",
              "    </tr>\n",
              "    <tr>\n",
              "      <th>1</th>\n",
              "      <td>Satisfied</td>\n",
              "      <td>Female</td>\n",
              "      <td>35</td>\n",
              "      <td>Returning</td>\n",
              "      <td>Business</td>\n",
              "      <td>Business</td>\n",
              "      <td>821</td>\n",
              "      <td>26</td>\n",
              "      <td>39.0</td>\n",
              "      <td>0</td>\n",
              "      <td>0</td>\n",
              "      <td>0</td>\n",
              "      <td>0</td>\n",
              "      <td>1</td>\n",
              "    </tr>\n",
              "    <tr>\n",
              "      <th>2</th>\n",
              "      <td>Satisfied</td>\n",
              "      <td>Male</td>\n",
              "      <td>41</td>\n",
              "      <td>Returning</td>\n",
              "      <td>Business</td>\n",
              "      <td>Business</td>\n",
              "      <td>853</td>\n",
              "      <td>0</td>\n",
              "      <td>0.0</td>\n",
              "      <td>1</td>\n",
              "      <td>0</td>\n",
              "      <td>0</td>\n",
              "      <td>0</td>\n",
              "      <td>1</td>\n",
              "    </tr>\n",
              "    <tr>\n",
              "      <th>3</th>\n",
              "      <td>Satisfied</td>\n",
              "      <td>Male</td>\n",
              "      <td>50</td>\n",
              "      <td>Returning</td>\n",
              "      <td>Business</td>\n",
              "      <td>Business</td>\n",
              "      <td>1905</td>\n",
              "      <td>0</td>\n",
              "      <td>0.0</td>\n",
              "      <td>1</td>\n",
              "      <td>0</td>\n",
              "      <td>0</td>\n",
              "      <td>0</td>\n",
              "      <td>1</td>\n",
              "    </tr>\n",
              "    <tr>\n",
              "      <th>4</th>\n",
              "      <td>Satisfied</td>\n",
              "      <td>Female</td>\n",
              "      <td>49</td>\n",
              "      <td>Returning</td>\n",
              "      <td>Business</td>\n",
              "      <td>Business</td>\n",
              "      <td>3470</td>\n",
              "      <td>0</td>\n",
              "      <td>1.0</td>\n",
              "      <td>0</td>\n",
              "      <td>0</td>\n",
              "      <td>0</td>\n",
              "      <td>0</td>\n",
              "      <td>1</td>\n",
              "    </tr>\n",
              "  </tbody>\n",
              "</table>\n",
              "</div>\n",
              "      <button class=\"colab-df-convert\" onclick=\"convertToInteractive('df-11ffcad6-287c-4b59-a5e2-5d24bd8fe9f2')\"\n",
              "              title=\"Convert this dataframe to an interactive table.\"\n",
              "              style=\"display:none;\">\n",
              "        \n",
              "  <svg xmlns=\"http://www.w3.org/2000/svg\" height=\"24px\"viewBox=\"0 0 24 24\"\n",
              "       width=\"24px\">\n",
              "    <path d=\"M0 0h24v24H0V0z\" fill=\"none\"/>\n",
              "    <path d=\"M18.56 5.44l.94 2.06.94-2.06 2.06-.94-2.06-.94-.94-2.06-.94 2.06-2.06.94zm-11 1L8.5 8.5l.94-2.06 2.06-.94-2.06-.94L8.5 2.5l-.94 2.06-2.06.94zm10 10l.94 2.06.94-2.06 2.06-.94-2.06-.94-.94-2.06-.94 2.06-2.06.94z\"/><path d=\"M17.41 7.96l-1.37-1.37c-.4-.4-.92-.59-1.43-.59-.52 0-1.04.2-1.43.59L10.3 9.45l-7.72 7.72c-.78.78-.78 2.05 0 2.83L4 21.41c.39.39.9.59 1.41.59.51 0 1.02-.2 1.41-.59l7.78-7.78 2.81-2.81c.8-.78.8-2.07 0-2.86zM5.41 20L4 18.59l7.72-7.72 1.47 1.35L5.41 20z\"/>\n",
              "  </svg>\n",
              "      </button>\n",
              "      \n",
              "  <style>\n",
              "    .colab-df-container {\n",
              "      display:flex;\n",
              "      flex-wrap:wrap;\n",
              "      gap: 12px;\n",
              "    }\n",
              "\n",
              "    .colab-df-convert {\n",
              "      background-color: #E8F0FE;\n",
              "      border: none;\n",
              "      border-radius: 50%;\n",
              "      cursor: pointer;\n",
              "      display: none;\n",
              "      fill: #1967D2;\n",
              "      height: 32px;\n",
              "      padding: 0 0 0 0;\n",
              "      width: 32px;\n",
              "    }\n",
              "\n",
              "    .colab-df-convert:hover {\n",
              "      background-color: #E2EBFA;\n",
              "      box-shadow: 0px 1px 2px rgba(60, 64, 67, 0.3), 0px 1px 3px 1px rgba(60, 64, 67, 0.15);\n",
              "      fill: #174EA6;\n",
              "    }\n",
              "\n",
              "    [theme=dark] .colab-df-convert {\n",
              "      background-color: #3B4455;\n",
              "      fill: #D2E3FC;\n",
              "    }\n",
              "\n",
              "    [theme=dark] .colab-df-convert:hover {\n",
              "      background-color: #434B5C;\n",
              "      box-shadow: 0px 1px 3px 1px rgba(0, 0, 0, 0.15);\n",
              "      filter: drop-shadow(0px 1px 2px rgba(0, 0, 0, 0.3));\n",
              "      fill: #FFFFFF;\n",
              "    }\n",
              "  </style>\n",
              "\n",
              "      <script>\n",
              "        const buttonEl =\n",
              "          document.querySelector('#df-11ffcad6-287c-4b59-a5e2-5d24bd8fe9f2 button.colab-df-convert');\n",
              "        buttonEl.style.display =\n",
              "          google.colab.kernel.accessAllowed ? 'block' : 'none';\n",
              "\n",
              "        async function convertToInteractive(key) {\n",
              "          const element = document.querySelector('#df-11ffcad6-287c-4b59-a5e2-5d24bd8fe9f2');\n",
              "          const dataTable =\n",
              "            await google.colab.kernel.invokeFunction('convertToInteractive',\n",
              "                                                     [key], {});\n",
              "          if (!dataTable) return;\n",
              "\n",
              "          const docLinkHtml = 'Like what you see? Visit the ' +\n",
              "            '<a target=\"_blank\" href=https://colab.research.google.com/notebooks/data_table.ipynb>data table notebook</a>'\n",
              "            + ' to learn more about interactive tables.';\n",
              "          element.innerHTML = '';\n",
              "          dataTable['output_type'] = 'display_data';\n",
              "          await google.colab.output.renderOutput(dataTable, element);\n",
              "          const docLink = document.createElement('div');\n",
              "          docLink.innerHTML = docLinkHtml;\n",
              "          element.appendChild(docLink);\n",
              "        }\n",
              "      </script>\n",
              "    </div>\n",
              "  </div>\n",
              "  "
            ]
          },
          "metadata": {},
          "execution_count": 6
        }
      ]
    },
    {
      "cell_type": "code",
      "source": [
        "airx=air2.drop(columns=[\"Satisfaction\", \"Gender\", \"Age\", \"Customer_Type\", \"Type_of_Travel\", \"Class\"])\n",
        "airy= air2[\"Satisfaction\"].to_numpy()\n",
        "airy"
      ],
      "metadata": {
        "colab": {
          "base_uri": "https://localhost:8080/"
        },
        "id": "GkGNtW5gE8HD",
        "outputId": "48e55a1b-1d97-4433-acbc-581fba896ec6"
      },
      "execution_count": null,
      "outputs": [
        {
          "output_type": "execute_result",
          "data": {
            "text/plain": [
              "array(['Neutral or Dissatisfied', 'Satisfied', 'Satisfied', ...,\n",
              "       'Neutral or Dissatisfied', 'Satisfied', 'Neutral or Dissatisfied'],\n",
              "      dtype=object)"
            ]
          },
          "metadata": {},
          "execution_count": 7
        }
      ]
    },
    {
      "cell_type": "code",
      "source": [
        "air2.groupby(\"Satisfaction\")[\"Satisfaction\"].count()"
      ],
      "metadata": {
        "colab": {
          "base_uri": "https://localhost:8080/"
        },
        "id": "peXp0TbMFZbe",
        "outputId": "2715e95c-caf4-413f-c946-dd5b4b60f11d"
      },
      "execution_count": null,
      "outputs": [
        {
          "output_type": "execute_result",
          "data": {
            "text/plain": [
              "Satisfaction\n",
              "Neutral or Dissatisfied    73225\n",
              "Satisfied                  56262\n",
              "Name: Satisfaction, dtype: int64"
            ]
          },
          "metadata": {},
          "execution_count": 8
        }
      ]
    },
    {
      "cell_type": "code",
      "source": [
        "X_train,X_test,y_train,y_test = train_test_split(airx,airy,test_size= 0.25, random_state=42, stratify=airy)\n",
        "X_train,X_test,y_train,y_test"
      ],
      "metadata": {
        "colab": {
          "base_uri": "https://localhost:8080/"
        },
        "id": "C8Q3AhBjFkM8",
        "outputId": "84772666-8846-45d3-d50f-37be7a6ccee4"
      },
      "execution_count": null,
      "outputs": [
        {
          "output_type": "execute_result",
          "data": {
            "text/plain": [
              "(        Flight_Distance  Departure_Delay  Arrival_Delay  Gen_Male  \\\n",
              " 50379               109                0            0.0         0   \n",
              " 102358             2020               31           27.0         1   \n",
              " 77784               696               73           79.0         1   \n",
              " 6907                265               76          148.0         0   \n",
              " 75099              1744                9            0.0         0   \n",
              " ...                 ...              ...            ...       ...   \n",
              " 2985                922                4            0.0         1   \n",
              " 93614               577                0            0.0         1   \n",
              " 10065               596                0            0.0         0   \n",
              " 66349               986                0            0.0         0   \n",
              " 64477               551                0            0.0         1   \n",
              " \n",
              "         Class_Economy  Class_Economy Plus  Type_Personal  Type_Returning  \n",
              " 50379               1                   0              0               0  \n",
              " 102358              0                   0              0               1  \n",
              " 77784               1                   0              1               1  \n",
              " 6907                1                   0              1               1  \n",
              " 75099               0                   0              0               1  \n",
              " ...               ...                 ...            ...             ...  \n",
              " 2985                0                   0              0               1  \n",
              " 93614               0                   0              0               1  \n",
              " 10065               0                   0              0               1  \n",
              " 66349               0                   0              0               0  \n",
              " 64477               0                   0              0               0  \n",
              " \n",
              " [97115 rows x 8 columns],\n",
              "         Flight_Distance  Departure_Delay  Arrival_Delay  Gen_Male  \\\n",
              " 30551               955                0            0.0         0   \n",
              " 101715              986               17           30.0         1   \n",
              " 21938               551               25           19.0         0   \n",
              " 53003              1208                0            0.0         0   \n",
              " 48033              1384              141          126.0         0   \n",
              " ...                 ...              ...            ...       ...   \n",
              " 43131               236              120          109.0         0   \n",
              " 6610                473               74           71.0         1   \n",
              " 122871              226                3            0.0         1   \n",
              " 76476              2030                0            0.0         1   \n",
              " 49481               110                0            0.0         1   \n",
              " \n",
              "         Class_Economy  Class_Economy Plus  Type_Personal  Type_Returning  \n",
              " 30551               1                   0              1               1  \n",
              " 101715              0                   0              0               1  \n",
              " 21938               1                   0              0               0  \n",
              " 53003               1                   0              0               0  \n",
              " 48033               0                   1              0               1  \n",
              " ...               ...                 ...            ...             ...  \n",
              " 43131               0                   1              0               1  \n",
              " 6610                0                   0              0               0  \n",
              " 122871              1                   0              1               1  \n",
              " 76476               0                   0              0               1  \n",
              " 49481               1                   0              0               1  \n",
              " \n",
              " [32372 rows x 8 columns],\n",
              " array(['Neutral or Dissatisfied', 'Neutral or Dissatisfied',\n",
              "        'Neutral or Dissatisfied', ..., 'Satisfied', 'Satisfied',\n",
              "        'Satisfied'], dtype=object),\n",
              " array(['Neutral or Dissatisfied', 'Neutral or Dissatisfied',\n",
              "        'Neutral or Dissatisfied', ..., 'Neutral or Dissatisfied',\n",
              "        'Satisfied', 'Satisfied'], dtype=object))"
            ]
          },
          "metadata": {},
          "execution_count": 9
        }
      ]
    },
    {
      "cell_type": "markdown",
      "source": [
        "Task 5. Train a Random Forest model. Use 500 trees and 3 variables to select from for\n",
        "splitting at each decision node. You do not need to optimize the hyperparameters for\n",
        "this assignment"
      ],
      "metadata": {
        "id": "8ap3VYssGSFy"
      }
    },
    {
      "cell_type": "code",
      "source": [
        "#Task5 train a RF model with 500 trees and 3 variables\n",
        "rfmod= RandomForestClassifier(n_estimators= 500, max_features=3)\n",
        "rfmod=rfmod.fit(X_train,y_train)\n",
        "rfmod"
      ],
      "metadata": {
        "colab": {
          "base_uri": "https://localhost:8080/"
        },
        "id": "2V45oiHiGT14",
        "outputId": "2433fc18-c387-4a26-82b7-1763a3d7829c"
      },
      "execution_count": null,
      "outputs": [
        {
          "output_type": "execute_result",
          "data": {
            "text/plain": [
              "RandomForestClassifier(max_features=3, n_estimators=500)"
            ]
          },
          "metadata": {},
          "execution_count": 10
        }
      ]
    },
    {
      "cell_type": "markdown",
      "source": [
        "Task 6. Use the trained model to predict to the withheld test data. From the results,\n",
        "calculate the Area Under the Receiver Operating Characteristic (ROC) Curve and\n",
        "Overall Accuracy metrics. Also, create a Confusion Matrix. Discuss thee results of the\n",
        "assessment."
      ],
      "metadata": {
        "id": "g6W4O-Zok8Mh"
      }
    },
    {
      "cell_type": "code",
      "source": [
        "#Task6 \n",
        "pred= rfmod.predict(X_test)\n",
        "print(cm(y_test,pred))\n",
        "print(oa(y_test,pred))\n",
        "print(kap(y_test,pred))\n",
        "print(cp(y_test,pred))"
      ],
      "metadata": {
        "id": "_hJGpvDPIJde",
        "colab": {
          "base_uri": "https://localhost:8080/"
        },
        "outputId": "6f6da96a-cb9b-42c5-f9fe-afa9227f2c94"
      },
      "execution_count": null,
      "outputs": [
        {
          "output_type": "stream",
          "name": "stdout",
          "text": [
            "[[14249  4057]\n",
            " [ 3947 10119]]\n",
            "0.7527492895094526\n",
            "0.4973225533427835\n",
            "                         precision    recall  f1-score   support\n",
            "\n",
            "Neutral or Dissatisfied       0.78      0.78      0.78     18306\n",
            "              Satisfied       0.71      0.72      0.72     14066\n",
            "\n",
            "               accuracy                           0.75     32372\n",
            "              macro avg       0.75      0.75      0.75     32372\n",
            "           weighted avg       0.75      0.75      0.75     32372\n",
            "\n"
          ]
        }
      ]
    },
    {
      "cell_type": "code",
      "source": [
        "rfc_prob= rfmod.predict_proba(X_test)\n",
        "rfc_prob"
      ],
      "metadata": {
        "colab": {
          "base_uri": "https://localhost:8080/"
        },
        "id": "RGwYo4JDnU8x",
        "outputId": "089e4428-0747-4900-e533-d3cccbe3a61d"
      },
      "execution_count": null,
      "outputs": [
        {
          "output_type": "execute_result",
          "data": {
            "text/plain": [
              "array([[1.        , 0.        ],\n",
              "       [0.302     , 0.698     ],\n",
              "       [0.838     , 0.162     ],\n",
              "       ...,\n",
              "       [0.86932765, 0.13067235],\n",
              "       [0.41516667, 0.58483333],\n",
              "       [0.63175294, 0.36824706]])"
            ]
          },
          "metadata": {},
          "execution_count": 24
        }
      ]
    },
    {
      "cell_type": "code",
      "source": [
        "\n",
        "y_test2=y_test\n",
        "y_test2[y_test2 ==\" Neutral or Dissatisified\"]=0\n",
        "y_test2[y_test2 ==\" Satisified\"] = 1\n",
        "print(rocauc(y_test2, rfc_prob[:,1]))\n",
        "precision, recall , thresholds = pr(y_test, rfc_prob[:,1], pos_label=\"Satisfied\")\n",
        "auc_precision_recall= auc(recall, precision)\n",
        "print(auc_precision_recall)"
      ],
      "metadata": {
        "colab": {
          "base_uri": "https://localhost:8080/"
        },
        "id": "jNBPD9Kymhyp",
        "outputId": "b49fb197-4a8c-4c3f-9004-02f1d6ad7501"
      },
      "execution_count": null,
      "outputs": [
        {
          "output_type": "stream",
          "name": "stdout",
          "text": [
            "0.8091151488723177\n",
            "0.7378091848474331\n"
          ]
        }
      ]
    },
    {
      "cell_type": "markdown",
      "source": [
        "The resutls from the confusing matrix and overall accuracy indicate that our random forest model is quite accurate with an overall 0.75 scores. the precision, recall and f1 socres are all over 0.7, which also indicate a solid performance from our random forest model. The area under curve result is 0.8 ,and it is near to the 1, which means it has a good measure of separability. "
      ],
      "metadata": {
        "id": "EWfwoVUFpWxo"
      }
    },
    {
      "cell_type": "markdown",
      "source": [
        "Task 7. Use the variable importance estimates made available by Random Forest to\n",
        "discuss the contribution of each predictor variable in the model. "
      ],
      "metadata": {
        "id": "_s8ZwYl0qEDN"
      }
    },
    {
      "cell_type": "code",
      "source": [
        "#Task7 \n",
        "predvars= X_test.columns\n",
        "imp= rfmod.feature_importances_\n",
        "plt.scatter(x=imp, y= predvars)"
      ],
      "metadata": {
        "colab": {
          "base_uri": "https://localhost:8080/",
          "height": 282
        },
        "id": "qbxxZuRTpXMJ",
        "outputId": "a1c652b4-5d90-48ae-a097-bd5aca4eaab3"
      },
      "execution_count": null,
      "outputs": [
        {
          "output_type": "execute_result",
          "data": {
            "text/plain": [
              "<matplotlib.collections.PathCollection at 0x7f745f5d1590>"
            ]
          },
          "metadata": {},
          "execution_count": 28
        },
        {
          "output_type": "display_data",
          "data": {
            "text/plain": [
              "<Figure size 432x288 with 1 Axes>"
            ],
            "image/png": "[encoded data removed]"
          },
          "metadata": {
            "needs_background": "light"
          }
        }
      ]
    },
    {
      "cell_type": "markdown",
      "source": [
        "According to our importance graph, we can cleary see flight distance stands out comparing to the rest of the variables that can affect the satisfaction. The departure delay and arrival delay are surprisingly not the second most important predictor variables, but they share the simualr importance rating among the others. The type of personal (customer) are the second most important satisfaction indicator in this graph which I found interesting because it makes sense that returning customers who know the fligh and airline better will surely have a better expectation for the flight than the new comers, therefore the returning customers will not be dissatisfied easily since they know whhat to expect. "
      ],
      "metadata": {
        "id": "9nXVnwYVruoQ"
      }
    }
  ]
}