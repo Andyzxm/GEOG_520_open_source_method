{
  "nbformat": 4,
  "nbformat_minor": 0,
  "metadata": {
    "colab": {
      "provenance": [],
      "mount_file_id": "1shfl5KXNh6hdzgZQzq9Ln80nec6nCUIS",
      "authorship_tag": "ABX9TyMu3rytlpD3LlhLmdNFT7xS",
      "include_colab_link": true
    },
    "kernelspec": {
      "name": "python3",
      "display_name": "Python 3"
    },
    "language_info": {
      "name": "python"
    }
  },
  "cells": [
    {
      "cell_type": "markdown",
      "metadata": {
        "id": "view-in-github",
        "colab_type": "text"
      },
      "source": [
        "<a href=\"https://colab.research.google.com/github/Andyzxm/GEOG_520_open_source_method/blob/main/a1_xinming_zhang.ipynb\" target=\"_parent\"><img src=\"https://colab.research.google.com/assets/colab-badge.svg\" alt=\"Open In Colab\"/></a>"
      ]
    },
    {
      "cell_type": "code",
      "source": [
        "#1\n",
        "x = 30\n",
        "if x % 3 ==0 : \n",
        "    print(str(x) + \"  is divisible by 3.\")\n",
        "else:\n",
        "    print(str(x) + \"  is not divisible by 3.\")"
      ],
      "metadata": {
        "colab": {
          "base_uri": "https://localhost:8080/"
        },
        "id": "6VDY9BNkM7ah",
        "outputId": "fe9727bd-520e-477d-a4c1-f16f2e2ffa03"
      },
      "execution_count": null,
      "outputs": [
        {
          "output_type": "stream",
          "name": "stdout",
          "text": [
            "30  is divisible by 3.\n"
          ]
        }
      ]
    },
    {
      "cell_type": "code",
      "source": [
        "#2\n",
        "x = 10\n",
        "if (x % 3) and (x % 4) == 0:\n",
        "  print(str(x) + \"  is divisible by 3 and 4.\")\n",
        "else:\n",
        "  print(str(x) + \"  is not divisible by 3 and 4 .\")\n"
      ],
      "metadata": {
        "colab": {
          "base_uri": "https://localhost:8080/"
        },
        "id": "p91E7coiOEne",
        "outputId": "e43bc852-acea-4792-a596-4a80a9dca9d3"
      },
      "execution_count": null,
      "outputs": [
        {
          "output_type": "stream",
          "name": "stdout",
          "text": [
            "10  is not divisible by 3 and 4 .\n"
          ]
        }
      ]
    },
    {
      "cell_type": "code",
      "source": [
        "#3\n",
        "x = \"mango\"\n",
        "lst1 = [\"apple\", \"orange\", \"pear\", \"kiwi\", \"strawberry\"]\n",
        "if x in lst1: \n",
        " print(str (x) + \" is acceptable .\")\n",
        "else: \n",
        " print(str(x) + \"  is not acceptable .\")\n",
        "\n"
      ],
      "metadata": {
        "colab": {
          "base_uri": "https://localhost:8080/"
        },
        "id": "JuYIHbHwQQdx",
        "outputId": "66b7422f-29c1-4704-960d-dbab5651e701"
      },
      "execution_count": null,
      "outputs": [
        {
          "output_type": "stream",
          "name": "stdout",
          "text": [
            "mango  is not acceptable .\n"
          ]
        }
      ]
    },
    {
      "cell_type": "code",
      "source": [
        "#4\n",
        "x = \"watermelon\"\n",
        "lst1 = [\"orange\", \"grapefruit\", \"mandarin\", \"lime\"]\n",
        "lst2 = [\"banana\", \"mango\"]\n",
        "lst3 = [\"strawberry\", \"raspberry\", \"blueberry\", \"kiwi\", \"passionfruit\"]\n",
        "if x in lst1:\n",
        "  print(str(x) + \" is a citrus fruit .\")\n",
        "elif x in lst2: \n",
        "  print(str(x) + \" is a tropical fruit\")\n",
        "elif x in lst3:\n",
        "  print(str(x) + \" is a berry fruit\")\n",
        "else:\n",
        "  print(str(x) + \" is not a citrus, tropical or berry\") \n"
      ],
      "metadata": {
        "colab": {
          "base_uri": "https://localhost:8080/"
        },
        "id": "CgR1rnb7WwnP",
        "outputId": "e77c5c3a-5bdc-4913-cd38-e417d9369e16"
      },
      "execution_count": null,
      "outputs": [
        {
          "output_type": "stream",
          "name": "stdout",
          "text": [
            "watermelon is not a citrus, tropical or berry\n"
          ]
        }
      ]
    },
    {
      "cell_type": "code",
      "source": [
        "#5\n",
        "x = \"WATERMELON\"\n",
        "lst1 = [\"orange\", \"grapefruit\", \"mandarin\", \"lime\"]\n",
        "lst2 = [\"banana\", \"mango\"]\n",
        "lst3 = [\"strawberry\", \"raspberry\", \"blueberry\", \"kiwi\", \"passionfruit\"]\n",
        "if str.lower (x) in lst1:\n",
        "  print(str.lower(x) + \" is a cirtus fruit \")\n",
        "elif str.lower(x) in lst2: \n",
        "  print(str.lower(x) + \" is a tropical fruit \")\n",
        "elif str.lower(x) in lst3:\n",
        "  print(str.lower(x) + \" is a berry fruit \")\n",
        "else:\n",
        "  print(str.lower(x) + \" is not a cirtus, tropical or berry fruit \") \n"
      ],
      "metadata": {
        "id": "sgoINTrOdgfq",
        "colab": {
          "base_uri": "https://localhost:8080/"
        },
        "outputId": "d42135ff-0a2f-4502-b61c-68082f858518"
      },
      "execution_count": null,
      "outputs": [
        {
          "output_type": "stream",
          "name": "stdout",
          "text": [
            "watermelon is not a cirtus, tropical or berry fruit \n"
          ]
        }
      ]
    },
    {
      "cell_type": "code",
      "source": [
        "#6\n",
        "x = [\"ORANGE\", \"MANGO\", \"blueberry\" ,\"WATERMELON\"]\n",
        "lst1 = [\"orange\", \"grapefruit\", \"mandarin\", \"lime\"]\n",
        "lst2 = [\"banana\", \"mango\"]\n",
        "lst3 = [\"strawberry\", \"raspberry\", \"blueberry\", \"kiwi\", \"passionfruit\"]\n",
        "for i in x:\n",
        " if str.lower (i) in lst1:\n",
        "  print(str.lower(i) + \" is a cirtus fruit \")\n",
        " elif str.lower(i) in lst2: \n",
        "  print(str.lower(i) + \" is a tropical fruit \")\n",
        " elif str.lower(i) in lst3:\n",
        "  print(str.lower(i) + \" is a berry fruit \")\n",
        " else:\n",
        "  print(str.lower(i) + \" is not a cirtus, tropical or berry fruit \") \n"
      ],
      "metadata": {
        "colab": {
          "base_uri": "https://localhost:8080/"
        },
        "id": "ZBvnvFJ_r9qR",
        "outputId": "ba199d58-8715-429c-b283-57682d8d3a34"
      },
      "execution_count": null,
      "outputs": [
        {
          "output_type": "stream",
          "name": "stdout",
          "text": [
            "orange is a cirtus fruit \n",
            "mango is a tropical fruit \n",
            "blueberry is a berry fruit \n",
            "watermelon is not a cirtus, tropical or berry fruit \n"
          ]
        }
      ]
    },
    {
      "cell_type": "code",
      "source": [
        "#7\n",
        "x = [\"orange\", \"grapefruit\", \"mandarin\", \"lime\",\"banana\", \"mango\", \"strawberry\", \"raspberry\", \"blueberry\", \"kiwi\", \"passionfruit\"]\n",
        "x1 = [i.upper() for i in x]\n",
        "print(x1)"
      ],
      "metadata": {
        "colab": {
          "base_uri": "https://localhost:8080/"
        },
        "id": "a3vIZntHr-55",
        "outputId": "43f089ca-5244-4e1d-92d5-95861dcfcd43"
      },
      "execution_count": null,
      "outputs": [
        {
          "output_type": "stream",
          "name": "stdout",
          "text": [
            "['ORANGE', 'GRAPEFRUIT', 'MANDARIN', 'LIME', 'BANANA', 'MANGO', 'STRAWBERRY', 'RASPBERRY', 'BLUEBERRY', 'KIWI', 'PASSIONFRUIT']\n"
          ]
        }
      ]
    },
    {
      "cell_type": "code",
      "source": [
        "#8\n",
        "x = [\"orange\", \"grapefruit\", \"mandarin\", \"lime\",\"banana\", \"mango\", \"strawberry\", \"raspberry\", \"blueberry\", \"kiwi\", \"passionfruit\"]\n",
        "berry = [\"strawberry\", \"raspberry\", \"blueberry\", \"kiwi\", \"passionfruit\"]\n",
        "x1 = [i.upper() for i in x if i in berry ]\n",
        "print(x1)"
      ],
      "metadata": {
        "colab": {
          "base_uri": "https://localhost:8080/"
        },
        "id": "ws-shHI42KRi",
        "outputId": "56046507-17bd-49f2-d752-9ce814a948a7"
      },
      "execution_count": null,
      "outputs": [
        {
          "output_type": "stream",
          "name": "stdout",
          "text": [
            "['STRAWBERRY', 'RASPBERRY', 'BLUEBERRY', 'KIWI', 'PASSIONFRUIT']\n"
          ]
        }
      ]
    },
    {
      "cell_type": "code",
      "source": [
        "#9\n",
        "x = [\"orange\", \"grapefruit\", \"mandarin\", \"lime\",\"banana\", \"mango\", \"strawberry\", \"raspberry\", \"blueberry\", \"kiwi\", \"passionfruit\"]\n",
        "Even = []\n",
        "Odd = []\n",
        "\n",
        "for i, c in enumerate(x,1):\n",
        " if i%2 == 0: \n",
        "   Even.append(c)\n",
        " else:\n",
        "     Odd.append(c)\n",
        "\n",
        "print(Even)\n",
        "print(Odd)\n"
      ],
      "metadata": {
        "colab": {
          "base_uri": "https://localhost:8080/"
        },
        "id": "7uRmsVWm6aTQ",
        "outputId": "74407ad4-06bf-4fdd-e560-39e1ba061560"
      },
      "execution_count": null,
      "outputs": [
        {
          "output_type": "stream",
          "name": "stdout",
          "text": [
            "['grapefruit', 'lime', 'mango', 'raspberry', 'kiwi']\n",
            "['orange', 'mandarin', 'banana', 'strawberry', 'blueberry', 'passionfruit']\n"
          ]
        }
      ]
    }
  ]
}