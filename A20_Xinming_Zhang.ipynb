{
  "nbformat": 4,
  "nbformat_minor": 0,
  "metadata": {
    "colab": {
      "provenance": [],
      "mount_file_id": "1RQwAF91G8mGHa_gV56rW1I9XpMD56Zi3",
      "authorship_tag": "ABX9TyNFzI87v+lByKjArlMIDTsK",
      "include_colab_link": true
    },
    "kernelspec": {
      "name": "python3",
      "display_name": "Python 3"
    },
    "language_info": {
      "name": "python"
    }
  },
  "cells": [
    {
      "cell_type": "markdown",
      "metadata": {
        "id": "view-in-github",
        "colab_type": "text"
      },
      "source": [
        "<a href=\"https://colab.research.google.com/github/Andyzxm/GEOG_520_open_source_method/blob/main/A20_Xinming_Zhang.ipynb\" target=\"_parent\"><img src=\"https://colab.research.google.com/assets/colab-badge.svg\" alt=\"Open In Colab\"/></a>"
      ]
    },
    {
      "cell_type": "code",
      "execution_count": null,
      "metadata": {
        "id": "vZ0U0plQsAOp"
      },
      "outputs": [],
      "source": [
        "import numpy as np\n",
        "import pandas as pd\n",
        "import seaborn as sns\n",
        "import matplotlib.pyplot as plt\n",
        "%matplotlib inline\n",
        "from sklearn.ensemble import RandomForestClassifier\n",
        "from sklearn.neighbors import KNeighborsClassifier\n",
        "from sklearn.svm import SVC\n",
        "from sklearn.model_selection import train_test_split\n",
        "from sklearn.metrics import confusion_matrix as cm\n",
        "from sklearn.metrics import cohen_kappa_score as kap\n",
        "from sklearn.metrics import accuracy_score as oa\n",
        "from sklearn.metrics import classification_report as cp\n",
        "from sklearn.metrics import roc_auc_score as rocauc\n",
        "from sklearn.metrics import precision_recall_curve as pr \n",
        "from sklearn.metrics import auc\n",
        "from sklearn.preprocessing import MinMaxScaler"
      ]
    },
    {
      "cell_type": "markdown",
      "source": [
        "Task 1: Subset out the following columns from the dataset: “species”,\n",
        "“bill_length_mm”, “bill_depth_mm”, “flipper_length_mm”, “body_mass_g”, and\n",
        "“sex”. In the models, “species” is the dependent variable and should be treated as\n",
        "nominal data. All predictor variables are continuous other than “sex”, which should be\n",
        "treated as a nominal variable. Remove any rows that have missing data in any column."
      ],
      "metadata": {
        "id": "nk4Oe7r1szE3"
      }
    },
    {
      "cell_type": "code",
      "source": [
        "#task1\n",
        "pen=pd.read_csv(\"/content/drive/MyDrive/GEOG520_python_data/datasets/datasets/penguins.csv\")\n",
        "pen.columns"
      ],
      "metadata": {
        "colab": {
          "base_uri": "https://localhost:8080/"
        },
        "id": "aw_kYYA-swxa",
        "outputId": "dab39505-29a3-41ca-f56f-524f566744f0"
      },
      "execution_count": null,
      "outputs": [
        {
          "output_type": "execute_result",
          "data": {
            "text/plain": [
              "Index(['Unnamed: 0', 'species', 'island', 'bill_length_mm', 'bill_depth_mm',\n",
              "       'flipper_length_mm', 'body_mass_g', 'sex', 'year'],\n",
              "      dtype='object')"
            ]
          },
          "metadata": {},
          "execution_count": 44
        }
      ]
    },
    {
      "cell_type": "code",
      "source": [
        "pen=pen[['species', 'bill_length_mm', 'bill_depth_mm','flipper_length_mm','body_mass_g', 'sex']]\n",
        "pen = pen.dropna(axis=0)\n",
        "pen"
      ],
      "metadata": {
        "colab": {
          "base_uri": "https://localhost:8080/",
          "height": 424
        },
        "id": "4am0GCQxv5qG",
        "outputId": "6104e81a-c84e-4a69-fcda-cc5f1cd3688a"
      },
      "execution_count": null,
      "outputs": [
        {
          "output_type": "execute_result",
          "data": {
            "text/plain": [
              "       species  bill_length_mm  bill_depth_mm  flipper_length_mm  body_mass_g  \\\n",
              "0       Adelie            39.1           18.7              181.0       3750.0   \n",
              "1       Adelie            39.5           17.4              186.0       3800.0   \n",
              "2       Adelie            40.3           18.0              195.0       3250.0   \n",
              "4       Adelie            36.7           19.3              193.0       3450.0   \n",
              "5       Adelie            39.3           20.6              190.0       3650.0   \n",
              "..         ...             ...            ...                ...          ...   \n",
              "339  Chinstrap            55.8           19.8              207.0       4000.0   \n",
              "340  Chinstrap            43.5           18.1              202.0       3400.0   \n",
              "341  Chinstrap            49.6           18.2              193.0       3775.0   \n",
              "342  Chinstrap            50.8           19.0              210.0       4100.0   \n",
              "343  Chinstrap            50.2           18.7              198.0       3775.0   \n",
              "\n",
              "        sex  \n",
              "0      male  \n",
              "1    female  \n",
              "2    female  \n",
              "4    female  \n",
              "5      male  \n",
              "..      ...  \n",
              "339    male  \n",
              "340  female  \n",
              "341    male  \n",
              "342    male  \n",
              "343  female  \n",
              "\n",
              "[333 rows x 6 columns]"
            ],
            "text/html": [
              "\n",
              "  <div id=\"df-47837421-c7ab-4176-9ccc-477a2281e8e0\">\n",
              "    <div class=\"colab-df-container\">\n",
              "      <div>\n",
              "<style scoped>\n",
              "    .dataframe tbody tr th:only-of-type {\n",
              "        vertical-align: middle;\n",
              "    }\n",
              "\n",
              "    .dataframe tbody tr th {\n",
              "        vertical-align: top;\n",
              "    }\n",
              "\n",
              "    .dataframe thead th {\n",
              "        text-align: right;\n",
              "    }\n",
              "</style>\n",
              "<table border=\"1\" class=\"dataframe\">\n",
              "  <thead>\n",
              "    <tr style=\"text-align: right;\">\n",
              "      <th></th>\n",
              "      <th>species</th>\n",
              "      <th>bill_length_mm</th>\n",
              "      <th>bill_depth_mm</th>\n",
              "      <th>flipper_length_mm</th>\n",
              "      <th>body_mass_g</th>\n",
              "      <th>sex</th>\n",
              "    </tr>\n",
              "  </thead>\n",
              "  <tbody>\n",
              "    <tr>\n",
              "      <th>0</th>\n",
              "      <td>Adelie</td>\n",
              "      <td>39.1</td>\n",
              "      <td>18.7</td>\n",
              "      <td>181.0</td>\n",
              "      <td>3750.0</td>\n",
              "      <td>male</td>\n",
              "    </tr>\n",
              "    <tr>\n",
              "      <th>1</th>\n",
              "      <td>Adelie</td>\n",
              "      <td>39.5</td>\n",
              "      <td>17.4</td>\n",
              "      <td>186.0</td>\n",
              "      <td>3800.0</td>\n",
              "      <td>female</td>\n",
              "    </tr>\n",
              "    <tr>\n",
              "      <th>2</th>\n",
              "      <td>Adelie</td>\n",
              "      <td>40.3</td>\n",
              "      <td>18.0</td>\n",
              "      <td>195.0</td>\n",
              "      <td>3250.0</td>\n",
              "      <td>female</td>\n",
              "    </tr>\n",
              "    <tr>\n",
              "      <th>4</th>\n",
              "      <td>Adelie</td>\n",
              "      <td>36.7</td>\n",
              "      <td>19.3</td>\n",
              "      <td>193.0</td>\n",
              "      <td>3450.0</td>\n",
              "      <td>female</td>\n",
              "    </tr>\n",
              "    <tr>\n",
              "      <th>5</th>\n",
              "      <td>Adelie</td>\n",
              "      <td>39.3</td>\n",
              "      <td>20.6</td>\n",
              "      <td>190.0</td>\n",
              "      <td>3650.0</td>\n",
              "      <td>male</td>\n",
              "    </tr>\n",
              "    <tr>\n",
              "      <th>...</th>\n",
              "      <td>...</td>\n",
              "      <td>...</td>\n",
              "      <td>...</td>\n",
              "      <td>...</td>\n",
              "      <td>...</td>\n",
              "      <td>...</td>\n",
              "    </tr>\n",
              "    <tr>\n",
              "      <th>339</th>\n",
              "      <td>Chinstrap</td>\n",
              "      <td>55.8</td>\n",
              "      <td>19.8</td>\n",
              "      <td>207.0</td>\n",
              "      <td>4000.0</td>\n",
              "      <td>male</td>\n",
              "    </tr>\n",
              "    <tr>\n",
              "      <th>340</th>\n",
              "      <td>Chinstrap</td>\n",
              "      <td>43.5</td>\n",
              "      <td>18.1</td>\n",
              "      <td>202.0</td>\n",
              "      <td>3400.0</td>\n",
              "      <td>female</td>\n",
              "    </tr>\n",
              "    <tr>\n",
              "      <th>341</th>\n",
              "      <td>Chinstrap</td>\n",
              "      <td>49.6</td>\n",
              "      <td>18.2</td>\n",
              "      <td>193.0</td>\n",
              "      <td>3775.0</td>\n",
              "      <td>male</td>\n",
              "    </tr>\n",
              "    <tr>\n",
              "      <th>342</th>\n",
              "      <td>Chinstrap</td>\n",
              "      <td>50.8</td>\n",
              "      <td>19.0</td>\n",
              "      <td>210.0</td>\n",
              "      <td>4100.0</td>\n",
              "      <td>male</td>\n",
              "    </tr>\n",
              "    <tr>\n",
              "      <th>343</th>\n",
              "      <td>Chinstrap</td>\n",
              "      <td>50.2</td>\n",
              "      <td>18.7</td>\n",
              "      <td>198.0</td>\n",
              "      <td>3775.0</td>\n",
              "      <td>female</td>\n",
              "    </tr>\n",
              "  </tbody>\n",
              "</table>\n",
              "<p>333 rows × 6 columns</p>\n",
              "</div>\n",
              "      <button class=\"colab-df-convert\" onclick=\"convertToInteractive('df-47837421-c7ab-4176-9ccc-477a2281e8e0')\"\n",
              "              title=\"Convert this dataframe to an interactive table.\"\n",
              "              style=\"display:none;\">\n",
              "        \n",
              "  <svg xmlns=\"http://www.w3.org/2000/svg\" height=\"24px\"viewBox=\"0 0 24 24\"\n",
              "       width=\"24px\">\n",
              "    <path d=\"M0 0h24v24H0V0z\" fill=\"none\"/>\n",
              "    <path d=\"M18.56 5.44l.94 2.06.94-2.06 2.06-.94-2.06-.94-.94-2.06-.94 2.06-2.06.94zm-11 1L8.5 8.5l.94-2.06 2.06-.94-2.06-.94L8.5 2.5l-.94 2.06-2.06.94zm10 10l.94 2.06.94-2.06 2.06-.94-2.06-.94-.94-2.06-.94 2.06-2.06.94z\"/><path d=\"M17.41 7.96l-1.37-1.37c-.4-.4-.92-.59-1.43-.59-.52 0-1.04.2-1.43.59L10.3 9.45l-7.72 7.72c-.78.78-.78 2.05 0 2.83L4 21.41c.39.39.9.59 1.41.59.51 0 1.02-.2 1.41-.59l7.78-7.78 2.81-2.81c.8-.78.8-2.07 0-2.86zM5.41 20L4 18.59l7.72-7.72 1.47 1.35L5.41 20z\"/>\n",
              "  </svg>\n",
              "      </button>\n",
              "      \n",
              "  <style>\n",
              "    .colab-df-container {\n",
              "      display:flex;\n",
              "      flex-wrap:wrap;\n",
              "      gap: 12px;\n",
              "    }\n",
              "\n",
              "    .colab-df-convert {\n",
              "      background-color: #E8F0FE;\n",
              "      border: none;\n",
              "      border-radius: 50%;\n",
              "      cursor: pointer;\n",
              "      display: none;\n",
              "      fill: #1967D2;\n",
              "      height: 32px;\n",
              "      padding: 0 0 0 0;\n",
              "      width: 32px;\n",
              "    }\n",
              "\n",
              "    .colab-df-convert:hover {\n",
              "      background-color: #E2EBFA;\n",
              "      box-shadow: 0px 1px 2px rgba(60, 64, 67, 0.3), 0px 1px 3px 1px rgba(60, 64, 67, 0.15);\n",
              "      fill: #174EA6;\n",
              "    }\n",
              "\n",
              "    [theme=dark] .colab-df-convert {\n",
              "      background-color: #3B4455;\n",
              "      fill: #D2E3FC;\n",
              "    }\n",
              "\n",
              "    [theme=dark] .colab-df-convert:hover {\n",
              "      background-color: #434B5C;\n",
              "      box-shadow: 0px 1px 3px 1px rgba(0, 0, 0, 0.15);\n",
              "      filter: drop-shadow(0px 1px 2px rgba(0, 0, 0, 0.3));\n",
              "      fill: #FFFFFF;\n",
              "    }\n",
              "  </style>\n",
              "\n",
              "      <script>\n",
              "        const buttonEl =\n",
              "          document.querySelector('#df-47837421-c7ab-4176-9ccc-477a2281e8e0 button.colab-df-convert');\n",
              "        buttonEl.style.display =\n",
              "          google.colab.kernel.accessAllowed ? 'block' : 'none';\n",
              "\n",
              "        async function convertToInteractive(key) {\n",
              "          const element = document.querySelector('#df-47837421-c7ab-4176-9ccc-477a2281e8e0');\n",
              "          const dataTable =\n",
              "            await google.colab.kernel.invokeFunction('convertToInteractive',\n",
              "                                                     [key], {});\n",
              "          if (!dataTable) return;\n",
              "\n",
              "          const docLinkHtml = 'Like what you see? Visit the ' +\n",
              "            '<a target=\"_blank\" href=https://colab.research.google.com/notebooks/data_table.ipynb>data table notebook</a>'\n",
              "            + ' to learn more about interactive tables.';\n",
              "          element.innerHTML = '';\n",
              "          dataTable['output_type'] = 'display_data';\n",
              "          await google.colab.output.renderOutput(dataTable, element);\n",
              "          const docLink = document.createElement('div');\n",
              "          docLink.innerHTML = docLinkHtml;\n",
              "          element.appendChild(docLink);\n",
              "        }\n",
              "      </script>\n",
              "    </div>\n",
              "  </div>\n",
              "  "
            ]
          },
          "metadata": {},
          "execution_count": 45
        }
      ]
    },
    {
      "cell_type": "markdown",
      "source": [
        "Task 2: Generate grouped box plots to show the distribution of each continuous\n",
        "predictor variable within each species. Also, differentiate the data by sex within each\n",
        "species. Based on these visualizations, do the penguin species appear to have different\n",
        "characteristics? Do characteristics vary by sex, indicating that sex should be included as\n",
        "2\n",
        "a predictor variable? What variables seem most predictive? Generally, do you anticipate\n",
        "being able to separate the species with high accuracy?"
      ],
      "metadata": {
        "id": "aEEiksIl-Esw"
      }
    },
    {
      "cell_type": "code",
      "source": [
        "#Task2 \n",
        "sns.boxplot(x=\"species\", y=\"bill_length_mm\", hue= \"sex\",data=pen)"
      ],
      "metadata": {
        "colab": {
          "base_uri": "https://localhost:8080/",
          "height": 296
        },
        "id": "fgqOXJTSwbN0",
        "outputId": "801554b4-8703-418f-9939-964bdab4bcda"
      },
      "execution_count": null,
      "outputs": [
        {
          "output_type": "execute_result",
          "data": {
            "text/plain": [
              "<matplotlib.axes._subplots.AxesSubplot at 0x7fb4e58fea90>"
            ]
          },
          "metadata": {},
          "execution_count": 46
        },
        {
          "output_type": "display_data",
          "data": {
            "text/plain": [
              "<Figure size 432x288 with 1 Axes>"
            ],
            "image/png": "[encoded data removed]"
          },
          "metadata": {
            "needs_background": "light"
          }
        }
      ]
    },
    {
      "cell_type": "code",
      "source": [
        "sns.boxplot(x=\"species\", y=\"bill_depth_mm\", hue= \"sex\",data=pen)"
      ],
      "metadata": {
        "colab": {
          "base_uri": "https://localhost:8080/",
          "height": 296
        },
        "id": "6jU8awVlWE_Y",
        "outputId": "cd32c728-a995-43e0-8d0d-969dd1c6e327"
      },
      "execution_count": null,
      "outputs": [
        {
          "output_type": "execute_result",
          "data": {
            "text/plain": [
              "<matplotlib.axes._subplots.AxesSubplot at 0x7fb4e8955f90>"
            ]
          },
          "metadata": {},
          "execution_count": 12
        },
        {
          "output_type": "display_data",
          "data": {
            "text/plain": [
              "<Figure size 432x288 with 1 Axes>"
            ],
            "image/png": "[encoded data removed]"
          },
          "metadata": {
            "needs_background": "light"
          }
        }
      ]
    },
    {
      "cell_type": "code",
      "source": [
        "sns.boxplot(x=\"species\", y=\"flipper_length_mm\", hue= \"sex\",data=pen)"
      ],
      "metadata": {
        "colab": {
          "base_uri": "https://localhost:8080/",
          "height": 296
        },
        "id": "uilVgZKHWJDA",
        "outputId": "4a705d4c-60ec-43f8-ed35-0b23167f7833"
      },
      "execution_count": null,
      "outputs": [
        {
          "output_type": "execute_result",
          "data": {
            "text/plain": [
              "<matplotlib.axes._subplots.AxesSubplot at 0x7fb4e5b56110>"
            ]
          },
          "metadata": {},
          "execution_count": 33
        },
        {
          "output_type": "display_data",
          "data": {
            "text/plain": [
              "<Figure size 432x288 with 1 Axes>"
            ],
            "image/png": "[encoded data removed]"
          },
          "metadata": {
            "needs_background": "light"
          }
        }
      ]
    },
    {
      "cell_type": "code",
      "source": [
        "sns.boxplot(x=\"species\", y=\"body_mass_g\", hue= \"sex\",data=pen)"
      ],
      "metadata": {
        "colab": {
          "base_uri": "https://localhost:8080/",
          "height": 296
        },
        "id": "2Lxm7coWWOMH",
        "outputId": "a281c36c-0e28-4967-df27-ab7d1eb677f1"
      },
      "execution_count": null,
      "outputs": [
        {
          "output_type": "execute_result",
          "data": {
            "text/plain": [
              "<matplotlib.axes._subplots.AxesSubplot at 0x7fb4e59d6910>"
            ]
          },
          "metadata": {},
          "execution_count": 42
        },
        {
          "output_type": "display_data",
          "data": {
            "text/plain": [
              "<Figure size 432x288 with 1 Axes>"
            ],
            "image/png": "[encoded data removed]"
          },
          "metadata": {
            "needs_background": "light"
          }
        }
      ]
    },
    {
      "cell_type": "markdown",
      "source": [
        "According from the boxplots, we can indicate that there are some clear diffrences between different penguin species. Sex does also provide slight differences within each species but does not vary too much between male and female, and the male penguin do generally have higher number in all variables regardless the species. All variables kind of share simular predicability therefore I don't have strong confidence in separate the species with super good accuracy. If I have to choose one variable then I'd say bodymass could be more predictive. "
      ],
      "metadata": {
        "id": "pzKr9RA7WUCi"
      }
    },
    {
      "cell_type": "markdown",
      "source": [
        "Task 3. Split the data into separate training and testing sets stratified by the species\n",
        "type. "
      ],
      "metadata": {
        "id": "fT5OCxF3YbaG"
      }
    },
    {
      "cell_type": "code",
      "source": [
        "#Task3\n",
        "psex= pd.get_dummies(pen.sex, drop_first= True)\n",
        "x= pen[['bill_length_mm', 'bill_depth_mm','flipper_length_mm','body_mass_g', 'sex']]\n",
        "y= pen[['species']]\n",
        "x_train, x_test,y_train, y_test = train_test_split(x,y,test_size= 0.33, stratify= y.species, random_state= 42)\n"
      ],
      "metadata": {
        "id": "NKlU6teyabaC"
      },
      "execution_count": null,
      "outputs": []
    },
    {
      "cell_type": "markdown",
      "source": [
        "Task 4. Center and scale all the continuous predictor variables. This is required for\n",
        "using the Support Vector Machine and k-Nearest Neighbor algorithms. Also, create\n",
        "dummy variables from the “sex” variable. "
      ],
      "metadata": {
        "id": "OcUaGvk6Zy9f"
      }
    },
    {
      "cell_type": "code",
      "source": [
        "#Task4\n",
        "psex= pd.get_dummies(pen.sex, drop_first= True)\n",
        "min_max_scaler=MinMaxScaler()\n",
        "x_train_minmax= min_max_scaler.fit_transform(x_train)\n",
        "x_train_minmax"
      ],
      "metadata": {
        "colab": {
          "base_uri": "https://localhost:8080/"
        },
        "id": "S8gMrLM2aslC",
        "outputId": "d0441dd4-3a5f-43f5-e280-1bb7854cf209"
      },
      "execution_count": null,
      "outputs": [
        {
          "output_type": "execute_result",
          "data": {
            "text/plain": [
              "array([[0.47126437, 0.13580247, 0.79661017, 0.52941176, 0.        ],\n",
              "       [0.06130268, 0.77777778, 0.3559322 , 0.38235294, 1.        ],\n",
              "       [0.73563218, 0.82716049, 0.42372881, 0.24264706, 1.        ],\n",
              "       ...,\n",
              "       [0.16091954, 0.35802469, 0.18644068, 0.05147059, 0.        ],\n",
              "       [0.44444444, 0.16049383, 0.6440678 , 0.44117647, 0.        ],\n",
              "       [0.        , 0.72839506, 0.30508475, 0.20588235, 0.        ]])"
            ]
          },
          "metadata": {},
          "execution_count": 54
        }
      ]
    },
    {
      "cell_type": "code",
      "source": [
        "x_test_minmax=min_max_scaler.transform(x_test)"
      ],
      "metadata": {
        "id": "5Mjzr6u6dHIt"
      },
      "execution_count": null,
      "outputs": []
    },
    {
      "cell_type": "markdown",
      "source": [
        "Task 5. Use the training partition to train Random Forest, Support Vector Machine, and\n",
        "k-Nearest Neighbor models. For Random Forest, use 100 trees and set the number of\n",
        "predictor variables available for splitting at each node hyperparameter to 3. Support\n",
        "Vector Machines can use the default hyperparameters. For k-Nearest Neighbor, set the\n",
        "number of neighbors to 11. Note that it would be best to tune the hyperparameters to\n",
        "offer a fairer comparison of the algorithms. However, we are not asking you to do so\n",
        "here to save time."
      ],
      "metadata": {
        "id": "ZSxpy2dqdaOz"
      }
    },
    {
      "cell_type": "code",
      "source": [
        "#Task5\n",
        "\n",
        "rf=RandomForestClassifier(n_estimators=100, max_features=3)\n",
        "knn= KNeighborsClassifier(n_neighbors=11)\n",
        "svm=SVC()"
      ],
      "metadata": {
        "id": "EB6k85fDddWP"
      },
      "execution_count": null,
      "outputs": []
    },
    {
      "cell_type": "code",
      "source": [
        "rfpen=rf.fit(x_train_minmax,y_train)\n",
        "knnpen=knn.fit(x_train_minmax,y_train)\n",
        "svmpen=rf.fit(x_train_minmax,y_train)"
      ],
      "metadata": {
        "colab": {
          "base_uri": "https://localhost:8080/"
        },
        "id": "omByG0Yyf_vy",
        "outputId": "d6d52c26-e8f1-4a22-ab4d-eeec4d26fd9b"
      },
      "execution_count": null,
      "outputs": [
        {
          "output_type": "stream",
          "name": "stderr",
          "text": [
            "/usr/local/lib/python3.7/dist-packages/ipykernel_launcher.py:1: DataConversionWarning: A column-vector y was passed when a 1d array was expected. Please change the shape of y to (n_samples,), for example using ravel().\n",
            "  \"\"\"Entry point for launching an IPython kernel.\n",
            "/usr/local/lib/python3.7/dist-packages/sklearn/neighbors/_classification.py:198: DataConversionWarning: A column-vector y was passed when a 1d array was expected. Please change the shape of y to (n_samples,), for example using ravel().\n",
            "  return self._fit(X, y)\n",
            "/usr/local/lib/python3.7/dist-packages/ipykernel_launcher.py:3: DataConversionWarning: A column-vector y was passed when a 1d array was expected. Please change the shape of y to (n_samples,), for example using ravel().\n",
            "  This is separate from the ipykernel package so we can avoid doing imports until\n"
          ]
        }
      ]
    },
    {
      "cell_type": "markdown",
      "source": [
        "Task 6.Use the train models to predict to the withheld validation data. Use the results\n",
        "to create Confusion Matrices and the Overall Accuracy metrics. Discuss your results.\n",
        "How do the algorithms compare for this specific problem? Were the species generally\n",
        "separated with high or low accuracy?"
      ],
      "metadata": {
        "id": "ZcbPNzOZf3Us"
      }
    },
    {
      "cell_type": "code",
      "source": [
        "#Task6 #use previous train models to predict \n",
        "predrf=rfpen.predict(x_test_minmax)\n",
        "predknn=knnpen.predict(x_test_minmax)\n",
        "predsvm=svmpen.predict(x_test_minmax)\n",
        "#create confuision matrix and overall accuracy\n",
        "#Confusion matrix\n",
        "print(cm(y_test, predrf))\n",
        "print(cm(y_test, predknn))\n",
        "print(cm(y_test, predsvm))"
      ],
      "metadata": {
        "colab": {
          "base_uri": "https://localhost:8080/"
        },
        "id": "a2gfjrF3gAY2",
        "outputId": "8c9dc54f-68c5-4749-9c1e-f7c7711959c0"
      },
      "execution_count": null,
      "outputs": [
        {
          "output_type": "stream",
          "name": "stdout",
          "text": [
            "[[47  1  0]\n",
            " [ 0 23  0]\n",
            " [ 0  1 38]]\n",
            "[[48  0  0]\n",
            " [ 1 22  0]\n",
            " [ 0  0 39]]\n",
            "[[47  1  0]\n",
            " [ 0 23  0]\n",
            " [ 0  1 38]]\n"
          ]
        }
      ]
    },
    {
      "cell_type": "code",
      "source": [
        "#overall accuracy\n",
        "print(oa(y_test, predrf))\n",
        "print(oa(y_test, predknn))\n",
        "print(oa(y_test, predsvm))"
      ],
      "metadata": {
        "colab": {
          "base_uri": "https://localhost:8080/"
        },
        "id": "3lnMCvZoiLob",
        "outputId": "6b0c9d5c-968f-43ee-e224-62a689a061d0"
      },
      "execution_count": null,
      "outputs": [
        {
          "output_type": "stream",
          "name": "stdout",
          "text": [
            "0.9818181818181818\n",
            "0.990909090909091\n",
            "0.9818181818181818\n"
          ]
        }
      ]
    },
    {
      "cell_type": "markdown",
      "source": [
        "The overall accuracy resutls are all very high for all three algorithm models, which are close to 0.98, 0.99 and 0.98 for random forestr, knearest neighbors and Support Vector Machines. Those are all very good scores as they are extreamly close to 1, which kind of made me doubt the accuracy of the model. And becuase they are high with the overall accuracy with all three models , I beleive the specices are separated with high accuracy as well. This also exlpains in the previous boxplots with all different variables for the three penguin species since they are all relativly close results among the speceis. Therefore a high accuracy should be able to separate the species "
      ],
      "metadata": {
        "id": "7DAmm0VMjIKc"
      }
    },
    {
      "cell_type": "markdown",
      "source": [
        "Task 7. Repeat the algorithm comparison. However, this time only use the\n",
        "“body_mass_g” as a predictor variable. How do the three algorithms compare if only\n",
        "one predictor variable is provided? How does the performance using only one predictor\n",
        "variable compare to that obtained when using the entire set of predictors? "
      ],
      "metadata": {
        "id": "Ock928YajvUK"
      }
    },
    {
      "cell_type": "code",
      "source": [
        "#Task7 \n",
        "rf=RandomForestClassifier(n_estimators=100, max_features=1)\n",
        "knn= KNeighborsClassifier(n_neighbors=11)\n",
        "svm=SVC()\n",
        "x_train2 = np.array([x_train_minmax[:,3]])\n",
        "\n",
        "rf2= rf.fit(x_train2.reshape(223,1), y_train)\n",
        "knn2=knn.fit(x_train2.reshape(223,1), y_train)\n",
        "svm2=rf.fit(x_train2.reshape(223,1), y_train)"
      ],
      "metadata": {
        "colab": {
          "base_uri": "https://localhost:8080/"
        },
        "id": "ysNL-gbJjvs8",
        "outputId": "73f1e9f5-781e-42ac-a2d6-c7adf233d755"
      },
      "execution_count": null,
      "outputs": [
        {
          "output_type": "stream",
          "name": "stderr",
          "text": [
            "/usr/local/lib/python3.7/dist-packages/ipykernel_launcher.py:7: DataConversionWarning: A column-vector y was passed when a 1d array was expected. Please change the shape of y to (n_samples,), for example using ravel().\n",
            "  import sys\n",
            "/usr/local/lib/python3.7/dist-packages/sklearn/neighbors/_classification.py:198: DataConversionWarning: A column-vector y was passed when a 1d array was expected. Please change the shape of y to (n_samples,), for example using ravel().\n",
            "  return self._fit(X, y)\n",
            "/usr/local/lib/python3.7/dist-packages/ipykernel_launcher.py:9: DataConversionWarning: A column-vector y was passed when a 1d array was expected. Please change the shape of y to (n_samples,), for example using ravel().\n",
            "  if __name__ == '__main__':\n"
          ]
        }
      ]
    },
    {
      "cell_type": "code",
      "source": [
        "pred_rf=rf2.predict(x_test_minmax[:,3].reshape(110,1))\n",
        "pred_knn=knn2.predict(x_test_minmax[:,3].reshape(110,1))\n",
        "pred_svm=svm2.predict(x_test_minmax[:,3].reshape(110,1))\n",
        "#OA\n",
        "print(oa(y_test, pred_rf))\n",
        "print(oa(y_test, pred_knn))\n",
        "print(oa(y_test, pred_svm))"
      ],
      "metadata": {
        "colab": {
          "base_uri": "https://localhost:8080/"
        },
        "id": "s48mn-Atmgut",
        "outputId": "761d90ea-6987-4203-c8da-dee3c7f4f3bc"
      },
      "execution_count": null,
      "outputs": [
        {
          "output_type": "stream",
          "name": "stdout",
          "text": [
            "0.7090909090909091\n",
            "0.6727272727272727\n",
            "0.7090909090909091\n"
          ]
        }
      ]
    },
    {
      "cell_type": "code",
      "source": [
        "#CM\n",
        "print(cm(y_test, pred_rf))\n",
        "print(cm(y_test, pred_knn))\n",
        "print(cm(y_test, pred_svm))"
      ],
      "metadata": {
        "colab": {
          "base_uri": "https://localhost:8080/"
        },
        "id": "p9VyUkQFoq14",
        "outputId": "963315cc-a9b9-4aba-b01b-9fc28c140c9f"
      },
      "execution_count": null,
      "outputs": [
        {
          "output_type": "stream",
          "name": "stdout",
          "text": [
            "[[35  5  8]\n",
            " [15  7  1]\n",
            " [ 3  0 36]]\n",
            "[[38  3  7]\n",
            " [22  0  1]\n",
            " [ 3  0 36]]\n",
            "[[35  5  8]\n",
            " [15  7  1]\n",
            " [ 3  0 36]]\n"
          ]
        }
      ]
    },
    {
      "cell_type": "markdown",
      "source": [
        "The result of only using one predictor variable is quite obvious comparing to the centered and scaled all predictor variables. The one predicotr variable does not produce results as accurate as the min max scaled results. The scaled all continuous predictor variables have overall accuracy around 0.98 and 0.99, while the body mass predictor only has overall accuracy socre of 0.7. Therefore this clear difference indicate that entire set of predictors could provide better results than just one predictor. "
      ],
      "metadata": {
        "id": "O9i606_Io2Ca"
      }
    }
  ]
}