{
  "nbformat": 4,
  "nbformat_minor": 0,
  "metadata": {
    "colab": {
      "provenance": [],
      "mount_file_id": "1tgWfr1waoc5C6xfBvLEDajfCz0KANxVc",
      "authorship_tag": "ABX9TyN/FNNp6KD81+xetBVYQWPG",
      "include_colab_link": true
    },
    "kernelspec": {
      "name": "python3",
      "display_name": "Python 3"
    },
    "language_info": {
      "name": "python"
    }
  },
  "cells": [
    {
      "cell_type": "markdown",
      "metadata": {
        "id": "view-in-github",
        "colab_type": "text"
      },
      "source": [
        "<a href=\"https://colab.research.google.com/github/Andyzxm/GEOG_520_open_source_method/blob/main/A_2_edited_Xinming_Zhang.ipynb\" target=\"_parent\"><img src=\"https://colab.research.google.com/assets/colab-badge.svg\" alt=\"Open In Colab\"/></a>"
      ]
    },
    {
      "cell_type": "markdown",
      "source": [
        "Task 1 Merge all all observations for each site in the same file\n",
        "\n"
      ],
      "metadata": {
        "id": "nR-3O_8cUEuT"
      }
    },
    {
      "cell_type": "code",
      "execution_count": null,
      "metadata": {
        "id": "VXk0RNQeKwov"
      },
      "outputs": [],
      "source": [
        "#Task1\n",
        "import pandas as pd\n",
        "import os\n",
        "wd1 = \"/content/drive/MyDrive/GEOG520_python_data/datasets/datasets/plots\""
      ]
    },
    {
      "cell_type": "code",
      "source": [
        "myCSVs = []\n",
        "for file in os.listdir(wd1):\n",
        "  if file.endswith('.csv'):\n",
        "    myCSVs.append(file)\n",
        "\n",
        "  myplots = os.listdir(wd1)\n",
        "print(myplots)"
      ],
      "metadata": {
        "colab": {
          "base_uri": "https://localhost:8080/"
        },
        "id": "E7EfAdmnLRml",
        "outputId": "a9a3b26e-35e1-4072-cf40-f39d28885a0c"
      },
      "execution_count": null,
      "outputs": [
        {
          "output_type": "stream",
          "name": "stdout",
          "text": [
            "['Redwood_Valley18.csv', 'Redwood_Valley11.csv', 'Redwood_Valley1.csv', 'Redwood_Valley13.csv', 'Redwood_Valley20.csv', 'Redwood_Valley19.csv', 'Redwood_Valley3.csv', 'Redwood_Valley17.csv', 'Redwood_Valley16.csv', 'Redwood_Valley10.csv', 'Redwood_Valley15.csv', 'Redwood_Valley2.csv', 'Redwood_Valley12.csv', 'Redwood_Valley14.csv', 'Redwood_Valley9.csv', 'Redwood_Valley8.csv', 'Redwood_Valley5.csv', 'Redwood_Valley4.csv', 'Redwood_Valley7.csv', 'Redwood_Valley6.csv']\n"
          ]
        }
      ]
    },
    {
      "cell_type": "code",
      "source": [
        "myData = pd.read_csv(wd1 + \"/\" + myCSVs[0])\n",
        "myData.head()"
      ],
      "metadata": {
        "id": "qyNKOG_jNZV7"
      },
      "execution_count": null,
      "outputs": []
    },
    {
      "cell_type": "code",
      "source": [
        "\n",
        "for f in range(1,len(myCSVs)):\n",
        "  myData2 = pd.read_csv(wd1 + \"/\" + myCSVs[f])\n",
        "  myData = pd.concat([myData, myData2])\n",
        "\n"
      ],
      "metadata": {
        "id": "vV1VchLoQc0o"
      },
      "execution_count": null,
      "outputs": []
    },
    {
      "cell_type": "code",
      "source": [
        "myData.to_csv(\"/content/drive/MyDrive/GEOG520_python_data\" + \"/\" + \"merged_plots.csv\")"
      ],
      "metadata": {
        "id": "5H1UpOBQTWak"
      },
      "execution_count": null,
      "outputs": []
    },
    {
      "cell_type": "markdown",
      "source": [
        "Task 2 resize the pics, convert to grey scale and save them in a new directory "
      ],
      "metadata": {
        "id": "QgDi6eKFUDrx"
      }
    },
    {
      "cell_type": "code",
      "source": [
        "#Task 2 \n",
        "import pandas as pd\n",
        "import os \n",
        "import cv2 "
      ],
      "metadata": {
        "id": "Mqh5_JISUsQF"
      },
      "execution_count": null,
      "outputs": []
    },
    {
      "cell_type": "code",
      "source": [
        "wd1 = \"/content/drive/MyDrive/GEOG520_python_data/datasets/datasets/pics\"\n"
      ],
      "metadata": {
        "id": "mdfOp4GtVrzM"
      },
      "execution_count": null,
      "outputs": []
    },
    {
      "cell_type": "code",
      "source": [
        "myPICs = []\n",
        "for file in os.listdir(wd1):\n",
        "  if file.endswith('jpg'):\n",
        "    myPICs.append(file)\n",
        "\n",
        "myPICs = os.listdir(wd1)\n",
        "print(myPICs)"
      ],
      "metadata": {
        "colab": {
          "base_uri": "https://localhost:8080/"
        },
        "id": "xKUitLHqWI7n",
        "outputId": "9653847d-e278-42ff-ea50-112f41a0dd33"
      },
      "execution_count": null,
      "outputs": [
        {
          "output_type": "stream",
          "name": "stdout",
          "text": [
            "['_DSC3776.jpg', '_DSC3622.jpg', '_DSC3656.jpg', '_DSC4322.jpg', '_DSC5051.jpg', '_DSC4873.jpg', '_DSC4382.jpg', '_DSC4884.jpg', '_DSC4834.jpg', '_DSC3783.jpg', '_DSC4449.jpg', '_DSC4074.jpg', '_DSC3955.jpg', '_DSC3937.jpg', '_DSC5112.jpg']\n"
          ]
        }
      ]
    },
    {
      "cell_type": "code",
      "source": [
        "Newres = (1232,812)\n",
        "for p in range(0, len(myPICs)):\n",
        "  img = cv2.imread(wd1 + \"/\" + myPICs[p])\n",
        "  img2 = cv2.resize(img, Newres)\n",
        "  img3 = cv2.cvtColor(img2, cv2.COLOR_BGR2GRAY)\n",
        "  cv2.imwrite(\"/content/drive/MyDrive/GEOG520_python_data/output\" + \"/\" + myPICs[p], img3)"
      ],
      "metadata": {
        "id": "AMcr3c62X_NL"
      },
      "execution_count": null,
      "outputs": []
    },
    {
      "cell_type": "markdown",
      "source": [
        "Task 3 Use for loops to create 10 empty sub-directories inside of a main folder. Within\n",
        "each subdirectory, create 100 folders. \n",
        "\n"
      ],
      "metadata": {
        "id": "6CjjKrSOc9-F"
      }
    },
    {
      "cell_type": "code",
      "source": [
        "#Task 3 \n",
        "import os"
      ],
      "metadata": {
        "id": "FElyfRDvdUS3"
      },
      "execution_count": null,
      "outputs": []
    },
    {
      "cell_type": "code",
      "source": [
        "from pandas.io.parsers.readers import MANDATORY_DIALECT_ATTRS\n",
        "myDir = \"/content/drive/MyDrive/GEOG520_python_data/output\"\n",
        "os.mkdir(myDir)\n",
        "for i in range(1,11):\n",
        "  os.mkdir(myDir + \"/Folder_\" + str(i))\n",
        "  for k in range(1,101):\n",
        "    os.mkdir(myDir + \"/Folder_\" + str(i) + \"/subfolder_\" + str(k))"
      ],
      "metadata": {
        "id": "M_ZmkbUVdw9u"
      },
      "execution_count": null,
      "outputs": []
    },
    {
      "cell_type": "code",
      "source": [
        "myfolder = \"/content/drive/MyDrive/GEOG520_python_data/folder\"\n",
        "os.mkdir(myfolder)\n",
        "for i in range(1,11):\n",
        "  os.mkdir(myfolder + \"/Folder_\" + str(i))\n",
        "  for k in range(1,101):\n",
        "    os.mkdir(myfolder + \"/Folder_\" + str(i) + \"/subfolder_\" + str(k))"
      ],
      "metadata": {
        "id": "_D0WboVEg7GD"
      },
      "execution_count": null,
      "outputs": []
    }
  ]
}