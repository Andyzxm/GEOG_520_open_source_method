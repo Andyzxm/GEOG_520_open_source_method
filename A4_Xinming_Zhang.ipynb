{
  "nbformat": 4,
  "nbformat_minor": 0,
  "metadata": {
    "colab": {
      "provenance": [],
      "authorship_tag": "ABX9TyNLc0pltos50T84H+EdB6L5",
      "include_colab_link": true
    },
    "kernelspec": {
      "name": "python3",
      "display_name": "Python 3"
    },
    "language_info": {
      "name": "python"
    }
  },
  "cells": [
    {
      "cell_type": "markdown",
      "metadata": {
        "id": "view-in-github",
        "colab_type": "text"
      },
      "source": [
        "<a href=\"https://colab.research.google.com/github/Andyzxm/GEOG_520_open_source_method/blob/main/A4_Xinming_Zhang.ipynb\" target=\"_parent\"><img src=\"https://colab.research.google.com/assets/colab-badge.svg\" alt=\"Open In Colab\"/></a>"
      ]
    },
    {
      "cell_type": "code",
      "execution_count": null,
      "metadata": {
        "id": "gyQP5cVzWD9-",
        "colab": {
          "base_uri": "https://localhost:8080/"
        },
        "outputId": "666b7bba-b0d2-4dec-f5b9-d7a54c762128"
      },
      "outputs": [
        {
          "output_type": "stream",
          "name": "stdout",
          "text": [
            "6.0 $\n"
          ]
        }
      ],
      "source": [
        "\n",
        "#Task 1 Task 1: Create a function that will calculate the amount of a tip if provided the cost of the meal and the tip percentage.\n",
        "a = \"cost of meal\"\n",
        "b = \"tip percentage\"\n",
        "import math as m \n",
        "def tip(a,b):\n",
        "  c = a*b \n",
        "  return c \n",
        "x = str(tip(40,0.15)) + str(\" $\")\n",
        "print(x)"
      ]
    },
    {
      "cell_type": "code",
      "source": [
        "# Task 2 : Create a function that will calculate the area of a cylinder if provided the cylinder’s radius and height\n",
        "import math as m\n",
        "\n",
        "def cylinder(r, h):\n",
        "  sa= 2*m.pi* r * h + 2*m.pi*m.pow(r,2)\n",
        "  return sa\n",
        "print(cylinder(10,5))"
      ],
      "metadata": {
        "id": "x_hGdxvudOcd",
        "colab": {
          "base_uri": "https://localhost:8080/"
        },
        "outputId": "94370b4b-9094-4e8c-d673-fc1325d6ee83"
      },
      "execution_count": null,
      "outputs": [
        {
          "output_type": "stream",
          "name": "stdout",
          "text": [
            "942.4777960769379\n"
          ]
        }
      ]
    },
    {
      "cell_type": "code",
      "source": [
        "# Task 3 Create a function to convert between any of the following units for measuring pressure: Pascals (Pa), pounds per square inch (PSI), atmospheres (atm), and Torr\n",
        "# Task 03\n",
        "units = (\"Pa\", \"PSI\", \"atm\", \"Torr\")\n",
        "\n",
        "def press_func(value, unitIN, unitOUT): # Create a function that will read what unit of pressure (Pa, PSI, atm, or Torr) and converts\n",
        "    if (unitIN == \"Pa\") and (unitOUT == \"PSI\"):\n",
        "      press = value * 0.00014504\n",
        "    elif (unitIN == \"Pa\") and (unitOUT == \"atm\"):\n",
        "      press = value * 0.00000987\n",
        "    elif (unitIN == \"Pa\") and (unitOUT == \"Torr\"):\n",
        "      press = value * 0.0075006168\n",
        "    elif (unitIN == \"PSI\") and (unitOUT == \"Pa\"):\n",
        "      press = value * 6894.7572931783\n",
        "    elif (unitIN == \"PSI\") and (unitOUT == \"atm\"):\n",
        "      press = value * 0.06804596\n",
        "    elif (unitIN == \"PSI\") and (unitOUT == \"Torr\"):\n",
        "      press = value * 51.7149326\n",
        "    elif (unitIN == \"atm\") and (unitOUT == \"Pa\"):\n",
        "      press = value * 101325\n",
        "    elif (unitIN == \"atm\") and (unitOUT == \"PSI\"):\n",
        "      press = value * 14.6959488\n",
        "    elif (unitIN == \"atm\") and (unitOUT == \"Torr\"):\n",
        "      press = value * 760\n",
        "    elif (unitIN == \"Torr\") and (unitOUT == \"Pa\"):\n",
        "      press = value * 133.3223684211\n",
        "    elif (unitIN == \"Torr\") and (unitOUT == \"PSI\"):\n",
        "      press = value * 0.01933677\n",
        "    elif (unitIN == \"Torr\") and (unitOUT == \"atm\"):\n",
        "      press = value * 0.00131579\n",
        "    press_units = str(press) + \" \" + str(unitOUT)\n",
        "    return press_units\n",
        "\n",
        "print(press_func(200, \"Pa\", \"PSI\"))\n",
        "print(press_func(200, \"Pa\", \"atm\"))\n",
        "print(press_func(200, \"Pa\", \"Torr\"))\n",
        "print(press_func(200, \"PSI\", \"Pa\"))\n",
        "print(press_func(200, \"PSI\", \"atm\"))\n",
        "print(press_func(200, \"PSI\", \"Torr\"))\n",
        "print(press_func(200, \"atm\", \"Pa\"))\n",
        "print(press_func(200, \"atm\", \"PSI\"))\n",
        "print(press_func(200, \"atm\", \"Torr\"))\n",
        "print(press_func(200, \"Torr\", \"Pa\"))\n",
        "print(press_func(200, \"Torr\", \"PSI\"))\n",
        "print(press_func(200, \"Torr\", \"atm\"))"
      ],
      "metadata": {
        "id": "iyQP-07uw8ml",
        "colab": {
          "base_uri": "https://localhost:8080/"
        },
        "outputId": "8411a45a-f5fb-4dc6-bb27-5a301f15135f"
      },
      "execution_count": null,
      "outputs": [
        {
          "output_type": "stream",
          "name": "stdout",
          "text": [
            "0.029008000000000003 PSI\n",
            "0.001974 atm\n",
            "1.5001233600000001 Torr\n",
            "1378951.45863566 Pa\n",
            "13.609192 atm\n",
            "10342.986519999999 Torr\n",
            "20265000 Pa\n",
            "2939.18976 PSI\n",
            "152000 Torr\n",
            "26664.47368422 Pa\n",
            "3.8673539999999997 PSI\n",
            "0.263158 atm\n"
          ]
        }
      ]
    },
    {
      "cell_type": "code",
      "source": [
        "#Task 4  Create a function that will calculate the dominant wavelength of radiation released by a body based on the body’s temperature using Wien’s Law\n",
        "\n",
        "#Wien’s displacement constant\n",
        "b = 0.002897771955 # meter-kelvin\n",
        "\n",
        "def dominant_Wave(value, unitIN, unitOUT): \n",
        "    if (unitIN == \"k\") and (unitOUT == \"cm\"):\n",
        "      domint = (b/value) * 0.01\n",
        "    elif (unitIN == \"k\") and (unitOUT == \"μm\"):\n",
        "      domint= (b/value) * 0.000001\n",
        "    elif (unitIN == \"k\") and (unitOUT == \"nm\"):\n",
        "      domint = (b/value) * 0.000000001\n",
        "    return domint\n",
        "print(dominant_Wave(250,\"k\",\"cm\"))\n",
        "print(dominant_Wave(100,\"k\",\"μm\"))\n",
        "print(dominant_Wave(310,\"k\",\"nm\"))"
      ],
      "metadata": {
        "colab": {
          "base_uri": "https://localhost:8080/"
        },
        "id": "9i6a24VO0qxc",
        "outputId": "d8b14bde-36cf-4497-a288-5c7eba0be5e7"
      },
      "execution_count": null,
      "outputs": [
        {
          "output_type": "stream",
          "name": "stdout",
          "text": [
            "1.1591087820000001e-07\n",
            "2.897771955e-11\n",
            "9.347651467741935e-15\n"
          ]
        }
      ]
    },
    {
      "cell_type": "code",
      "source": [
        "# Task 5 calculate the wavelength of electromagnetic radiation if provided the frequency or the frequency if provided the wavelength\n",
        "# fucntion:  wavelenght(lamda)= speed of light(c)/ frequence(v)\n",
        "c = 299792458 #meter/s\n",
        "def wavelength (value, unitIN, unitOUT):\n",
        "  if (unitIN == \"Hz\") and (unitOUT == \"cm\"):\n",
        "      wave = (c/ value) * 0.001\n",
        "  elif (unitIN == \"Hz\") and (unitOUT == \"μm\"): \n",
        "      wave = (c/ value) * 0.000001\n",
        "  elif (unitIN == \"Hz\") and (unitOUT == \"nm\"): \n",
        "      wave = (c/ value) * 0.000000001\n",
        "  elif (unitIN == \"cm\") and (unitOUT == \"Hz\"): \n",
        "      wave = (value * 0.001)/ c\n",
        "  elif (unitIN == \"μm\") and (unitOUT == \"Hz\"): \n",
        "      wave = (value * 0.000001)/ c\n",
        "  elif (unitIN == \"nm\") and (unitOUT == \"Hz\"): \n",
        "      wave = (value * 0.000000001)/ c\n",
        "  wave_units = str(wave) + \" \" + str(unitOUT)\n",
        "  return wave_units\n",
        "\n",
        "print(wavelength(100, \"Hz\", \"cm\"))\n",
        "print(wavelength(100, \"Hz\", \"μm\"))\n",
        "print(wavelength(100, \"Hz\", \"nm\"))\n",
        "print(wavelength(200, \"cm\", \"Hz\"))\n",
        "print(wavelength(200, \"μm\", \"Hz\"))\n",
        "print(wavelength(200, \"nm\", \"Hz\"))\n"
      ],
      "metadata": {
        "colab": {
          "base_uri": "https://localhost:8080/"
        },
        "id": "cgkLEOdl7UC7",
        "outputId": "8112ee97-ed5a-4b20-beba-796926427c98"
      },
      "execution_count": null,
      "outputs": [
        {
          "output_type": "stream",
          "name": "stdout",
          "text": [
            "2997.9245800000003 cm\n",
            "2.99792458 μm\n",
            "0.00299792458 nm\n",
            "6.671281903963041e-10 Hz\n",
            "6.67128190396304e-13 Hz\n",
            "6.671281903963042e-16 Hz\n"
          ]
        }
      ]
    }
  ]
}